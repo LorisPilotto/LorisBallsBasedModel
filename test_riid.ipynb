{
 "cells": [
  {
   "cell_type": "code",
   "execution_count": 1,
   "id": "203867a9-07b9-4244-802e-e5ecffecddc7",
   "metadata": {},
   "outputs": [],
   "source": [
    "import numpy as np\n",
    "import pandas as pd\n",
    "from sklearn.model_selection import train_test_split\n",
    "from sklearn import metrics\n",
    "from sklearn.metrics import roc_auc_score, accuracy_score, f1_score,roc_curve,classification_report\n",
    "import tensorflow as tf\n",
    "\n",
    "#tf.compat.v1.disable_eager_execution()\n",
    "\n",
    "from LorisBallsBasedModel import *"
   ]
  },
  {
   "cell_type": "markdown",
   "id": "3a21e655-79b2-4b5a-b3a6-869251cd2324",
   "metadata": {},
   "source": [
    "https://www.kaggle.com/riteshkrjha/riiid-quick-tabnet-vs-xgboost"
   ]
  },
  {
   "cell_type": "code",
   "execution_count": 2,
   "id": "121c9cf9-d297-4488-8aca-ba89502e86f1",
   "metadata": {},
   "outputs": [],
   "source": [
    "train = pd.read_csv('./data/riid/train.csv',\n",
    "                   usecols=[1, 2, 3, 4, 5, 7, 8, 9],\n",
    "                   dtype={'timestamp': 'int64',\n",
    "                          'user_id': 'int32',\n",
    "                          'content_id': 'int16',\n",
    "                          'content_type_id': 'int8',\n",
    "                          'task_container_id': 'int16',\n",
    "                          'answered_correctly':'int8',\n",
    "                          'prior_question_elapsed_time': 'float32',\n",
    "                          'prior_question_had_explanation': 'boolean'}\n",
    "                   )"
   ]
  },
  {
   "cell_type": "code",
   "execution_count": 3,
   "id": "9e54558c-5902-480c-8420-672bb7bffd5c",
   "metadata": {},
   "outputs": [],
   "source": [
    "# Remove lectures and additional processing\n",
    "train = train[train.content_type_id == False]\n",
    "\n",
    "train = train.sort_values(['timestamp'], ascending=True)\n",
    "train.drop(['timestamp','content_type_id'], axis=1, inplace=True)"
   ]
  },
  {
   "cell_type": "code",
   "execution_count": 4,
   "id": "bfec886c-d7f4-4ede-a894-1af394af1ed2",
   "metadata": {},
   "outputs": [],
   "source": [
    "# Read Questions and Lectures\n",
    "questions = pd.read_csv('./data/riid/questions.csv')\n",
    "lectures = pd.read_csv('./data/riid/lectures.csv')"
   ]
  },
  {
   "cell_type": "code",
   "execution_count": 5,
   "id": "3a08cd92-f8a3-4ac8-8b6a-a56b6cc747fc",
   "metadata": {},
   "outputs": [],
   "source": [
    "# Merge train with Questions\n",
    "train = pd.merge(train, questions, left_on = 'content_id', right_on = 'question_id', how = 'left')"
   ]
  },
  {
   "cell_type": "code",
   "execution_count": 6,
   "id": "0dba9c1b-9318-48a8-b3c6-b98685cf2de7",
   "metadata": {},
   "outputs": [],
   "source": [
    "#Indicator for first question in a batch\n",
    "train['firstQindicator'] = np.where(train['prior_question_elapsed_time'].isnull(),1,0)\n",
    "train['prior_question_elapsed_time'] = np.where(train['prior_question_elapsed_time'].isnull(),\n",
    "                                                0,train['prior_question_elapsed_time'])"
   ]
  },
  {
   "cell_type": "code",
   "execution_count": 7,
   "id": "d57b22b6-24dc-4883-b49e-6e5afa02d76f",
   "metadata": {},
   "outputs": [
    {
     "data": {
      "text/html": [
       "<div>\n",
       "<style scoped>\n",
       "    .dataframe tbody tr th:only-of-type {\n",
       "        vertical-align: middle;\n",
       "    }\n",
       "\n",
       "    .dataframe tbody tr th {\n",
       "        vertical-align: top;\n",
       "    }\n",
       "\n",
       "    .dataframe thead th {\n",
       "        text-align: right;\n",
       "    }\n",
       "</style>\n",
       "<table border=\"1\" class=\"dataframe\">\n",
       "  <thead>\n",
       "    <tr style=\"text-align: right;\">\n",
       "      <th></th>\n",
       "      <th>user_id</th>\n",
       "      <th>content_id</th>\n",
       "      <th>task_container_id</th>\n",
       "      <th>answered_correctly</th>\n",
       "      <th>prior_question_elapsed_time</th>\n",
       "      <th>prior_question_had_explanation</th>\n",
       "      <th>question_id</th>\n",
       "      <th>bundle_id</th>\n",
       "      <th>correct_answer</th>\n",
       "      <th>part</th>\n",
       "      <th>tags</th>\n",
       "      <th>firstQindicator</th>\n",
       "    </tr>\n",
       "  </thead>\n",
       "  <tbody>\n",
       "    <tr>\n",
       "      <th>0</th>\n",
       "      <td>115</td>\n",
       "      <td>5692</td>\n",
       "      <td>1</td>\n",
       "      <td>1</td>\n",
       "      <td>0.0</td>\n",
       "      <td>&lt;NA&gt;</td>\n",
       "      <td>5692</td>\n",
       "      <td>5692</td>\n",
       "      <td>3</td>\n",
       "      <td>5</td>\n",
       "      <td>151</td>\n",
       "      <td>1</td>\n",
       "    </tr>\n",
       "    <tr>\n",
       "      <th>1</th>\n",
       "      <td>1805962620</td>\n",
       "      <td>5547</td>\n",
       "      <td>0</td>\n",
       "      <td>0</td>\n",
       "      <td>0.0</td>\n",
       "      <td>&lt;NA&gt;</td>\n",
       "      <td>5547</td>\n",
       "      <td>5547</td>\n",
       "      <td>0</td>\n",
       "      <td>5</td>\n",
       "      <td>8</td>\n",
       "      <td>1</td>\n",
       "    </tr>\n",
       "    <tr>\n",
       "      <th>2</th>\n",
       "      <td>2015251289</td>\n",
       "      <td>4024</td>\n",
       "      <td>0</td>\n",
       "      <td>1</td>\n",
       "      <td>0.0</td>\n",
       "      <td>&lt;NA&gt;</td>\n",
       "      <td>4024</td>\n",
       "      <td>4024</td>\n",
       "      <td>0</td>\n",
       "      <td>5</td>\n",
       "      <td>173</td>\n",
       "      <td>1</td>\n",
       "    </tr>\n",
       "    <tr>\n",
       "      <th>3</th>\n",
       "      <td>867941388</td>\n",
       "      <td>6659</td>\n",
       "      <td>0</td>\n",
       "      <td>1</td>\n",
       "      <td>0.0</td>\n",
       "      <td>&lt;NA&gt;</td>\n",
       "      <td>6659</td>\n",
       "      <td>6659</td>\n",
       "      <td>3</td>\n",
       "      <td>5</td>\n",
       "      <td>53</td>\n",
       "      <td>1</td>\n",
       "    </tr>\n",
       "    <tr>\n",
       "      <th>4</th>\n",
       "      <td>867946278</td>\n",
       "      <td>3977</td>\n",
       "      <td>0</td>\n",
       "      <td>1</td>\n",
       "      <td>0.0</td>\n",
       "      <td>&lt;NA&gt;</td>\n",
       "      <td>3977</td>\n",
       "      <td>3977</td>\n",
       "      <td>2</td>\n",
       "      <td>5</td>\n",
       "      <td>177</td>\n",
       "      <td>1</td>\n",
       "    </tr>\n",
       "  </tbody>\n",
       "</table>\n",
       "</div>"
      ],
      "text/plain": [
       "      user_id  content_id  task_container_id  answered_correctly  \\\n",
       "0         115        5692                  1                   1   \n",
       "1  1805962620        5547                  0                   0   \n",
       "2  2015251289        4024                  0                   1   \n",
       "3   867941388        6659                  0                   1   \n",
       "4   867946278        3977                  0                   1   \n",
       "\n",
       "   prior_question_elapsed_time  prior_question_had_explanation  question_id  \\\n",
       "0                          0.0                            <NA>         5692   \n",
       "1                          0.0                            <NA>         5547   \n",
       "2                          0.0                            <NA>         4024   \n",
       "3                          0.0                            <NA>         6659   \n",
       "4                          0.0                            <NA>         3977   \n",
       "\n",
       "   bundle_id  correct_answer  part tags  firstQindicator  \n",
       "0       5692               3     5  151                1  \n",
       "1       5547               0     5    8                1  \n",
       "2       4024               0     5  173                1  \n",
       "3       6659               3     5   53                1  \n",
       "4       3977               2     5  177                1  "
      ]
     },
     "execution_count": 7,
     "metadata": {},
     "output_type": "execute_result"
    }
   ],
   "source": [
    "train.head()"
   ]
  },
  {
   "cell_type": "code",
   "execution_count": 8,
   "id": "30571378-a517-43b1-8d53-c23137c0f590",
   "metadata": {},
   "outputs": [],
   "source": [
    "# Remove unused columns\n",
    "del train['question_id']\n",
    "del train['bundle_id']\n",
    "del train['correct_answer']\n",
    "del train['tags']"
   ]
  },
  {
   "cell_type": "code",
   "execution_count": 9,
   "id": "65944338-5585-42d8-93b3-48feadc34fec",
   "metadata": {},
   "outputs": [
    {
     "data": {
      "text/plain": [
       "0"
      ]
     },
     "execution_count": 9,
     "metadata": {},
     "output_type": "execute_result"
    }
   ],
   "source": [
    "import gc\n",
    "gc.collect()"
   ]
  },
  {
   "cell_type": "code",
   "execution_count": 10,
   "id": "e6a110b6-0a06-463b-a4b8-69dc103940ba",
   "metadata": {},
   "outputs": [],
   "source": [
    "train.prior_question_had_explanation = train.prior_question_had_explanation.astype(object)\n",
    "train.prior_question_had_explanation = np.where(train.prior_question_had_explanation=='True',1,0)"
   ]
  },
  {
   "cell_type": "code",
   "execution_count": 11,
   "id": "73287611-444c-44ba-be35-9a466ee456a3",
   "metadata": {},
   "outputs": [],
   "source": [
    "# Sample 5M records\n",
    "train = train.sample(n=5000000)"
   ]
  },
  {
   "cell_type": "code",
   "execution_count": 12,
   "id": "4c5c38ea-5fb9-43ba-bb94-14f1148175a1",
   "metadata": {},
   "outputs": [],
   "source": [
    "# train test split\n",
    "xtrain, xvalid, ytrain, yvalid = train_test_split(train.drop(['answered_correctly'],axis=1), \n",
    "                                                  train['answered_correctly'],\n",
    "                                                  random_state=42, \n",
    "                                                  test_size=0.2, \n",
    "                                                  shuffle=True)"
   ]
  },
  {
   "cell_type": "code",
   "execution_count": 44,
   "id": "c3ea62cd-d743-498a-94db-12083de21e6d",
   "metadata": {},
   "outputs": [],
   "source": [
    "\"\"\"@tf.function\n",
    "def graph():\n",
    "    return LorisBallsBasedModel(nbr_steps=4,\n",
    "                                first_step_args={'attentive_transformer': FirstAttentiveTransformer,\n",
    "                                                 'attentive_transformer_params_dict': {'dropout_rate': 0.05},\n",
    "                                                 'features_outputs_units': 6,\n",
    "                                                 'features_pass_next_step_units': 3,\n",
    "                                                },\n",
    "                                step_args={'attentive_transformer': AttentiveTransformer,\n",
    "                                           'attentive_transformer_params_dict': {'gamma': 0.1,\n",
    "                                                                                 'dropout_rate': 0.05},\n",
    "                                           'features_outputs_units': 6,\n",
    "                                           'features_pass_next_step_units': 3,\n",
    "                                           'prior_outputs_units': 3,\n",
    "                                          },\n",
    "                                output_layer=tf.keras.layers.Dense(1, 'sigmoid'),\n",
    "                                input_processing_layer=tf.keras.layers.BatchNormalization(),\n",
    "                               )\n",
    "LBBM = graph()\"\"\"\n",
    "LBBM = LorisBallsBasedModel(nbr_steps=4,\n",
    "                            first_step_args={'attentive_transformer': FirstAttentiveTransformer,\n",
    "                                             'attentive_transformer_params_dict': {'dropout_rate': .05,\n",
    "                                                                                   'regularizer': tf.keras.regularizers.L1(0.00),\n",
    "                                                                                   'entropy_weight': 0.,\n",
    "                                                                                   'activation': tf.keras.activations.get('sigmoid')\n",
    "                                                                                  },\n",
    "                                             'features_outputs_units': 8,\n",
    "                                             'features_pass_next_step_units': 3,\n",
    "                                            },\n",
    "                            step_args={'attentive_transformer': AttentiveTransformer,\n",
    "                                       'attentive_transformer_params_dict': {'gamma': 1.5,\n",
    "                                                                             'dropout_rate': .05,\n",
    "                                                                             'regularizer': tf.keras.regularizers.L1(0.00),\n",
    "                                                                             'entropy_weight': 0.,\n",
    "                                                                             'activation': tf.keras.activations.get('sigmoid')\n",
    "                                                                            },\n",
    "                                       'features_outputs_units': 8,\n",
    "                                       'features_pass_next_step_units': 3,\n",
    "                                       'prior_outputs_units': 3,\n",
    "                                      },\n",
    "                            output_layer=tf.keras.layers.Dense(1, 'sigmoid'),\n",
    "                            input_processing_layer=tf.keras.layers.BatchNormalization(),\n",
    "                           )"
   ]
  },
  {
   "cell_type": "code",
   "execution_count": 87,
   "id": "7d8cf0e6-32ca-4d66-80f8-7533fa3f07f8",
   "metadata": {},
   "outputs": [],
   "source": [
    "LBBM.compile(loss=tf.keras.losses.binary_crossentropy, optimizer=tf.keras.optimizers.Adam(learning_rate=0.0000001), metrics=['acc'])"
   ]
  },
  {
   "cell_type": "code",
   "execution_count": 88,
   "id": "c3a3b186-6442-406e-82ae-927db0a509b7",
   "metadata": {},
   "outputs": [
    {
     "data": {
      "text/plain": [
       "(4000000, 7)"
      ]
     },
     "execution_count": 88,
     "metadata": {},
     "output_type": "execute_result"
    }
   ],
   "source": [
    "xtrain.values.shape"
   ]
  },
  {
   "cell_type": "code",
   "execution_count": 89,
   "id": "8fa12036-d873-49a5-bc9e-362fcb1b5680",
   "metadata": {},
   "outputs": [
    {
     "data": {
      "text/plain": [
       "(4000000,)"
      ]
     },
     "execution_count": 89,
     "metadata": {},
     "output_type": "execute_result"
    }
   ],
   "source": [
    "ytrain.values.shape"
   ]
  },
  {
   "cell_type": "code",
   "execution_count": 90,
   "id": "5d02fd46-8ab7-43dc-a005-72b775b72c4e",
   "metadata": {},
   "outputs": [],
   "source": [
    "train_tensor = tf.data.Dataset.from_tensor_slices((xtrain.values,\n",
    "                                                   ytrain.values)).batch(10000)"
   ]
  },
  {
   "cell_type": "code",
   "execution_count": 91,
   "id": "f7f5b517-c21d-4cd4-a4cd-cc0e56ee4f96",
   "metadata": {},
   "outputs": [
    {
     "name": "stdout",
     "output_type": "stream",
     "text": [
      "Epoch 1/3\n",
      "400/400 [==============================] - 324s 765ms/step - loss: 0.6260 - acc: 0.6679\n",
      "Epoch 2/3\n",
      "400/400 [==============================] - 297s 744ms/step - loss: 0.6260 - acc: 0.6680\n",
      "Epoch 3/3\n",
      "400/400 [==============================] - 274s 685ms/step - loss: 0.6260 - acc: 0.6680\n"
     ]
    }
   ],
   "source": [
    "history = LBBM.fit(train_tensor, epochs=3, verbose=1)"
   ]
  },
  {
   "cell_type": "code",
   "execution_count": 19,
   "id": "613e3439-1aa4-4391-b33d-13772f617216",
   "metadata": {},
   "outputs": [
    {
     "ename": "SyntaxError",
     "evalue": "invalid syntax (Temp/ipykernel_2228/1882533749.py, line 1)",
     "output_type": "error",
     "traceback": [
      "\u001b[1;36m  File \u001b[1;32m\"C:\\Users\\loris\\AppData\\Local\\Temp/ipykernel_2228/1882533749.py\"\u001b[1;36m, line \u001b[1;32m1\u001b[0m\n\u001b[1;33m    gamma=0.1 -> 400/400 [==============================] - 65s 156ms/step - batch: 199.5000 - size: 1.0000 - loss: 0.6398 - acc: 0.6527\u001b[0m\n\u001b[1;37m              ^\u001b[0m\n\u001b[1;31mSyntaxError\u001b[0m\u001b[1;31m:\u001b[0m invalid syntax\n"
     ]
    }
   ],
   "source": [
    "gamma=0.1 -> 400/400 [==============================] - 65s 156ms/step - batch: 199.5000 - size: 1.0000 - loss: 0.6398 - acc: 0.6527\n",
    "gamma=0.9 -> 400/400 [==============================] - 62s 149ms/step - batch: 199.5000 - size: 1.0000 - loss: 0.6379 - acc: 0.6569\n",
    "gamma=1 -> 400/400 [==============================] - 76s 182ms/step - batch: 199.5000 - size: 1.0000 - loss: 0.6383 - acc: 0.6561\n",
    "gamma=1.1 -> 400/400 [==============================] - 91s 216ms/step - batch: 199.5000 - size: 1.0000 - loss: 0.6380 - acc: 0.6570\n",
    "gamma=2 -> 400/400 [==============================] - 93s 220ms/step - batch: 199.5000 - size: 1.0000 - loss: 0.6546 - acc: 0.6354\n",
    "=> gamma=1.1\n",
    "\n",
    "entropy_weight=0. -> 400/400 [==============================] - 57s 136ms/step - batch: 199.5000 - size: 1.0000 - loss: 0.6395 - acc: 0.6573\n",
    "entropy_weight=0.001 -> 400/400 [==============================] - 68s 162ms/step - batch: 199.5000 - size: 1.0000 - loss: 0.6452 - acc: 0.6468\n",
    "entropy_weight=0.01 -> 400/400 [==============================] - 80s 191ms/step - batch: 199.5000 - size: 1.0000 - loss: 0.6583 - acc: 0.6470\n",
    "entropy_weight=0.1 -> 400/400 [==============================] - 99s 237ms/step - batch: 199.5000 - size: 1.0000 - loss: 0.6841 - acc: 0.6506\n",
    "=> entropy_weight=0.\n",
    "\n",
    "drop_rate=0 -> 400/400 [==============================] - 98s 228ms/step - batch: 199.5000 - size: 1.0000 - loss: 0.6388 - acc: 0.6558\n",
    "drop_rate=0.05 -> 400/400 [==============================] - 57s 138ms/step - batch: 199.5000 - size: 1.0000 - loss: 0.6377 - acc: 0.6568\n",
    "drop_rate=0.1 -> 400/400 [==============================] - 75s 182ms/step - batch: 199.5000 - size: 1.0000 - loss: 0.6381 - acc: 0.6570\n",
    "drop_rate=0.2 -> 400/400 [==============================] - 90s 215ms/step - batch: 199.5000 - size: 1.0000 - loss: 0.6396 - acc: 0.6557\n",
    "drop_rate=0.5 -> 400/400 [==============================] - 103s 248ms/step - batch: 199.5000 - size: 1.0000 - loss: 0.6401 - acc: 0.6560\n",
    "=> drop_rate=0.05\n",
    "\n",
    "WITH LBB layers:\n",
    "    No batchNorm:\n",
    "400/400 [==============================] - 75s 181ms/step - batch: 199.5000 - size: 1.0000 - loss: 0.6387 - acc: 0.6553\n",
    "    With batchNorm:\n",
    "400/400 [==============================] - 236s 536ms/step - loss: 0.6557 - acc: 0.6457"
   ]
  },
  {
   "cell_type": "code",
   "execution_count": 92,
   "id": "645745ed-2581-434e-8398-afa73e9f303c",
   "metadata": {},
   "outputs": [
    {
     "data": {
      "text/plain": [
       "array([[1.80850321e+09, 2.79000000e+02, 2.25000000e+02, 1.90000000e+04,\n",
       "        0.00000000e+00, 2.00000000e+00, 0.00000000e+00],\n",
       "       [1.33861174e+09, 5.26500000e+03, 1.60800000e+03, 9.20000000e+04,\n",
       "        0.00000000e+00, 5.00000000e+00, 0.00000000e+00],\n",
       "       [1.94689503e+09, 1.06080000e+04, 3.93500000e+03, 1.20000000e+04,\n",
       "        0.00000000e+00, 1.00000000e+00, 0.00000000e+00],\n",
       "       [4.99402949e+08, 6.44000000e+03, 7.17000000e+02, 1.00000000e+04,\n",
       "        0.00000000e+00, 5.00000000e+00, 0.00000000e+00],\n",
       "       [1.04603138e+09, 9.98200000e+03, 8.30000000e+01, 5.00000000e+03,\n",
       "        0.00000000e+00, 5.00000000e+00, 0.00000000e+00],\n",
       "       [1.95211298e+09, 3.09800000e+03, 6.60000000e+01, 3.46670000e+04,\n",
       "        0.00000000e+00, 4.00000000e+00, 0.00000000e+00],\n",
       "       [1.03253439e+09, 4.17100000e+03, 3.74800000e+03, 1.60000000e+04,\n",
       "        0.00000000e+00, 5.00000000e+00, 0.00000000e+00],\n",
       "       [1.03814973e+08, 4.80000000e+01, 2.99000000e+02, 1.60000000e+04,\n",
       "        0.00000000e+00, 1.00000000e+00, 0.00000000e+00],\n",
       "       [8.76029203e+08, 4.22100000e+03, 2.31100000e+03, 1.70000000e+04,\n",
       "        0.00000000e+00, 5.00000000e+00, 0.00000000e+00]])"
      ]
     },
     "execution_count": 92,
     "metadata": {},
     "output_type": "execute_result"
    }
   ],
   "source": [
    "xvalid.values[:9]"
   ]
  },
  {
   "cell_type": "code",
   "execution_count": 93,
   "id": "b34a7294-9524-47a1-9452-0684a931f70d",
   "metadata": {},
   "outputs": [
    {
     "data": {
      "text/plain": [
       "array([0, 1, 1, 1, 1, 1, 1, 1, 0], dtype=int8)"
      ]
     },
     "execution_count": 93,
     "metadata": {},
     "output_type": "execute_result"
    }
   ],
   "source": [
    "yvalid.values[:9]"
   ]
  },
  {
   "cell_type": "code",
   "execution_count": 94,
   "id": "91ec0aa0-47d9-49ef-872f-5899ec1ea397",
   "metadata": {},
   "outputs": [
    {
     "data": {
      "text/plain": [
       "array([[0.6977075 ],\n",
       "       [0.62691635],\n",
       "       [0.8743913 ],\n",
       "       [0.61857045],\n",
       "       [0.60645056],\n",
       "       [0.6197764 ],\n",
       "       [0.6250372 ],\n",
       "       [0.7724538 ],\n",
       "       [0.64981365]], dtype=float32)"
      ]
     },
     "execution_count": 94,
     "metadata": {},
     "output_type": "execute_result"
    }
   ],
   "source": [
    "LBBM.predict(xvalid.values[:9])"
   ]
  },
  {
   "cell_type": "code",
   "execution_count": 95,
   "id": "0b33b5de-3103-4148-8fd2-2d122cd3ec95",
   "metadata": {},
   "outputs": [
    {
     "data": {
      "text/plain": [
       "[<tf.Tensor: shape=(1, 7), dtype=float32, numpy=\n",
       " array([[0.5029239 , 0.42061815, 0.5069419 , 0.64440614, 0.4996157 ,\n",
       "         0.48026425, 0.5029309 ]], dtype=float32)>,\n",
       " <tf.Tensor: shape=(1, 7), dtype=float32, numpy=\n",
       " array([[0.00263649, 0.3100928 , 0.37382498, 0.9999065 , 0.11081848,\n",
       "         0.48007822, 0.9813574 ]], dtype=float32)>,\n",
       " <tf.Tensor: shape=(1, 7), dtype=float32, numpy=\n",
       " array([[0.07820195, 0.50327915, 0.5153227 , 0.14034256, 0.40772247,\n",
       "         0.4254523 , 0.0109823 ]], dtype=float32)>,\n",
       " <tf.Tensor: shape=(1, 7), dtype=float32, numpy=\n",
       " array([[0.09239924, 0.49534506, 0.52488846, 0.80234516, 0.3327977 ,\n",
       "         0.99961275, 0.01491126]], dtype=float32)>]"
      ]
     },
     "execution_count": 95,
     "metadata": {},
     "output_type": "execute_result"
    }
   ],
   "source": [
    "LBBM.masks_explain(tf.convert_to_tensor(xvalid.values[:1]))"
   ]
  },
  {
   "cell_type": "code",
   "execution_count": 103,
   "id": "2db3f1e8-2550-4582-ae1a-20cb02928244",
   "metadata": {},
   "outputs": [
    {
     "name": "stdout",
     "output_type": "stream",
     "text": [
      "\t\t\tCLASSIFICATIION METRICS: LBBM\n",
      "\n",
      "              precision    recall  f1-score   support\n",
      "\n",
      "           0       0.61      0.08      0.14    343463\n",
      "           1       0.67      0.97      0.79    656537\n",
      "\n",
      "    accuracy                           0.67   1000000\n",
      "   macro avg       0.64      0.53      0.47   1000000\n",
      "weighted avg       0.65      0.67      0.57   1000000\n",
      "\n",
      "ROC value is: 0.5265651853551788\n"
     ]
    }
   ],
   "source": [
    "p = LBBM.predict(xvalid.values).flatten().round().astype(int)\n",
    "print('\\t\\t\\tCLASSIFICATIION METRICS: LBBM\\n')\n",
    "print(metrics.classification_report(yvalid, p))\n",
    "score = roc_auc_score(yvalid, p)\n",
    "print('ROC value is: {}'.format(score))"
   ]
  },
  {
   "cell_type": "code",
   "execution_count": null,
   "id": "a6e8afe7-8f40-4595-a684-9c84933a65ac",
   "metadata": {},
   "outputs": [],
   "source": []
  }
 ],
 "metadata": {
  "kernelspec": {
   "display_name": "Python 3 (ipykernel)",
   "language": "python",
   "name": "python3"
  },
  "language_info": {
   "codemirror_mode": {
    "name": "ipython",
    "version": 3
   },
   "file_extension": ".py",
   "mimetype": "text/x-python",
   "name": "python",
   "nbconvert_exporter": "python",
   "pygments_lexer": "ipython3",
   "version": "3.9.7"
  }
 },
 "nbformat": 4,
 "nbformat_minor": 5
}
