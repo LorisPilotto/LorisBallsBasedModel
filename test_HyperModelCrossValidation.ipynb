{
 "cells": [
  {
   "cell_type": "code",
   "execution_count": 1,
   "id": "856e4f0b-575c-4222-9736-8bc18ddc4106",
   "metadata": {},
   "outputs": [],
   "source": [
    "from LorisBallsBasedModel import *\n",
    "import tensorflow as tf\n",
    "import keras_tuner as kt\n",
    "import pandas as pd\n",
    "import numpy as np\n",
    "from sklearn.model_selection import train_test_split"
   ]
  },
  {
   "cell_type": "code",
   "execution_count": 2,
   "id": "2cc52d5f-4d5b-4b2a-aa6a-1cd205c31106",
   "metadata": {},
   "outputs": [],
   "source": [
    "cols = ['price', 'maint', 'doors', 'persons', 'lug_capacity', 'safety','output']\n",
    "cars = pd.read_csv(r'data\\car_evaluation_dataset\\car_evaluation.csv', names=cols, header=None)\n",
    "cars.head(3)\n",
    "\n",
    "labels = pd.get_dummies(cars.output, prefix='condition')\n",
    "\n",
    "X = cars[['price', 'maint', 'doors', 'persons', 'lug_capacity', 'safety']]\n",
    "y = labels.values"
   ]
  },
  {
   "cell_type": "code",
   "execution_count": 3,
   "id": "4947a580-ad19-4ae7-86dd-53d16a3adb87",
   "metadata": {},
   "outputs": [],
   "source": [
    "X_train, X_test, y_train, y_test = train_test_split(X,\n",
    "                                                    y,\n",
    "                                                    test_size=0.20,\n",
    "                                                    random_state=42)\n",
    "\n",
    "X_train_dict = X_train.to_dict(orient='list')\n",
    "X_train_dict = {k: np.expand_dims(v, axis=-1) for k, v in X_train_dict.items()}\n",
    "X_test_dict = X_test.to_dict(orient='list')\n",
    "X_test_dict = {k: np.expand_dims(v, axis=-1) for k, v in X_test_dict.items()}"
   ]
  },
  {
   "cell_type": "markdown",
   "id": "8f10c9ef-60a7-4e51-a72f-a5e4d4404c97",
   "metadata": {},
   "source": [
    "# SingleLayerPerceptron base hypermodel"
   ]
  },
  {
   "cell_type": "code",
   "execution_count": 4,
   "id": "73423eee-bddb-40c5-9bd1-35a5c9a9aa17",
   "metadata": {},
   "outputs": [],
   "source": [
    "def build_SLP(hp):\n",
    "    embedding_dim = hp.Choice('features_embedding_dim',\n",
    "                              [1, 3, 6])\n",
    "    X_train_embedding_layers = {}\n",
    "    for input_name in X_train.columns:\n",
    "        X_train_embedding_layers[input_name] = StringEmbedding(X_train[input_name].unique(),\n",
    "                                                               embedding_dim)\n",
    "\n",
    "    processing_layer = InputsProcessing(X_train_embedding_layers)\n",
    "\n",
    "    SLP = SingleLayerPerceptron(tf.keras.layers.Dense(4,\n",
    "                                                      activation='softmax'),\n",
    "                                processing_layer=processing_layer)\n",
    "    SLP.compile(loss='categorical_crossentropy',\n",
    "                optimizer=tf.keras.optimizers.Adam(learning_rate=hp.Choice('learning_rate',\n",
    "                                                                           [.01, .005, .001, .0005, .0001])),\n",
    "                metrics=['acc'])\n",
    "    return SLP"
   ]
  },
  {
   "cell_type": "markdown",
   "id": "b7da46ce-93bd-40aa-92fa-f9218832a239",
   "metadata": {},
   "source": [
    "# Cross validation random search"
   ]
  },
  {
   "cell_type": "code",
   "execution_count": 5,
   "id": "3209fe00-bc20-4445-a36c-55cd2bf0c3c3",
   "metadata": {},
   "outputs": [
    {
     "name": "stdout",
     "output_type": "stream",
     "text": [
      "Trial 15 Complete [00h 00m 17s]\n",
      "val_loss: 0.6406977415084839\n",
      "\n",
      "Best val_loss So Far: 0.17156047821044923\n",
      "Total elapsed time: 00h 05m 19s\n",
      "INFO:tensorflow:Oracle triggered exit\n"
     ]
    }
   ],
   "source": [
    "hyper_model_CV = HyperModelCrossValidation(build_model=build_SLP,\n",
    "                                           nbr_folds=5,\n",
    "                                           batch_sizes_to_try_list=[8, 16])\n",
    "\n",
    "tuner = kt.RandomSearch(\n",
    "    hypermodel=hyper_model_CV,\n",
    "    objective=\"val_loss\",\n",
    "    max_trials=15,\n",
    "    executions_per_trial=1,\n",
    "    overwrite=True,\n",
    "    directory=\"keras_tuners_logs\",\n",
    "    project_name=\"test_HyperModelCrossValidation\",\n",
    ")  # set 'overwrite' to true to resume a previous search\n",
    "\n",
    "tuner.search(X_train_dict,\n",
    "             y_train,\n",
    "             epochs=10)"
   ]
  },
  {
   "cell_type": "code",
   "execution_count": 6,
   "id": "c2b8ae72-3424-4f7c-9012-011921e5b85b",
   "metadata": {},
   "outputs": [
    {
     "name": "stdout",
     "output_type": "stream",
     "text": [
      "Results summary\n",
      "Results in keras_tuners_logs\\test_HyperModelCrossValidation\n",
      "Showing 1 best trials\n",
      "Objective(name='val_loss', direction='min')\n",
      "Trial summary\n",
      "Hyperparameters:\n",
      "features_embedding_dim: 3\n",
      "learning_rate: 0.01\n",
      "batch_size: 16\n",
      "Score: 0.17156047821044923\n"
     ]
    }
   ],
   "source": [
    "tuner.results_summary(1)"
   ]
  },
  {
   "cell_type": "code",
   "execution_count": 7,
   "id": "ba34077d-0269-498d-86e9-7ddc81d3f292",
   "metadata": {},
   "outputs": [
    {
     "name": "stdout",
     "output_type": "stream",
     "text": [
      "Epoch 1/10\n",
      "173/173 [==============================] - 1s 2ms/step - loss: 0.5429 - acc: 0.7988\n",
      "Epoch 2/10\n",
      "173/173 [==============================] - 0s 2ms/step - loss: 0.2482 - acc: 0.8907\n",
      "Epoch 3/10\n",
      "173/173 [==============================] - 0s 2ms/step - loss: 0.2047 - acc: 0.9204\n",
      "Epoch 4/10\n",
      "173/173 [==============================] - 0s 2ms/step - loss: 0.1865 - acc: 0.9175\n",
      "Epoch 5/10\n",
      "173/173 [==============================] - 0s 2ms/step - loss: 0.1720 - acc: 0.9349\n",
      "Epoch 6/10\n",
      "173/173 [==============================] - 0s 2ms/step - loss: 0.1677 - acc: 0.9305\n",
      "Epoch 7/10\n",
      "173/173 [==============================] - 0s 2ms/step - loss: 0.1666 - acc: 0.9313\n",
      "Epoch 8/10\n",
      "173/173 [==============================] - 0s 2ms/step - loss: 0.1665 - acc: 0.9284\n",
      "Epoch 9/10\n",
      "173/173 [==============================] - 0s 2ms/step - loss: 0.1622 - acc: 0.9356\n",
      "Epoch 10/10\n",
      "173/173 [==============================] - 0s 2ms/step - loss: 0.1605 - acc: 0.9356\n"
     ]
    }
   ],
   "source": [
    "train_tensor = tf.data.Dataset.from_tensor_slices((X_train_dict,\n",
    "                                                   y_train))\n",
    "train_tensor = train_tensor.cache().shuffle(300).batch(8).prefetch(buffer_size=tf.data.experimental.AUTOTUNE)\n",
    "\n",
    "test_tensor = tf.data.Dataset.from_tensor_slices((X_test_dict,\n",
    "                                                  y_test)).batch(8)\n",
    "\n",
    "best_hyperparameters = tuner.get_best_hyperparameters(1)[0]\n",
    "SLP = build_SLP(best_hyperparameters)\n",
    "history = SLP.fit(train_tensor,\n",
    "                  epochs=10,\n",
    "                  verbose=1)"
   ]
  },
  {
   "cell_type": "code",
   "execution_count": 8,
   "id": "29cdd396-e927-47b8-8aba-f1906dbedfa9",
   "metadata": {},
   "outputs": [
    {
     "name": "stdout",
     "output_type": "stream",
     "text": [
      "44/44 [==============================] - 0s 2ms/step - loss: 0.1654 - acc: 0.9191\n"
     ]
    },
    {
     "data": {
      "text/plain": [
       "[0.16538073122501373, 0.9190751314163208]"
      ]
     },
     "execution_count": 8,
     "metadata": {},
     "output_type": "execute_result"
    }
   ],
   "source": [
    "SLP.evaluate(test_tensor)"
   ]
  },
  {
   "cell_type": "markdown",
   "id": "51b156b7-fcb8-4a46-81d0-b82d93023ee0",
   "metadata": {},
   "source": [
    "# TODO: Use TensorBoard"
   ]
  },
  {
   "cell_type": "code",
   "execution_count": null,
   "id": "f38fd38f-f5b3-4093-b1ff-afb7632c0a70",
   "metadata": {},
   "outputs": [],
   "source": []
  }
 ],
 "metadata": {
  "kernelspec": {
   "display_name": "Python 3 (ipykernel)",
   "language": "python",
   "name": "python3"
  },
  "language_info": {
   "codemirror_mode": {
    "name": "ipython",
    "version": 3
   },
   "file_extension": ".py",
   "mimetype": "text/x-python",
   "name": "python",
   "nbconvert_exporter": "python",
   "pygments_lexer": "ipython3",
   "version": "3.9.7"
  }
 },
 "nbformat": 4,
 "nbformat_minor": 5
}
