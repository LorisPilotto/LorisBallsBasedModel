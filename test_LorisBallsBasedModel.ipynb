{
 "cells": [
  {
   "cell_type": "markdown",
   "id": "d3054df0-92df-45a9-8456-981740978d9d",
   "metadata": {},
   "source": [
    "https://www.kaggle.com/riteshkrjha/riiid-quick-tabnet-vs-xgboost"
   ]
  },
  {
   "cell_type": "code",
   "execution_count": 1,
   "id": "3a2942ad-6214-4999-932e-672a22c40adb",
   "metadata": {},
   "outputs": [],
   "source": [
    "import numpy as np\n",
    "import pandas as pd\n",
    "from sklearn.model_selection import train_test_split\n",
    "from sklearn.metrics import roc_auc_score, accuracy_score, f1_score, roc_curve, classification_report\n",
    "import tensorflow as tf\n",
    "\n",
    "from LorisBallsBasedModel import *"
   ]
  },
  {
   "cell_type": "code",
   "execution_count": 2,
   "id": "121c9cf9-d297-4488-8aca-ba89502e86f1",
   "metadata": {},
   "outputs": [],
   "source": [
    "train = pd.read_csv('./data/riid/train.csv',\n",
    "                   usecols=[1, 2, 3, 4, 5, 7, 8, 9],\n",
    "                   dtype={'timestamp': 'int64',\n",
    "                          'user_id': 'int32',\n",
    "                          'content_id': 'int16',\n",
    "                          'content_type_id': 'int8',\n",
    "                          'task_container_id': 'int16',\n",
    "                          'answered_correctly':'int8',\n",
    "                          'prior_question_elapsed_time': 'float32',\n",
    "                          'prior_question_had_explanation': 'boolean'}\n",
    "                   )"
   ]
  },
  {
   "cell_type": "code",
   "execution_count": 3,
   "id": "9e54558c-5902-480c-8420-672bb7bffd5c",
   "metadata": {},
   "outputs": [],
   "source": [
    "# Remove lectures and additional processing\n",
    "train = train[train.content_type_id == False]\n",
    "\n",
    "train = train.sort_values(['timestamp'],\n",
    "                          ascending=True)\n",
    "train.drop(['timestamp', 'content_type_id'],\n",
    "           axis=1,\n",
    "           inplace=True)"
   ]
  },
  {
   "cell_type": "code",
   "execution_count": 4,
   "id": "bfec886c-d7f4-4ede-a894-1af394af1ed2",
   "metadata": {},
   "outputs": [],
   "source": [
    "# Read Questions and Lectures\n",
    "questions = pd.read_csv('./data/riid/questions.csv')\n",
    "lectures = pd.read_csv('./data/riid/lectures.csv')"
   ]
  },
  {
   "cell_type": "code",
   "execution_count": 5,
   "id": "3a08cd92-f8a3-4ac8-8b6a-a56b6cc747fc",
   "metadata": {},
   "outputs": [],
   "source": [
    "# Merge train with Questions\n",
    "train = pd.merge(train,\n",
    "                 questions,\n",
    "                 left_on='content_id',\n",
    "                 right_on='question_id',\n",
    "                 how='left')"
   ]
  },
  {
   "cell_type": "code",
   "execution_count": 6,
   "id": "0dba9c1b-9318-48a8-b3c6-b98685cf2de7",
   "metadata": {},
   "outputs": [],
   "source": [
    "#Indicator for first question in a batch\n",
    "train['firstQindicator'] = np.where(train['prior_question_elapsed_time'].isnull(),\n",
    "                                    1,\n",
    "                                    0)\n",
    "train['prior_question_elapsed_time'] = np.where(train['prior_question_elapsed_time'].isnull(),\n",
    "                                                0,\n",
    "                                                train['prior_question_elapsed_time'])"
   ]
  },
  {
   "cell_type": "code",
   "execution_count": 7,
   "id": "d57b22b6-24dc-4883-b49e-6e5afa02d76f",
   "metadata": {},
   "outputs": [
    {
     "data": {
      "text/html": [
       "<div>\n",
       "<style scoped>\n",
       "    .dataframe tbody tr th:only-of-type {\n",
       "        vertical-align: middle;\n",
       "    }\n",
       "\n",
       "    .dataframe tbody tr th {\n",
       "        vertical-align: top;\n",
       "    }\n",
       "\n",
       "    .dataframe thead th {\n",
       "        text-align: right;\n",
       "    }\n",
       "</style>\n",
       "<table border=\"1\" class=\"dataframe\">\n",
       "  <thead>\n",
       "    <tr style=\"text-align: right;\">\n",
       "      <th></th>\n",
       "      <th>user_id</th>\n",
       "      <th>content_id</th>\n",
       "      <th>task_container_id</th>\n",
       "      <th>answered_correctly</th>\n",
       "      <th>prior_question_elapsed_time</th>\n",
       "      <th>prior_question_had_explanation</th>\n",
       "      <th>question_id</th>\n",
       "      <th>bundle_id</th>\n",
       "      <th>correct_answer</th>\n",
       "      <th>part</th>\n",
       "      <th>tags</th>\n",
       "      <th>firstQindicator</th>\n",
       "    </tr>\n",
       "  </thead>\n",
       "  <tbody>\n",
       "    <tr>\n",
       "      <th>0</th>\n",
       "      <td>115</td>\n",
       "      <td>5692</td>\n",
       "      <td>1</td>\n",
       "      <td>1</td>\n",
       "      <td>0.0</td>\n",
       "      <td>&lt;NA&gt;</td>\n",
       "      <td>5692</td>\n",
       "      <td>5692</td>\n",
       "      <td>3</td>\n",
       "      <td>5</td>\n",
       "      <td>151</td>\n",
       "      <td>1</td>\n",
       "    </tr>\n",
       "    <tr>\n",
       "      <th>1</th>\n",
       "      <td>1805962620</td>\n",
       "      <td>5547</td>\n",
       "      <td>0</td>\n",
       "      <td>0</td>\n",
       "      <td>0.0</td>\n",
       "      <td>&lt;NA&gt;</td>\n",
       "      <td>5547</td>\n",
       "      <td>5547</td>\n",
       "      <td>0</td>\n",
       "      <td>5</td>\n",
       "      <td>8</td>\n",
       "      <td>1</td>\n",
       "    </tr>\n",
       "    <tr>\n",
       "      <th>2</th>\n",
       "      <td>2015251289</td>\n",
       "      <td>4024</td>\n",
       "      <td>0</td>\n",
       "      <td>1</td>\n",
       "      <td>0.0</td>\n",
       "      <td>&lt;NA&gt;</td>\n",
       "      <td>4024</td>\n",
       "      <td>4024</td>\n",
       "      <td>0</td>\n",
       "      <td>5</td>\n",
       "      <td>173</td>\n",
       "      <td>1</td>\n",
       "    </tr>\n",
       "    <tr>\n",
       "      <th>3</th>\n",
       "      <td>867941388</td>\n",
       "      <td>6659</td>\n",
       "      <td>0</td>\n",
       "      <td>1</td>\n",
       "      <td>0.0</td>\n",
       "      <td>&lt;NA&gt;</td>\n",
       "      <td>6659</td>\n",
       "      <td>6659</td>\n",
       "      <td>3</td>\n",
       "      <td>5</td>\n",
       "      <td>53</td>\n",
       "      <td>1</td>\n",
       "    </tr>\n",
       "    <tr>\n",
       "      <th>4</th>\n",
       "      <td>867946278</td>\n",
       "      <td>3977</td>\n",
       "      <td>0</td>\n",
       "      <td>1</td>\n",
       "      <td>0.0</td>\n",
       "      <td>&lt;NA&gt;</td>\n",
       "      <td>3977</td>\n",
       "      <td>3977</td>\n",
       "      <td>2</td>\n",
       "      <td>5</td>\n",
       "      <td>177</td>\n",
       "      <td>1</td>\n",
       "    </tr>\n",
       "  </tbody>\n",
       "</table>\n",
       "</div>"
      ],
      "text/plain": [
       "      user_id  content_id  task_container_id  answered_correctly  \\\n",
       "0         115        5692                  1                   1   \n",
       "1  1805962620        5547                  0                   0   \n",
       "2  2015251289        4024                  0                   1   \n",
       "3   867941388        6659                  0                   1   \n",
       "4   867946278        3977                  0                   1   \n",
       "\n",
       "   prior_question_elapsed_time  prior_question_had_explanation  question_id  \\\n",
       "0                          0.0                            <NA>         5692   \n",
       "1                          0.0                            <NA>         5547   \n",
       "2                          0.0                            <NA>         4024   \n",
       "3                          0.0                            <NA>         6659   \n",
       "4                          0.0                            <NA>         3977   \n",
       "\n",
       "   bundle_id  correct_answer  part tags  firstQindicator  \n",
       "0       5692               3     5  151                1  \n",
       "1       5547               0     5    8                1  \n",
       "2       4024               0     5  173                1  \n",
       "3       6659               3     5   53                1  \n",
       "4       3977               2     5  177                1  "
      ]
     },
     "execution_count": 7,
     "metadata": {},
     "output_type": "execute_result"
    }
   ],
   "source": [
    "train.head()"
   ]
  },
  {
   "cell_type": "code",
   "execution_count": 8,
   "id": "30571378-a517-43b1-8d53-c23137c0f590",
   "metadata": {},
   "outputs": [],
   "source": [
    "# Remove unused columns\n",
    "del train['question_id']\n",
    "del train['bundle_id']\n",
    "del train['correct_answer']\n",
    "del train['tags']"
   ]
  },
  {
   "cell_type": "code",
   "execution_count": 9,
   "id": "65944338-5585-42d8-93b3-48feadc34fec",
   "metadata": {},
   "outputs": [
    {
     "data": {
      "text/plain": [
       "0"
      ]
     },
     "execution_count": 9,
     "metadata": {},
     "output_type": "execute_result"
    }
   ],
   "source": [
    "import gc\n",
    "gc.collect()"
   ]
  },
  {
   "cell_type": "code",
   "execution_count": 10,
   "id": "e6a110b6-0a06-463b-a4b8-69dc103940ba",
   "metadata": {},
   "outputs": [],
   "source": [
    "train.prior_question_had_explanation = train.prior_question_had_explanation.astype(object)\n",
    "train.prior_question_had_explanation = np.where(train.prior_question_had_explanation == 'True',\n",
    "                                                1,\n",
    "                                                0)"
   ]
  },
  {
   "cell_type": "code",
   "execution_count": 11,
   "id": "73287611-444c-44ba-be35-9a466ee456a3",
   "metadata": {},
   "outputs": [],
   "source": [
    "# Sample 5M records\n",
    "train = train.sample(n=5000000)"
   ]
  },
  {
   "cell_type": "code",
   "execution_count": 12,
   "id": "4c5c38ea-5fb9-43ba-bb94-14f1148175a1",
   "metadata": {},
   "outputs": [],
   "source": [
    "# train test split\n",
    "xtrain, xvalid, ytrain, yvalid = train_test_split(train.drop(['answered_correctly'], axis=1), \n",
    "                                                  train['answered_correctly'],\n",
    "                                                  random_state=42, \n",
    "                                                  test_size=0.2, \n",
    "                                                  shuffle=True)"
   ]
  },
  {
   "cell_type": "code",
   "execution_count": 13,
   "id": "c3ea62cd-d743-498a-94db-12083de21e6d",
   "metadata": {},
   "outputs": [
    {
     "name": "stdout",
     "output_type": "stream",
     "text": [
      "Epoch 1/12\n",
      "400/400 [==============================] - 390s 915ms/step - loss: 0.6358 - acc: 0.6610 - lr: 0.0200\n",
      "Epoch 2/12\n",
      "400/400 [==============================] - 335s 838ms/step - loss: 0.6306 - acc: 0.6660 - lr: 0.0100\n",
      "Epoch 3/12\n",
      "400/400 [==============================] - 368s 920ms/step - loss: 0.6294 - acc: 0.6669 - lr: 0.0100\n",
      "Epoch 4/12\n",
      "400/400 [==============================] - 340s 849ms/step - loss: 0.6285 - acc: 0.6675 - lr: 0.0050\n",
      "Epoch 5/12\n",
      "400/400 [==============================] - 349s 872ms/step - loss: 0.6282 - acc: 0.6677 - lr: 0.0050\n",
      "Epoch 6/12\n",
      "400/400 [==============================] - 355s 887ms/step - loss: 0.6278 - acc: 0.6678 - lr: 0.0025\n",
      "Epoch 7/12\n",
      "400/400 [==============================] - 406s 1s/step - loss: 0.6276 - acc: 0.6679 - lr: 0.0025\n",
      "Epoch 8/12\n",
      "400/400 [==============================] - 399s 998ms/step - loss: 0.6273 - acc: 0.6680 - lr: 0.0012\n",
      "Epoch 9/12\n",
      "400/400 [==============================] - 522s 1s/step - loss: 0.6272 - acc: 0.6680 - lr: 0.0012\n",
      "Epoch 10/12\n",
      "400/400 [==============================] - 457s 1s/step - loss: 0.6271 - acc: 0.6682 - lr: 6.2500e-04\n",
      "Epoch 11/12\n",
      "400/400 [==============================] - 400s 1s/step - loss: 0.6270 - acc: 0.6682 - lr: 6.2500e-04\n",
      "Epoch 12/12\n",
      "400/400 [==============================] - 345s 862ms/step - loss: 0.6270 - acc: 0.6682 - lr: 3.1250e-04\n"
     ]
    }
   ],
   "source": [
    "# Train LorisBallsBasedModel\n",
    "LBBM = LorisBallsBasedModel(nbr_steps=5,\n",
    "                            first_step_args={'attentive_transformer': FirstAttentiveTransformer,\n",
    "                                             'attentive_transformer_params_dict': {'dropout_rate': 0.,\n",
    "                                                                                   'regularizer': tf.keras.regularizers.L1(0.),\n",
    "                                                                                   'entropy_weight': 0.,\n",
    "                                                                                  },\n",
    "                                             'features_outputs_units': 16,\n",
    "                                             'features_pass_next_step_units': 4,\n",
    "                                            },\n",
    "                            step_args={'attentive_transformer': AttentiveTransformer,\n",
    "                                       'attentive_transformer_params_dict': {'gamma': 1.,\n",
    "                                                                             'dropout_rate': 0.,\n",
    "                                                                             'regularizer': tf.keras.regularizers.L1(0.),\n",
    "                                                                             'entropy_weight': 0.,\n",
    "                                                                            },\n",
    "                                       'features_outputs_units': 16,\n",
    "                                       'features_pass_next_step_units': 4,\n",
    "                                       'prior_outputs_units': 4,\n",
    "                                      },\n",
    "                            output_layer=tf.keras.layers.Dense(1, 'sigmoid'),\n",
    "                            input_processing_layer=tf.keras.layers.BatchNormalization(),\n",
    "                           )\n",
    "\n",
    "LBBM.compile(loss=tf.keras.losses.binary_crossentropy,\n",
    "             optimizer=tf.keras.optimizers.Adam(),\n",
    "             metrics=['acc'])\n",
    "train_tensor = tf.data.Dataset.from_tensor_slices((xtrain.values,\n",
    "                                                   ytrain.values)).batch(10000)\n",
    "\n",
    "import math\n",
    "def step_decay(epoch):\n",
    "    initial_lrate = 0.02\n",
    "    drop = 0.5\n",
    "    epochs_drop = 2.\n",
    "    lrate = initial_lrate * math.pow(drop,  \n",
    "                                     math.floor((1+epoch)/epochs_drop))\n",
    "    return lrate\n",
    "lr_scheduler = tf.keras.callbacks.LearningRateScheduler(step_decay)\n",
    "history = LBBM.fit(train_tensor,\n",
    "                   epochs=12,\n",
    "                   callbacks=[lr_scheduler],\n",
    "                   verbose=1)"
   ]
  },
  {
   "cell_type": "code",
   "execution_count": 14,
   "id": "0b33b5de-3103-4148-8fd2-2d122cd3ec95",
   "metadata": {},
   "outputs": [
    {
     "data": {
      "text/plain": [
       "[<tf.Tensor: shape=(1, 7), dtype=float32, numpy=array([[0., 0., 1., 0., 0., 0., 0.]], dtype=float32)>,\n",
       " <tf.Tensor: shape=(1, 7), dtype=float32, numpy=\n",
       " array([[0.        , 0.        , 0.        , 0.56752956, 0.        ,\n",
       "         0.4324704 , 0.        ]], dtype=float32)>,\n",
       " <tf.Tensor: shape=(1, 7), dtype=float32, numpy=array([[0., 0., 0., 0., 0., 0., 1.]], dtype=float32)>,\n",
       " <tf.Tensor: shape=(1, 7), dtype=float32, numpy=array([[0., 0., 0., 0., 0., 0., 1.]], dtype=float32)>,\n",
       " <tf.Tensor: shape=(1, 7), dtype=float32, numpy=array([[0., 0., 0., 0., 0., 1., 0.]], dtype=float32)>]"
      ]
     },
     "execution_count": 14,
     "metadata": {},
     "output_type": "execute_result"
    }
   ],
   "source": [
    "LBBM.masks_explain(tf.convert_to_tensor(xvalid.values[:1]))"
   ]
  },
  {
   "cell_type": "code",
   "execution_count": 15,
   "id": "2db3f1e8-2550-4582-ae1a-20cb02928244",
   "metadata": {},
   "outputs": [
    {
     "name": "stdout",
     "output_type": "stream",
     "text": [
      "\t\t\tCLASSIFICATIION METRICS: LBBM\n",
      "\n",
      "              precision    recall  f1-score   support\n",
      "\n",
      "           0       0.59      0.10      0.17    342084\n",
      "           1       0.67      0.96      0.79    657916\n",
      "\n",
      "    accuracy                           0.67   1000000\n",
      "   macro avg       0.63      0.53      0.48   1000000\n",
      "weighted avg       0.64      0.67      0.58   1000000\n",
      "\n",
      "ROC value is: 0.53193064220985\n"
     ]
    }
   ],
   "source": [
    "p = LBBM.predict(xvalid.values).flatten().round().astype(int)\n",
    "print('\\t\\t\\tCLASSIFICATIION METRICS: LBBM\\n')\n",
    "print(classification_report(yvalid, p))\n",
    "score = roc_auc_score(yvalid, p)\n",
    "print('ROC value is: {}'.format(score))"
   ]
  },
  {
   "cell_type": "code",
   "execution_count": null,
   "id": "a6e8afe7-8f40-4595-a684-9c84933a65ac",
   "metadata": {},
   "outputs": [],
   "source": []
  }
 ],
 "metadata": {
  "kernelspec": {
   "display_name": "Python 3 (ipykernel)",
   "language": "python",
   "name": "python3"
  },
  "language_info": {
   "codemirror_mode": {
    "name": "ipython",
    "version": 3
   },
   "file_extension": ".py",
   "mimetype": "text/x-python",
   "name": "python",
   "nbconvert_exporter": "python",
   "pygments_lexer": "ipython3",
   "version": "3.9.7"
  }
 },
 "nbformat": 4,
 "nbformat_minor": 5
}
