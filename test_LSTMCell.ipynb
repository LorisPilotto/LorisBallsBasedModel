{
 "cells": [
  {
   "cell_type": "code",
   "execution_count": 1,
   "id": "292267cf-aedc-4909-9177-aab3c77502a1",
   "metadata": {},
   "outputs": [],
   "source": [
    "import tensorflow as tf\n",
    "\n",
    "from LorisBallsBasedModel import *"
   ]
  },
  {
   "cell_type": "code",
   "execution_count": 2,
   "id": "342d251f-5a78-4f60-b85f-e5c0fb6da34c",
   "metadata": {},
   "outputs": [
    {
     "data": {
      "text/plain": [
       "array([[ 0.04083603,  0.09778681],\n",
       "       [ 0.01727492,  0.16136388],\n",
       "       [-0.00556369, -0.01796418],\n",
       "       [ 0.01753095,  0.05396003],\n",
       "       [-0.01229398,  0.10908908],\n",
       "       [ 0.01706155,  0.05024909],\n",
       "       [ 0.0024769 ,  0.10849177],\n",
       "       [-0.00155358,  0.09660954]], dtype=float32)"
      ]
     },
     "execution_count": 2,
     "metadata": {},
     "output_type": "execute_result"
    }
   ],
   "source": [
    "class SingleCell(tf.keras.Model):\n",
    "    def __init__(self,\n",
    "                 cell,\n",
    "                 nbr_iteration=2,\n",
    "                 **kwargs):\n",
    "        super().__init__(**kwargs)\n",
    "        self.cell = cell\n",
    "        self.nbr_iteration = nbr_iteration\n",
    "        \n",
    "    def call(self, inputs):\n",
    "        states = [tf.zeros(tf.shape(inputs)), tf.zeros(tf.shape(inputs))]\n",
    "        \n",
    "        for i in range(self.nbr_iteration):\n",
    "            inputs, states = self.cell([inputs, states])\n",
    "        \n",
    "        return inputs\n",
    "    \n",
    "cell = LSTMCell(activation='linear') \n",
    "model = SingleCell(cell)\n",
    "\n",
    "inputs = tf.random.normal([8, 2])\n",
    "model.predict(inputs)"
   ]
  },
  {
   "cell_type": "code",
   "execution_count": 3,
   "id": "ee49e43d-9fb5-4e6f-95c6-4b3574c0909c",
   "metadata": {},
   "outputs": [
    {
     "data": {
      "text/plain": [
       "array([[-2.0177    ,  1.4774193 ],\n",
       "       [ 1.2205617 ,  1.3807752 ],\n",
       "       [-0.05494324, -0.28314453],\n",
       "       [-0.27840167,  1.4333214 ],\n",
       "       [ 1.1680549 ,  0.25134298],\n",
       "       [-0.28637686,  1.3422794 ],\n",
       "       [ 0.99207824,  0.65666425],\n",
       "       [ 0.93523496,  0.49036223]], dtype=float32)"
      ]
     },
     "execution_count": 3,
     "metadata": {},
     "output_type": "execute_result"
    }
   ],
   "source": [
    "model.compile(loss='mse',\n",
    "              optimizer=tf.keras.optimizers.Adam(learning_rate=0.002))\n",
    "\n",
    "history = model.fit(inputs,\n",
    "                    inputs,\n",
    "                    epochs=5000,\n",
    "                    verbose=0)\n",
    "\n",
    "model.predict(inputs)"
   ]
  },
  {
   "cell_type": "code",
   "execution_count": 4,
   "id": "f057b59a-4b23-4cc0-9fea-b9274844ce0a",
   "metadata": {},
   "outputs": [
    {
     "data": {
      "text/plain": [
       "<tf.Tensor: shape=(8, 2), dtype=float32, numpy=\n",
       "array([[-2.0178344 ,  1.4774421 ],\n",
       "       [ 1.2231233 ,  1.3797572 ],\n",
       "       [-0.05651899, -0.28283364],\n",
       "       [-0.28334707,  1.4343457 ],\n",
       "       [ 1.1709664 ,  0.24858375],\n",
       "       [-0.28084162,  1.341081  ],\n",
       "       [ 0.984803  ,  0.6582165 ],\n",
       "       [ 0.93543744,  0.49322262]], dtype=float32)>"
      ]
     },
     "execution_count": 4,
     "metadata": {},
     "output_type": "execute_result"
    }
   ],
   "source": [
    "inputs"
   ]
  },
  {
   "cell_type": "code",
   "execution_count": null,
   "id": "ef7b77c1-9778-4347-b709-2570da526ea2",
   "metadata": {},
   "outputs": [],
   "source": []
  }
 ],
 "metadata": {
  "kernelspec": {
   "display_name": "Python 3 (ipykernel)",
   "language": "python",
   "name": "python3"
  },
  "language_info": {
   "codemirror_mode": {
    "name": "ipython",
    "version": 3
   },
   "file_extension": ".py",
   "mimetype": "text/x-python",
   "name": "python",
   "nbconvert_exporter": "python",
   "pygments_lexer": "ipython3",
   "version": "3.9.7"
  }
 },
 "nbformat": 4,
 "nbformat_minor": 5
}
