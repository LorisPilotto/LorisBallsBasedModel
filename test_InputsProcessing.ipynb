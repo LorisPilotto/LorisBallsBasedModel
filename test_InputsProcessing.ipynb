{
 "cells": [
  {
   "cell_type": "code",
   "execution_count": 1,
   "id": "25dde341-0c3e-4361-9b97-dc6aebc4affc",
   "metadata": {},
   "outputs": [],
   "source": [
    "from LorisBallsBasedModel import *\n",
    "import tensorflow as tf\n",
    "import pandas as pd\n",
    "import numpy as np\n",
    "from sklearn.model_selection import train_test_split"
   ]
  },
  {
   "cell_type": "code",
   "execution_count": 2,
   "id": "2c07cacb-9b6f-4a59-bf16-4f5558f59e35",
   "metadata": {},
   "outputs": [
    {
     "data": {
      "text/html": [
       "<div>\n",
       "<style scoped>\n",
       "    .dataframe tbody tr th:only-of-type {\n",
       "        vertical-align: middle;\n",
       "    }\n",
       "\n",
       "    .dataframe tbody tr th {\n",
       "        vertical-align: top;\n",
       "    }\n",
       "\n",
       "    .dataframe thead th {\n",
       "        text-align: right;\n",
       "    }\n",
       "</style>\n",
       "<table border=\"1\" class=\"dataframe\">\n",
       "  <thead>\n",
       "    <tr style=\"text-align: right;\">\n",
       "      <th></th>\n",
       "      <th>price</th>\n",
       "      <th>maint</th>\n",
       "      <th>doors</th>\n",
       "      <th>persons</th>\n",
       "      <th>lug_capacity</th>\n",
       "      <th>safety</th>\n",
       "      <th>output</th>\n",
       "    </tr>\n",
       "  </thead>\n",
       "  <tbody>\n",
       "    <tr>\n",
       "      <th>0</th>\n",
       "      <td>vhigh</td>\n",
       "      <td>vhigh</td>\n",
       "      <td>2</td>\n",
       "      <td>2</td>\n",
       "      <td>small</td>\n",
       "      <td>low</td>\n",
       "      <td>unacc</td>\n",
       "    </tr>\n",
       "    <tr>\n",
       "      <th>1</th>\n",
       "      <td>vhigh</td>\n",
       "      <td>vhigh</td>\n",
       "      <td>2</td>\n",
       "      <td>2</td>\n",
       "      <td>small</td>\n",
       "      <td>med</td>\n",
       "      <td>unacc</td>\n",
       "    </tr>\n",
       "    <tr>\n",
       "      <th>2</th>\n",
       "      <td>vhigh</td>\n",
       "      <td>vhigh</td>\n",
       "      <td>2</td>\n",
       "      <td>2</td>\n",
       "      <td>small</td>\n",
       "      <td>high</td>\n",
       "      <td>unacc</td>\n",
       "    </tr>\n",
       "  </tbody>\n",
       "</table>\n",
       "</div>"
      ],
      "text/plain": [
       "   price  maint doors persons lug_capacity safety output\n",
       "0  vhigh  vhigh     2       2        small    low  unacc\n",
       "1  vhigh  vhigh     2       2        small    med  unacc\n",
       "2  vhigh  vhigh     2       2        small   high  unacc"
      ]
     },
     "execution_count": 2,
     "metadata": {},
     "output_type": "execute_result"
    }
   ],
   "source": [
    "cols = ['price', 'maint', 'doors', 'persons', 'lug_capacity', 'safety','output']\n",
    "cars = pd.read_csv(r'data\\car_evaluation_dataset\\car_evaluation.csv', names=cols, header=None)\n",
    "cars.head(3)"
   ]
  },
  {
   "cell_type": "code",
   "execution_count": 3,
   "id": "0ee1f5db-d028-4d2a-b91f-416bfb6749b2",
   "metadata": {},
   "outputs": [],
   "source": [
    "labels = pd.get_dummies(cars.output, prefix='condition')\n",
    "\n",
    "X = cars[['price', 'maint', 'doors', 'persons', 'lug_capacity', 'safety']]\n",
    "\n",
    "y = labels.values"
   ]
  },
  {
   "cell_type": "code",
   "execution_count": 4,
   "id": "11865795-8060-455d-86a5-5fb0223a1910",
   "metadata": {},
   "outputs": [],
   "source": [
    "X_train, X_test, y_train, y_test = train_test_split(X,\n",
    "                                                    y,\n",
    "                                                    test_size=0.20,\n",
    "                                                    random_state=42)"
   ]
  },
  {
   "cell_type": "markdown",
   "id": "2df96614-7bcd-4bb1-9a18-a3ec99ce5a72",
   "metadata": {},
   "source": [
    "# SingleLayerPerceptron base model"
   ]
  },
  {
   "cell_type": "code",
   "execution_count": 5,
   "id": "e33cf7cd-0a1f-4706-a3fd-4295824be124",
   "metadata": {},
   "outputs": [],
   "source": [
    "X_train_embedding_layers = {}\n",
    "for input_name in X_train.columns:\n",
    "    X_train_embedding_layers[input_name] = StringEmbedding(X_train[input_name].unique(),\n",
    "                                                           len(X_train[input_name].unique()))\n",
    "\n",
    "processing_layer = InputsProcessing(X_train_embedding_layers)\n",
    "    \n",
    "X_train_dict = X_train.to_dict(orient='list')\n",
    "X_train_dict = {k: np.expand_dims(v, axis=-1) for k, v in X_train_dict.items()}\n",
    "X_test_dict = X_test.to_dict(orient='list')\n",
    "X_test_dict = {k: np.expand_dims(v, axis=-1) for k, v in X_test_dict.items()}\n",
    "\n",
    "train_tensor = tf.data.Dataset.from_tensor_slices((X_train_dict,\n",
    "                                                   y_train))\n",
    "train_tensor = train_tensor.cache().shuffle(300).batch(8).prefetch(buffer_size=tf.data.experimental.AUTOTUNE)"
   ]
  },
  {
   "cell_type": "code",
   "execution_count": 6,
   "id": "27b7e8c6-d01f-48b3-91a1-e8a873fa3f60",
   "metadata": {},
   "outputs": [],
   "source": [
    "SLP = SingleLayerPerceptron(tf.keras.layers.Dense(4,\n",
    "                                                  activation='softmax'),\n",
    "                            processing_layer=processing_layer)\n",
    "SLP.compile(loss='categorical_crossentropy',\n",
    "            optimizer=tf.keras.optimizers.Adam(learning_rate=0.001),\n",
    "            metrics=['acc'])"
   ]
  },
  {
   "cell_type": "code",
   "execution_count": 7,
   "id": "037411ed-06c2-46ed-a293-bf52eff64737",
   "metadata": {
    "tags": []
   },
   "outputs": [
    {
     "name": "stdout",
     "output_type": "stream",
     "text": [
      "Epoch 1/10\n",
      "173/173 [==============================] - 1s 2ms/step - loss: 1.1519 - acc: 0.6686\n",
      "Epoch 2/10\n",
      "173/173 [==============================] - 0s 2ms/step - loss: 0.7732 - acc: 0.7055\n",
      "Epoch 3/10\n",
      "173/173 [==============================] - 0s 2ms/step - loss: 0.6185 - acc: 0.7062\n",
      "Epoch 4/10\n",
      "173/173 [==============================] - 0s 2ms/step - loss: 0.5078 - acc: 0.7699\n",
      "Epoch 5/10\n",
      "173/173 [==============================] - 0s 2ms/step - loss: 0.4318 - acc: 0.8133\n",
      "Epoch 6/10\n",
      "173/173 [==============================] - 0s 2ms/step - loss: 0.3817 - acc: 0.8531\n",
      "Epoch 7/10\n",
      "173/173 [==============================] - 0s 2ms/step - loss: 0.3465 - acc: 0.8741\n",
      "Epoch 8/10\n",
      "173/173 [==============================] - 0s 2ms/step - loss: 0.3195 - acc: 0.8813\n",
      "Epoch 9/10\n",
      "173/173 [==============================] - 0s 1ms/step - loss: 0.2986 - acc: 0.8842\n",
      "Epoch 10/10\n",
      "173/173 [==============================] - 0s 2ms/step - loss: 0.2816 - acc: 0.8878\n"
     ]
    }
   ],
   "source": [
    "history = SLP.fit(train_tensor, epochs=10, verbose=1)"
   ]
  },
  {
   "cell_type": "code",
   "execution_count": 8,
   "id": "bfbd358a-e80a-47b2-b9c2-5dede9084b11",
   "metadata": {},
   "outputs": [
    {
     "name": "stdout",
     "output_type": "stream",
     "text": [
      "44/44 [==============================] - 0s 2ms/step - loss: 0.2920 - acc: 0.8786\n"
     ]
    },
    {
     "data": {
      "text/plain": [
       "[0.29203733801841736, 0.8786126971244812]"
      ]
     },
     "execution_count": 8,
     "metadata": {},
     "output_type": "execute_result"
    }
   ],
   "source": [
    "test_tensor = tf.data.Dataset.from_tensor_slices((X_test_dict,\n",
    "                                                  y_test)).batch(8)\n",
    "SLP.evaluate(test_tensor)"
   ]
  },
  {
   "cell_type": "code",
   "execution_count": null,
   "id": "b5961ec6-4c55-497a-9232-4fa10a0ccbaa",
   "metadata": {},
   "outputs": [],
   "source": []
  }
 ],
 "metadata": {
  "kernelspec": {
   "display_name": "Python 3 (ipykernel)",
   "language": "python",
   "name": "python3"
  },
  "language_info": {
   "codemirror_mode": {
    "name": "ipython",
    "version": 3
   },
   "file_extension": ".py",
   "mimetype": "text/x-python",
   "name": "python",
   "nbconvert_exporter": "python",
   "pygments_lexer": "ipython3",
   "version": "3.9.7"
  }
 },
 "nbformat": 4,
 "nbformat_minor": 5
}
