{
 "cells": [
  {
   "cell_type": "code",
   "execution_count": 3,
   "id": "9a9cace3-b9d2-4ced-9a9a-0fc261fa6eec",
   "metadata": {},
   "outputs": [],
   "source": [
    "from LorisBallsBasedModel import *\n",
    "import tensorflow as tf\n",
    "import pandas as pd\n",
    "import numpy as np"
   ]
  },
  {
   "cell_type": "code",
   "execution_count": 2,
   "id": "8e1923f9-10ad-44ae-8bb4-bebfd1ace219",
   "metadata": {},
   "outputs": [
    {
     "data": {
      "text/html": [
       "<div>\n",
       "<style scoped>\n",
       "    .dataframe tbody tr th:only-of-type {\n",
       "        vertical-align: middle;\n",
       "    }\n",
       "\n",
       "    .dataframe tbody tr th {\n",
       "        vertical-align: top;\n",
       "    }\n",
       "\n",
       "    .dataframe thead th {\n",
       "        text-align: right;\n",
       "    }\n",
       "</style>\n",
       "<table border=\"1\" class=\"dataframe\">\n",
       "  <thead>\n",
       "    <tr style=\"text-align: right;\">\n",
       "      <th></th>\n",
       "      <th>price</th>\n",
       "      <th>maint</th>\n",
       "      <th>doors</th>\n",
       "      <th>persons</th>\n",
       "      <th>lug_capacity</th>\n",
       "      <th>safety</th>\n",
       "      <th>output</th>\n",
       "    </tr>\n",
       "  </thead>\n",
       "  <tbody>\n",
       "    <tr>\n",
       "      <th>0</th>\n",
       "      <td>vhigh</td>\n",
       "      <td>vhigh</td>\n",
       "      <td>2</td>\n",
       "      <td>2</td>\n",
       "      <td>small</td>\n",
       "      <td>low</td>\n",
       "      <td>unacc</td>\n",
       "    </tr>\n",
       "    <tr>\n",
       "      <th>1</th>\n",
       "      <td>vhigh</td>\n",
       "      <td>vhigh</td>\n",
       "      <td>2</td>\n",
       "      <td>2</td>\n",
       "      <td>small</td>\n",
       "      <td>med</td>\n",
       "      <td>unacc</td>\n",
       "    </tr>\n",
       "    <tr>\n",
       "      <th>2</th>\n",
       "      <td>vhigh</td>\n",
       "      <td>vhigh</td>\n",
       "      <td>2</td>\n",
       "      <td>2</td>\n",
       "      <td>small</td>\n",
       "      <td>high</td>\n",
       "      <td>unacc</td>\n",
       "    </tr>\n",
       "  </tbody>\n",
       "</table>\n",
       "</div>"
      ],
      "text/plain": [
       "   price  maint doors persons lug_capacity safety output\n",
       "0  vhigh  vhigh     2       2        small    low  unacc\n",
       "1  vhigh  vhigh     2       2        small    med  unacc\n",
       "2  vhigh  vhigh     2       2        small   high  unacc"
      ]
     },
     "execution_count": 2,
     "metadata": {},
     "output_type": "execute_result"
    }
   ],
   "source": [
    "cols = ['price', 'maint', 'doors', 'persons', 'lug_capacity', 'safety','output']\n",
    "cars = pd.read_csv(r'data\\car_evaluation_dataset\\car_evaluation.csv', names=cols, header=None)\n",
    "cars.head(3)"
   ]
  },
  {
   "cell_type": "code",
   "execution_count": 3,
   "id": "dc8786ee-0495-4bd8-b2f8-e7d59a277998",
   "metadata": {},
   "outputs": [],
   "source": [
    "# one-hot encoding\n",
    "price = pd.get_dummies(cars.price, prefix='price')\n",
    "maint = pd.get_dummies(cars.maint, prefix='maint')\n",
    "doors = pd.get_dummies(cars.doors, prefix='doors')\n",
    "persons = pd.get_dummies(cars.persons, prefix='persons')\n",
    "lug_capacity = pd.get_dummies(cars.lug_capacity, prefix='lug_capacity')\n",
    "safety = pd.get_dummies(cars.safety, prefix='safety')\n",
    "\n",
    "labels = pd.get_dummies(cars.output, prefix='condition')\n",
    "\n",
    "X = pd.concat([price, maint, doors, persons, lug_capacity, safety] , axis=1)\n",
    "y = labels.values"
   ]
  },
  {
   "cell_type": "code",
   "execution_count": 4,
   "id": "a7ba77c3-fefa-4521-abab-0fd491460dee",
   "metadata": {},
   "outputs": [],
   "source": [
    "from sklearn.model_selection import train_test_split\n",
    "X_train, X_test, y_train, y_test = train_test_split(X, y, test_size=0.20, random_state=42)"
   ]
  },
  {
   "cell_type": "markdown",
   "id": "aed7c92d-0e24-46f0-98ab-aabb2bdd27aa",
   "metadata": {},
   "source": [
    "# SingleLayerPerceptron base model"
   ]
  },
  {
   "cell_type": "code",
   "execution_count": 10,
   "id": "27b7e8c6-d01f-48b3-91a1-e8a873fa3f60",
   "metadata": {},
   "outputs": [],
   "source": [
    "SLP = SingleLayerPerceptron(tf.keras.layers.Dense(4, activation='softmax'))\n",
    "SLP.compile(loss='categorical_crossentropy', optimizer=tf.keras.optimizers.Adam(learning_rate=0.001), metrics=['acc'])"
   ]
  },
  {
   "cell_type": "code",
   "execution_count": 11,
   "id": "037411ed-06c2-46ed-a293-bf52eff64737",
   "metadata": {
    "collapsed": true,
    "jupyter": {
     "outputs_hidden": true
    },
    "tags": []
   },
   "outputs": [
    {
     "name": "stdout",
     "output_type": "stream",
     "text": [
      "Epoch 1/50\n",
      "139/139 [==============================] - 1s 2ms/step - loss: 1.2879 - acc: 0.4706 - val_loss: 1.1141 - val_acc: 0.6282\n",
      "Epoch 2/50\n",
      "139/139 [==============================] - 0s 1ms/step - loss: 0.9272 - acc: 0.7005 - val_loss: 0.9357 - val_acc: 0.6534\n",
      "Epoch 3/50\n",
      "139/139 [==============================] - 0s 1ms/step - loss: 0.7847 - acc: 0.7195 - val_loss: 0.8499 - val_acc: 0.6498\n",
      "Epoch 4/50\n",
      "139/139 [==============================] - 0s 1ms/step - loss: 0.7068 - acc: 0.7195 - val_loss: 0.7899 - val_acc: 0.6498\n",
      "Epoch 5/50\n",
      "139/139 [==============================] - 0s 1ms/step - loss: 0.6518 - acc: 0.7231 - val_loss: 0.7439 - val_acc: 0.6570\n",
      "Epoch 6/50\n",
      "139/139 [==============================] - 0s 1ms/step - loss: 0.6097 - acc: 0.7285 - val_loss: 0.7053 - val_acc: 0.6643\n",
      "Epoch 7/50\n",
      "139/139 [==============================] - 0s 1ms/step - loss: 0.5751 - acc: 0.7430 - val_loss: 0.6732 - val_acc: 0.6715\n",
      "Epoch 8/50\n",
      "139/139 [==============================] - 0s 1ms/step - loss: 0.5457 - acc: 0.7520 - val_loss: 0.6466 - val_acc: 0.6823\n",
      "Epoch 9/50\n",
      "139/139 [==============================] - 0s 1ms/step - loss: 0.5212 - acc: 0.7683 - val_loss: 0.6219 - val_acc: 0.7004\n",
      "Epoch 10/50\n",
      "139/139 [==============================] - 0s 1ms/step - loss: 0.5002 - acc: 0.7882 - val_loss: 0.6014 - val_acc: 0.7148\n",
      "Epoch 11/50\n",
      "139/139 [==============================] - 0s 1ms/step - loss: 0.4808 - acc: 0.7955 - val_loss: 0.5814 - val_acc: 0.7329\n",
      "Epoch 12/50\n",
      "139/139 [==============================] - 0s 1ms/step - loss: 0.4641 - acc: 0.8172 - val_loss: 0.5646 - val_acc: 0.7437\n",
      "Epoch 13/50\n",
      "139/139 [==============================] - 0s 1ms/step - loss: 0.4486 - acc: 0.8281 - val_loss: 0.5485 - val_acc: 0.7473\n",
      "Epoch 14/50\n",
      "139/139 [==============================] - 0s 1ms/step - loss: 0.4343 - acc: 0.8244 - val_loss: 0.5320 - val_acc: 0.7762\n",
      "Epoch 15/50\n",
      "139/139 [==============================] - 0s 1ms/step - loss: 0.4212 - acc: 0.8443 - val_loss: 0.5176 - val_acc: 0.7870\n",
      "Epoch 16/50\n",
      "139/139 [==============================] - 0s 1ms/step - loss: 0.4094 - acc: 0.8498 - val_loss: 0.5053 - val_acc: 0.7942\n",
      "Epoch 17/50\n",
      "139/139 [==============================] - 0s 1ms/step - loss: 0.3982 - acc: 0.8543 - val_loss: 0.4930 - val_acc: 0.8051\n",
      "Epoch 18/50\n",
      "139/139 [==============================] - 0s 1ms/step - loss: 0.3879 - acc: 0.8579 - val_loss: 0.4807 - val_acc: 0.8014\n",
      "Epoch 19/50\n",
      "139/139 [==============================] - 0s 1ms/step - loss: 0.3781 - acc: 0.8643 - val_loss: 0.4704 - val_acc: 0.8087\n",
      "Epoch 20/50\n",
      "139/139 [==============================] - 0s 1ms/step - loss: 0.3691 - acc: 0.8643 - val_loss: 0.4601 - val_acc: 0.8087\n",
      "Epoch 21/50\n",
      "139/139 [==============================] - 0s 1ms/step - loss: 0.3604 - acc: 0.8697 - val_loss: 0.4500 - val_acc: 0.8195\n",
      "Epoch 22/50\n",
      "139/139 [==============================] - 0s 1ms/step - loss: 0.3527 - acc: 0.8715 - val_loss: 0.4417 - val_acc: 0.8195\n",
      "Epoch 23/50\n",
      "139/139 [==============================] - 0s 1ms/step - loss: 0.3449 - acc: 0.8706 - val_loss: 0.4324 - val_acc: 0.8267\n",
      "Epoch 24/50\n",
      "139/139 [==============================] - 0s 1ms/step - loss: 0.3379 - acc: 0.8715 - val_loss: 0.4256 - val_acc: 0.8267\n",
      "Epoch 25/50\n",
      "139/139 [==============================] - 0s 1ms/step - loss: 0.3314 - acc: 0.8751 - val_loss: 0.4172 - val_acc: 0.8303\n",
      "Epoch 26/50\n",
      "139/139 [==============================] - 0s 1ms/step - loss: 0.3254 - acc: 0.8724 - val_loss: 0.4107 - val_acc: 0.8303\n",
      "Epoch 27/50\n",
      "139/139 [==============================] - 0s 1ms/step - loss: 0.3192 - acc: 0.8742 - val_loss: 0.4038 - val_acc: 0.8303\n",
      "Epoch 28/50\n",
      "139/139 [==============================] - 0s 1ms/step - loss: 0.3137 - acc: 0.8814 - val_loss: 0.3976 - val_acc: 0.8339\n",
      "Epoch 29/50\n",
      "139/139 [==============================] - 0s 1ms/step - loss: 0.3082 - acc: 0.8805 - val_loss: 0.3913 - val_acc: 0.8339\n",
      "Epoch 30/50\n",
      "139/139 [==============================] - 0s 1ms/step - loss: 0.3033 - acc: 0.8805 - val_loss: 0.3860 - val_acc: 0.8339\n",
      "Epoch 31/50\n",
      "139/139 [==============================] - 0s 1ms/step - loss: 0.2984 - acc: 0.8860 - val_loss: 0.3806 - val_acc: 0.8448\n",
      "Epoch 32/50\n",
      "139/139 [==============================] - 0s 1ms/step - loss: 0.2940 - acc: 0.8869 - val_loss: 0.3753 - val_acc: 0.8484\n",
      "Epoch 33/50\n",
      "139/139 [==============================] - 0s 1ms/step - loss: 0.2896 - acc: 0.8842 - val_loss: 0.3702 - val_acc: 0.8520\n",
      "Epoch 34/50\n",
      "139/139 [==============================] - 0s 1ms/step - loss: 0.2851 - acc: 0.8842 - val_loss: 0.3658 - val_acc: 0.8556\n",
      "Epoch 35/50\n",
      "139/139 [==============================] - 0s 1ms/step - loss: 0.2811 - acc: 0.8896 - val_loss: 0.3609 - val_acc: 0.8556\n",
      "Epoch 36/50\n",
      "139/139 [==============================] - 0s 1ms/step - loss: 0.2772 - acc: 0.8941 - val_loss: 0.3567 - val_acc: 0.8592\n",
      "Epoch 37/50\n",
      "139/139 [==============================] - 0s 1ms/step - loss: 0.2736 - acc: 0.8941 - val_loss: 0.3521 - val_acc: 0.8628\n",
      "Epoch 38/50\n",
      "139/139 [==============================] - 0s 1ms/step - loss: 0.2701 - acc: 0.8941 - val_loss: 0.3478 - val_acc: 0.8700\n",
      "Epoch 39/50\n",
      "139/139 [==============================] - 0s 1ms/step - loss: 0.2665 - acc: 0.8986 - val_loss: 0.3440 - val_acc: 0.8736\n",
      "Epoch 40/50\n",
      "139/139 [==============================] - 0s 1ms/step - loss: 0.2633 - acc: 0.8959 - val_loss: 0.3402 - val_acc: 0.8736\n",
      "Epoch 41/50\n",
      "139/139 [==============================] - 0s 1ms/step - loss: 0.2601 - acc: 0.9014 - val_loss: 0.3367 - val_acc: 0.8809\n",
      "Epoch 42/50\n",
      "139/139 [==============================] - 0s 1ms/step - loss: 0.2572 - acc: 0.9023 - val_loss: 0.3329 - val_acc: 0.8881\n",
      "Epoch 43/50\n",
      "139/139 [==============================] - 0s 1ms/step - loss: 0.2540 - acc: 0.9005 - val_loss: 0.3297 - val_acc: 0.8881\n",
      "Epoch 44/50\n",
      "139/139 [==============================] - 0s 1ms/step - loss: 0.2512 - acc: 0.9077 - val_loss: 0.3264 - val_acc: 0.8917\n",
      "Epoch 45/50\n",
      "139/139 [==============================] - 0s 1ms/step - loss: 0.2486 - acc: 0.9050 - val_loss: 0.3232 - val_acc: 0.8881\n",
      "Epoch 46/50\n",
      "139/139 [==============================] - 0s 1ms/step - loss: 0.2458 - acc: 0.9095 - val_loss: 0.3204 - val_acc: 0.8881\n",
      "Epoch 47/50\n",
      "139/139 [==============================] - 0s 1ms/step - loss: 0.2431 - acc: 0.9104 - val_loss: 0.3172 - val_acc: 0.8917\n",
      "Epoch 48/50\n",
      "139/139 [==============================] - 0s 1ms/step - loss: 0.2408 - acc: 0.9104 - val_loss: 0.3146 - val_acc: 0.8917\n",
      "Epoch 49/50\n",
      "139/139 [==============================] - 0s 1ms/step - loss: 0.2385 - acc: 0.9068 - val_loss: 0.3121 - val_acc: 0.8917\n",
      "Epoch 50/50\n",
      "139/139 [==============================] - 0s 1ms/step - loss: 0.2360 - acc: 0.9122 - val_loss: 0.3095 - val_acc: 0.8917\n"
     ]
    }
   ],
   "source": [
    "history = SLP.fit(X_train, y_train, batch_size=8, epochs=50, verbose=1, validation_split=0.2)"
   ]
  },
  {
   "cell_type": "code",
   "execution_count": 12,
   "id": "bfbd358a-e80a-47b2-b9c2-5dede9084b11",
   "metadata": {},
   "outputs": [
    {
     "name": "stdout",
     "output_type": "stream",
     "text": [
      "11/11 [==============================] - 0s 2ms/step - loss: 0.2699 - acc: 0.8873\n"
     ]
    },
    {
     "data": {
      "text/plain": [
       "[0.26990699768066406, 0.8872832655906677]"
      ]
     },
     "execution_count": 12,
     "metadata": {},
     "output_type": "execute_result"
    }
   ],
   "source": [
    "SLP.evaluate(X_test, y_test)"
   ]
  },
  {
   "cell_type": "markdown",
   "id": "67de437a-ebf1-4a5d-bb4e-adc372d162ea",
   "metadata": {},
   "source": [
    "# Transfert learning\n",
    "## SemiAxisRegularizer effect"
   ]
  },
  {
   "cell_type": "code",
   "execution_count": 13,
   "id": "2e27b7fa-9732-47ca-92ea-0c1f834e684f",
   "metadata": {},
   "outputs": [],
   "source": [
    "LBBM_1 = LorisBallsBasedModel(BoundedParaboloids(128, semi_axis_regularizer=SemiAxisRegularizer(0.000001)),\n",
    "                              tf.keras.layers.Dense(4, activation='softmax'),\n",
    "                              SLP)\n",
    "LBBM_1.freeze_base_model()\n",
    "LBBM_1.compile(loss='categorical_crossentropy', optimizer=tf.keras.optimizers.Adam(learning_rate=0.001), metrics=['acc'])"
   ]
  },
  {
   "cell_type": "code",
   "execution_count": 14,
   "id": "94d5b261-e8b3-4a7d-bd6f-33ed0c9c7653",
   "metadata": {
    "collapsed": true,
    "jupyter": {
     "outputs_hidden": true
    },
    "tags": []
   },
   "outputs": [
    {
     "name": "stdout",
     "output_type": "stream",
     "text": [
      "Epoch 1/50\n",
      "139/139 [==============================] - 48s 64ms/step - loss: 0.8881 - acc: 0.6950 - val_loss: 0.9731 - val_acc: 0.6498\n",
      "Epoch 2/50\n",
      "139/139 [==============================] - 5s 34ms/step - loss: 0.7802 - acc: 0.7195 - val_loss: 0.8744 - val_acc: 0.6498\n",
      "Epoch 3/50\n",
      "139/139 [==============================] - 4s 29ms/step - loss: 0.7074 - acc: 0.7195 - val_loss: 0.8195 - val_acc: 0.6498\n",
      "Epoch 4/50\n",
      "139/139 [==============================] - 3s 24ms/step - loss: 0.6455 - acc: 0.7195 - val_loss: 0.7304 - val_acc: 0.6498\n",
      "Epoch 5/50\n",
      "139/139 [==============================] - 3s 23ms/step - loss: 0.5820 - acc: 0.7593 - val_loss: 0.6468 - val_acc: 0.7906\n",
      "Epoch 6/50\n",
      "139/139 [==============================] - 3s 23ms/step - loss: 0.5401 - acc: 0.7991 - val_loss: 0.6294 - val_acc: 0.7040\n",
      "Epoch 7/50\n",
      "139/139 [==============================] - 3s 22ms/step - loss: 0.4891 - acc: 0.8353 - val_loss: 0.5837 - val_acc: 0.8267\n",
      "Epoch 8/50\n",
      "139/139 [==============================] - 3s 22ms/step - loss: 0.4567 - acc: 0.8579 - val_loss: 0.5507 - val_acc: 0.7942\n",
      "Epoch 9/50\n",
      "139/139 [==============================] - 3s 22ms/step - loss: 0.4330 - acc: 0.8534 - val_loss: 0.5228 - val_acc: 0.8231\n",
      "Epoch 10/50\n",
      "139/139 [==============================] - 3s 22ms/step - loss: 0.4104 - acc: 0.8606 - val_loss: 0.5099 - val_acc: 0.8231\n",
      "Epoch 11/50\n",
      "139/139 [==============================] - 3s 22ms/step - loss: 0.3919 - acc: 0.8679 - val_loss: 0.4798 - val_acc: 0.8231\n",
      "Epoch 12/50\n",
      "139/139 [==============================] - 3s 22ms/step - loss: 0.3751 - acc: 0.8643 - val_loss: 0.4630 - val_acc: 0.8123\n",
      "Epoch 13/50\n",
      "139/139 [==============================] - 3s 22ms/step - loss: 0.3638 - acc: 0.8670 - val_loss: 0.4574 - val_acc: 0.8087\n",
      "Epoch 14/50\n",
      "139/139 [==============================] - 3s 22ms/step - loss: 0.3490 - acc: 0.8679 - val_loss: 0.4256 - val_acc: 0.8159\n",
      "Epoch 15/50\n",
      "139/139 [==============================] - 3s 22ms/step - loss: 0.3303 - acc: 0.8643 - val_loss: 0.4186 - val_acc: 0.8231\n",
      "Epoch 16/50\n",
      "139/139 [==============================] - 3s 22ms/step - loss: 0.3174 - acc: 0.8742 - val_loss: 0.4335 - val_acc: 0.7978\n",
      "Epoch 17/50\n",
      "139/139 [==============================] - 3s 22ms/step - loss: 0.3080 - acc: 0.8724 - val_loss: 0.3807 - val_acc: 0.8412\n",
      "Epoch 18/50\n",
      "139/139 [==============================] - 3s 22ms/step - loss: 0.2928 - acc: 0.8787 - val_loss: 0.3757 - val_acc: 0.8556\n",
      "Epoch 19/50\n",
      "139/139 [==============================] - 3s 22ms/step - loss: 0.2814 - acc: 0.8787 - val_loss: 0.3592 - val_acc: 0.8339\n",
      "Epoch 20/50\n",
      "139/139 [==============================] - 3s 22ms/step - loss: 0.2728 - acc: 0.8842 - val_loss: 0.3554 - val_acc: 0.8556\n",
      "Epoch 21/50\n",
      "139/139 [==============================] - 3s 23ms/step - loss: 0.2620 - acc: 0.8950 - val_loss: 0.3373 - val_acc: 0.8628\n",
      "Epoch 22/50\n",
      "139/139 [==============================] - 4s 27ms/step - loss: 0.2522 - acc: 0.9014 - val_loss: 0.3166 - val_acc: 0.8845\n",
      "Epoch 23/50\n",
      "139/139 [==============================] - 4s 27ms/step - loss: 0.2421 - acc: 0.9050 - val_loss: 0.3077 - val_acc: 0.8592\n",
      "Epoch 24/50\n",
      "139/139 [==============================] - 3s 22ms/step - loss: 0.2320 - acc: 0.9140 - val_loss: 0.3111 - val_acc: 0.8664\n",
      "Epoch 25/50\n",
      "139/139 [==============================] - 3s 23ms/step - loss: 0.2231 - acc: 0.9186 - val_loss: 0.2771 - val_acc: 0.8953\n",
      "Epoch 26/50\n",
      "139/139 [==============================] - 3s 23ms/step - loss: 0.2142 - acc: 0.9231 - val_loss: 0.2849 - val_acc: 0.8664\n",
      "Epoch 27/50\n",
      "139/139 [==============================] - 3s 23ms/step - loss: 0.2000 - acc: 0.9357 - val_loss: 0.2613 - val_acc: 0.8953\n",
      "Epoch 28/50\n",
      "139/139 [==============================] - 3s 23ms/step - loss: 0.1987 - acc: 0.9249 - val_loss: 0.2456 - val_acc: 0.9242\n",
      "Epoch 29/50\n",
      "139/139 [==============================] - 3s 23ms/step - loss: 0.1888 - acc: 0.9439 - val_loss: 0.2365 - val_acc: 0.9314\n",
      "Epoch 30/50\n",
      "139/139 [==============================] - 3s 22ms/step - loss: 0.1803 - acc: 0.9367 - val_loss: 0.2319 - val_acc: 0.9206\n",
      "Epoch 31/50\n",
      "139/139 [==============================] - 4s 27ms/step - loss: 0.1727 - acc: 0.9430 - val_loss: 0.2223 - val_acc: 0.9242\n",
      "Epoch 32/50\n",
      "139/139 [==============================] - 4s 28ms/step - loss: 0.1663 - acc: 0.9448 - val_loss: 0.2223 - val_acc: 0.9242\n",
      "Epoch 33/50\n",
      "139/139 [==============================] - 3s 21ms/step - loss: 0.1594 - acc: 0.9538 - val_loss: 0.2099 - val_acc: 0.9206\n",
      "Epoch 34/50\n",
      "139/139 [==============================] - 3s 21ms/step - loss: 0.1522 - acc: 0.9575 - val_loss: 0.2014 - val_acc: 0.9422\n",
      "Epoch 35/50\n",
      "139/139 [==============================] - 3s 20ms/step - loss: 0.1464 - acc: 0.9566 - val_loss: 0.1957 - val_acc: 0.9350\n",
      "Epoch 36/50\n",
      "139/139 [==============================] - 3s 21ms/step - loss: 0.1411 - acc: 0.9647 - val_loss: 0.1838 - val_acc: 0.9567\n",
      "Epoch 37/50\n",
      "139/139 [==============================] - 3s 21ms/step - loss: 0.1333 - acc: 0.9620 - val_loss: 0.1793 - val_acc: 0.9458\n",
      "Epoch 38/50\n",
      "139/139 [==============================] - 3s 20ms/step - loss: 0.1311 - acc: 0.9701 - val_loss: 0.1781 - val_acc: 0.9458\n",
      "Epoch 39/50\n",
      "139/139 [==============================] - 3s 21ms/step - loss: 0.1248 - acc: 0.9692 - val_loss: 0.1677 - val_acc: 0.9675\n",
      "Epoch 40/50\n",
      "139/139 [==============================] - 3s 20ms/step - loss: 0.1191 - acc: 0.9774 - val_loss: 0.1634 - val_acc: 0.9639\n",
      "Epoch 41/50\n",
      "139/139 [==============================] - 3s 20ms/step - loss: 0.1174 - acc: 0.9756 - val_loss: 0.1629 - val_acc: 0.9711\n",
      "Epoch 42/50\n",
      "139/139 [==============================] - 3s 20ms/step - loss: 0.1096 - acc: 0.9792 - val_loss: 0.1598 - val_acc: 0.9639\n",
      "Epoch 43/50\n",
      "139/139 [==============================] - 3s 19ms/step - loss: 0.1045 - acc: 0.9792 - val_loss: 0.1532 - val_acc: 0.9495\n",
      "Epoch 44/50\n",
      "139/139 [==============================] - 3s 20ms/step - loss: 0.1014 - acc: 0.9774 - val_loss: 0.1544 - val_acc: 0.9567\n",
      "Epoch 45/50\n",
      "139/139 [==============================] - 3s 22ms/step - loss: 0.0963 - acc: 0.9810 - val_loss: 0.1397 - val_acc: 0.9747\n",
      "Epoch 46/50\n",
      "139/139 [==============================] - 3s 23ms/step - loss: 0.0911 - acc: 0.9855 - val_loss: 0.1358 - val_acc: 0.9747\n",
      "Epoch 47/50\n",
      "139/139 [==============================] - 3s 21ms/step - loss: 0.0874 - acc: 0.9846 - val_loss: 0.1354 - val_acc: 0.9531\n",
      "Epoch 48/50\n",
      "139/139 [==============================] - 3s 19ms/step - loss: 0.0842 - acc: 0.9846 - val_loss: 0.1230 - val_acc: 0.9747\n",
      "Epoch 49/50\n",
      "139/139 [==============================] - 3s 20ms/step - loss: 0.0811 - acc: 0.9910 - val_loss: 0.1223 - val_acc: 0.9639\n",
      "Epoch 50/50\n",
      "139/139 [==============================] - 3s 20ms/step - loss: 0.0771 - acc: 0.9882 - val_loss: 0.1140 - val_acc: 0.9747\n"
     ]
    }
   ],
   "source": [
    "history_LBBM_1 = LBBM_1.fit(X_train, y_train, batch_size=8, epochs=50, verbose=1, validation_split=0.2)"
   ]
  },
  {
   "cell_type": "code",
   "execution_count": 15,
   "id": "613d2139-fe4d-4b6c-8065-890611c43c58",
   "metadata": {
    "tags": []
   },
   "outputs": [
    {
     "name": "stdout",
     "output_type": "stream",
     "text": [
      "11/11 [==============================] - 0s 8ms/step - loss: 0.1413 - acc: 0.9595\n"
     ]
    },
    {
     "data": {
      "text/plain": [
       "[0.1412847638130188, 0.9595375657081604]"
      ]
     },
     "execution_count": 15,
     "metadata": {},
     "output_type": "execute_result"
    }
   ],
   "source": [
    "LBBM_1.evaluate(X_test, y_test)"
   ]
  },
  {
   "cell_type": "code",
   "execution_count": 16,
   "id": "606d3e6f-8624-4e19-b78a-aa702ef38b15",
   "metadata": {
    "tags": []
   },
   "outputs": [
    {
     "name": "stdout",
     "output_type": "stream",
     "text": [
      "11/11 [==============================] - 0s 1ms/step - loss: 0.2699 - acc: 0.8873\n"
     ]
    },
    {
     "data": {
      "text/plain": [
       "[0.26990699768066406, 0.8872832655906677]"
      ]
     },
     "execution_count": 16,
     "metadata": {},
     "output_type": "execute_result"
    }
   ],
   "source": [
    "LBBM_1.base_model.evaluate(X_test, y_test)"
   ]
  },
  {
   "cell_type": "code",
   "execution_count": 17,
   "id": "81aeeb93-0f22-4cd1-84de-bf030a45664c",
   "metadata": {},
   "outputs": [],
   "source": [
    "LBBM_2 = LorisBallsBasedModel(BoundedParaboloids(128, semi_axis_regularizer=SemiAxisRegularizer(0.00001)),\n",
    "                              tf.keras.layers.Dense(4, activation='softmax'),\n",
    "                              SLP)\n",
    "LBBM_2.freeze_base_model()\n",
    "LBBM_2.compile(loss='categorical_crossentropy', optimizer=tf.keras.optimizers.Adam(learning_rate=0.001), metrics=['acc'])"
   ]
  },
  {
   "cell_type": "code",
   "execution_count": 18,
   "id": "80e93f35-cbbd-4dc6-9367-bb8556852d8d",
   "metadata": {
    "collapsed": true,
    "jupyter": {
     "outputs_hidden": true
    },
    "tags": []
   },
   "outputs": [
    {
     "name": "stdout",
     "output_type": "stream",
     "text": [
      "Epoch 1/50\n",
      "139/139 [==============================] - 42s 53ms/step - loss: 0.9990 - acc: 0.7195 - val_loss: 1.0305 - val_acc: 0.6498\n",
      "Epoch 2/50\n",
      "139/139 [==============================] - 3s 19ms/step - loss: 0.8503 - acc: 0.7195 - val_loss: 0.9358 - val_acc: 0.6498\n",
      "Epoch 3/50\n",
      "139/139 [==============================] - 3s 19ms/step - loss: 0.7754 - acc: 0.7195 - val_loss: 0.8704 - val_acc: 0.6498\n",
      "Epoch 4/50\n",
      "139/139 [==============================] - 3s 21ms/step - loss: 0.7191 - acc: 0.7204 - val_loss: 0.8098 - val_acc: 0.6534\n",
      "Epoch 5/50\n",
      "139/139 [==============================] - 3s 21ms/step - loss: 0.6687 - acc: 0.7385 - val_loss: 0.7609 - val_acc: 0.6570\n",
      "Epoch 6/50\n",
      "139/139 [==============================] - 3s 20ms/step - loss: 0.6170 - acc: 0.7656 - val_loss: 0.7172 - val_acc: 0.7401\n",
      "Epoch 7/50\n",
      "139/139 [==============================] - 3s 20ms/step - loss: 0.5693 - acc: 0.8226 - val_loss: 0.6721 - val_acc: 0.7076\n",
      "Epoch 8/50\n",
      "139/139 [==============================] - 3s 19ms/step - loss: 0.5300 - acc: 0.8380 - val_loss: 0.6132 - val_acc: 0.8051\n",
      "Epoch 9/50\n",
      "139/139 [==============================] - 3s 20ms/step - loss: 0.4892 - acc: 0.8597 - val_loss: 0.5860 - val_acc: 0.7906\n",
      "Epoch 10/50\n",
      "139/139 [==============================] - 3s 19ms/step - loss: 0.4646 - acc: 0.8661 - val_loss: 0.5543 - val_acc: 0.8123\n",
      "Epoch 11/50\n",
      "139/139 [==============================] - 3s 19ms/step - loss: 0.4328 - acc: 0.8715 - val_loss: 0.5491 - val_acc: 0.8339\n",
      "Epoch 12/50\n",
      "139/139 [==============================] - 3s 19ms/step - loss: 0.4137 - acc: 0.8724 - val_loss: 0.5004 - val_acc: 0.8484\n",
      "Epoch 13/50\n",
      "139/139 [==============================] - 3s 19ms/step - loss: 0.3920 - acc: 0.8824 - val_loss: 0.4884 - val_acc: 0.8412\n",
      "Epoch 14/50\n",
      "139/139 [==============================] - 3s 19ms/step - loss: 0.3724 - acc: 0.8824 - val_loss: 0.4653 - val_acc: 0.8375\n",
      "Epoch 15/50\n",
      "139/139 [==============================] - 3s 19ms/step - loss: 0.3523 - acc: 0.8878 - val_loss: 0.4215 - val_acc: 0.8520\n",
      "Epoch 16/50\n",
      "139/139 [==============================] - 3s 20ms/step - loss: 0.3331 - acc: 0.8941 - val_loss: 0.4095 - val_acc: 0.8556\n",
      "Epoch 17/50\n",
      "139/139 [==============================] - 3s 19ms/step - loss: 0.3177 - acc: 0.8959 - val_loss: 0.3919 - val_acc: 0.8736\n",
      "Epoch 18/50\n",
      "139/139 [==============================] - 3s 19ms/step - loss: 0.3046 - acc: 0.8986 - val_loss: 0.3788 - val_acc: 0.8736\n",
      "Epoch 19/50\n",
      "139/139 [==============================] - 3s 19ms/step - loss: 0.2909 - acc: 0.9086 - val_loss: 0.3578 - val_acc: 0.8809\n",
      "Epoch 20/50\n",
      "139/139 [==============================] - 3s 19ms/step - loss: 0.2791 - acc: 0.9095 - val_loss: 0.3529 - val_acc: 0.8809\n",
      "Epoch 21/50\n",
      "139/139 [==============================] - 3s 20ms/step - loss: 0.2689 - acc: 0.9113 - val_loss: 0.3385 - val_acc: 0.8881\n",
      "Epoch 22/50\n",
      "139/139 [==============================] - 3s 21ms/step - loss: 0.2574 - acc: 0.9149 - val_loss: 0.3231 - val_acc: 0.8917\n",
      "Epoch 23/50\n",
      "139/139 [==============================] - 3s 22ms/step - loss: 0.2503 - acc: 0.9186 - val_loss: 0.3242 - val_acc: 0.8845\n",
      "Epoch 24/50\n",
      "139/139 [==============================] - 3s 20ms/step - loss: 0.2424 - acc: 0.9122 - val_loss: 0.3062 - val_acc: 0.8809\n",
      "Epoch 25/50\n",
      "139/139 [==============================] - 3s 19ms/step - loss: 0.2353 - acc: 0.9204 - val_loss: 0.2927 - val_acc: 0.8989\n",
      "Epoch 26/50\n",
      "139/139 [==============================] - 3s 19ms/step - loss: 0.2272 - acc: 0.9294 - val_loss: 0.2950 - val_acc: 0.8953\n",
      "Epoch 27/50\n",
      "139/139 [==============================] - 3s 19ms/step - loss: 0.2204 - acc: 0.9240 - val_loss: 0.2769 - val_acc: 0.9097\n",
      "Epoch 28/50\n",
      "139/139 [==============================] - 3s 19ms/step - loss: 0.2133 - acc: 0.9394 - val_loss: 0.2833 - val_acc: 0.9061\n",
      "Epoch 29/50\n",
      "139/139 [==============================] - 3s 19ms/step - loss: 0.2098 - acc: 0.9249 - val_loss: 0.2617 - val_acc: 0.9206\n",
      "Epoch 30/50\n",
      "139/139 [==============================] - 3s 19ms/step - loss: 0.2016 - acc: 0.9357 - val_loss: 0.2673 - val_acc: 0.8953\n",
      "Epoch 31/50\n",
      "139/139 [==============================] - 3s 19ms/step - loss: 0.1966 - acc: 0.9303 - val_loss: 0.2564 - val_acc: 0.9278\n",
      "Epoch 32/50\n",
      "139/139 [==============================] - 3s 19ms/step - loss: 0.1898 - acc: 0.9394 - val_loss: 0.2535 - val_acc: 0.8953\n",
      "Epoch 33/50\n",
      "139/139 [==============================] - 3s 20ms/step - loss: 0.1865 - acc: 0.9403 - val_loss: 0.2408 - val_acc: 0.9350\n",
      "Epoch 34/50\n",
      "139/139 [==============================] - 3s 21ms/step - loss: 0.1799 - acc: 0.9448 - val_loss: 0.2425 - val_acc: 0.9458680 - acc: 0. - ETA: 0s - loss: 0.1705 -\n",
      "Epoch 35/50\n",
      "139/139 [==============================] - 3s 21ms/step - loss: 0.1786 - acc: 0.9448 - val_loss: 0.2343 - val_acc: 0.9025\n",
      "Epoch 36/50\n",
      "139/139 [==============================] - 3s 19ms/step - loss: 0.1701 - acc: 0.9511 - val_loss: 0.2339 - val_acc: 0.9314\n",
      "Epoch 37/50\n",
      "139/139 [==============================] - 3s 19ms/step - loss: 0.1695 - acc: 0.9502 - val_loss: 0.2258 - val_acc: 0.9242\n",
      "Epoch 38/50\n",
      "139/139 [==============================] - 3s 21ms/step - loss: 0.1621 - acc: 0.9548 - val_loss: 0.2213 - val_acc: 0.9134\n",
      "Epoch 39/50\n",
      "139/139 [==============================] - 3s 21ms/step - loss: 0.1589 - acc: 0.9548 - val_loss: 0.2328 - val_acc: 0.8989\n",
      "Epoch 40/50\n",
      "139/139 [==============================] - 3s 21ms/step - loss: 0.1561 - acc: 0.9566 - val_loss: 0.2071 - val_acc: 0.9350\n",
      "Epoch 41/50\n",
      "139/139 [==============================] - 3s 22ms/step - loss: 0.1474 - acc: 0.9602 - val_loss: 0.2124 - val_acc: 0.9206\n",
      "Epoch 42/50\n",
      "139/139 [==============================] - 3s 21ms/step - loss: 0.1435 - acc: 0.9629 - val_loss: 0.1975 - val_acc: 0.9495\n",
      "Epoch 43/50\n",
      "139/139 [==============================] - 3s 22ms/step - loss: 0.1380 - acc: 0.9665 - val_loss: 0.1987 - val_acc: 0.9495\n",
      "Epoch 44/50\n",
      "139/139 [==============================] - 3s 22ms/step - loss: 0.1348 - acc: 0.9692 - val_loss: 0.1935 - val_acc: 0.9531\n",
      "Epoch 45/50\n",
      "139/139 [==============================] - 3s 23ms/step - loss: 0.1326 - acc: 0.9719 - val_loss: 0.1883 - val_acc: 0.9458\n",
      "Epoch 46/50\n",
      "139/139 [==============================] - 3s 23ms/step - loss: 0.1280 - acc: 0.9747 - val_loss: 0.1836 - val_acc: 0.9495\n",
      "Epoch 47/50\n",
      "139/139 [==============================] - 3s 19ms/step - loss: 0.1208 - acc: 0.9783 - val_loss: 0.1732 - val_acc: 0.9675\n",
      "Epoch 48/50\n",
      "139/139 [==============================] - 3s 19ms/step - loss: 0.1178 - acc: 0.9792 - val_loss: 0.1769 - val_acc: 0.9567\n",
      "Epoch 49/50\n",
      "139/139 [==============================] - 3s 20ms/step - loss: 0.1130 - acc: 0.9756 - val_loss: 0.1653 - val_acc: 0.9675\n",
      "Epoch 50/50\n",
      "139/139 [==============================] - 3s 19ms/step - loss: 0.1097 - acc: 0.9765 - val_loss: 0.1825 - val_acc: 0.9350\n"
     ]
    }
   ],
   "source": [
    "history_LBBM_2 = LBBM_2.fit(X_train, y_train, batch_size=8, epochs=50, verbose=1, validation_split=0.2)"
   ]
  },
  {
   "cell_type": "code",
   "execution_count": 19,
   "id": "6cc373b9-e862-4b34-8fcf-1156a9e8e594",
   "metadata": {
    "tags": []
   },
   "outputs": [
    {
     "name": "stdout",
     "output_type": "stream",
     "text": [
      "11/11 [==============================] - 0s 8ms/step - loss: 0.1634 - acc: 0.9451\n"
     ]
    },
    {
     "data": {
      "text/plain": [
       "[0.1634235978126526, 0.9450867176055908]"
      ]
     },
     "execution_count": 19,
     "metadata": {},
     "output_type": "execute_result"
    }
   ],
   "source": [
    "LBBM_2.evaluate(X_test, y_test)"
   ]
  },
  {
   "cell_type": "code",
   "execution_count": 20,
   "id": "c8b9bfb2-a32e-4ece-b767-364fc7630b20",
   "metadata": {},
   "outputs": [
    {
     "name": "stdout",
     "output_type": "stream",
     "text": [
      "11/11 [==============================] - 0s 2ms/step - loss: 0.2699 - acc: 0.8873\n"
     ]
    },
    {
     "data": {
      "text/plain": [
       "[0.26990699768066406, 0.8872832655906677]"
      ]
     },
     "execution_count": 20,
     "metadata": {},
     "output_type": "execute_result"
    }
   ],
   "source": [
    "LBBM_2.base_model.evaluate(X_test, y_test)"
   ]
  },
  {
   "cell_type": "code",
   "execution_count": 21,
   "id": "fe9b9cc3-a3d2-4c70-b4a7-43db41552c58",
   "metadata": {},
   "outputs": [],
   "source": [
    "LBBM_3 = LorisBallsBasedModel(BoundedParaboloids(128, semi_axis_regularizer=SemiAxisRegularizer(0.00005)),\n",
    "                              tf.keras.layers.Dense(4, activation='softmax'),\n",
    "                              SLP)\n",
    "LBBM_3.freeze_base_model()\n",
    "LBBM_3.compile(loss='categorical_crossentropy', optimizer=tf.keras.optimizers.Adam(learning_rate=0.001), metrics=['acc'])"
   ]
  },
  {
   "cell_type": "code",
   "execution_count": 22,
   "id": "fdd27924-8d67-486a-9f33-ab67b2e2ff4a",
   "metadata": {
    "collapsed": true,
    "jupyter": {
     "outputs_hidden": true
    },
    "tags": []
   },
   "outputs": [
    {
     "name": "stdout",
     "output_type": "stream",
     "text": [
      "Epoch 1/50\n",
      "139/139 [==============================] - 46s 58ms/step - loss: 1.9178 - acc: 0.6561 - val_loss: 1.6670 - val_acc: 0.6498\n",
      "Epoch 2/50\n",
      "139/139 [==============================] - 3s 19ms/step - loss: 1.3782 - acc: 0.7195 - val_loss: 1.4289 - val_acc: 0.6498\n",
      "Epoch 3/50\n",
      "139/139 [==============================] - 3s 19ms/step - loss: 1.2041 - acc: 0.7195 - val_loss: 1.2668 - val_acc: 0.6498\n",
      "Epoch 4/50\n",
      "139/139 [==============================] - 3s 20ms/step - loss: 1.0877 - acc: 0.7195 - val_loss: 1.1756 - val_acc: 0.6498\n",
      "Epoch 5/50\n",
      "139/139 [==============================] - 3s 20ms/step - loss: 1.0031 - acc: 0.7231 - val_loss: 1.0868 - val_acc: 0.6498\n",
      "Epoch 6/50\n",
      "139/139 [==============================] - 3s 20ms/step - loss: 0.9307 - acc: 0.7330 - val_loss: 1.0502 - val_acc: 0.6498\n",
      "Epoch 7/50\n",
      "139/139 [==============================] - 3s 20ms/step - loss: 0.8687 - acc: 0.7448 - val_loss: 0.9578 - val_acc: 0.7906\n",
      "Epoch 8/50\n",
      "139/139 [==============================] - 3s 20ms/step - loss: 0.8015 - acc: 0.8190 - val_loss: 0.9005 - val_acc: 0.6823\n",
      "Epoch 9/50\n",
      "139/139 [==============================] - 3s 20ms/step - loss: 0.7552 - acc: 0.8253 - val_loss: 0.8386 - val_acc: 0.7978\n",
      "Epoch 10/50\n",
      "139/139 [==============================] - 3s 20ms/step - loss: 0.7089 - acc: 0.8534 - val_loss: 0.7958 - val_acc: 0.8195\n",
      "Epoch 11/50\n",
      "139/139 [==============================] - 3s 20ms/step - loss: 0.6675 - acc: 0.8661 - val_loss: 0.7550 - val_acc: 0.7942\n",
      "Epoch 12/50\n",
      "139/139 [==============================] - 3s 20ms/step - loss: 0.6361 - acc: 0.8661 - val_loss: 0.7276 - val_acc: 0.8014\n",
      "Epoch 13/50\n",
      "139/139 [==============================] - 3s 20ms/step - loss: 0.6057 - acc: 0.8679 - val_loss: 0.6947 - val_acc: 0.7978\n",
      "Epoch 14/50\n",
      "139/139 [==============================] - 3s 20ms/step - loss: 0.5776 - acc: 0.8760 - val_loss: 0.6644 - val_acc: 0.8520\n",
      "Epoch 15/50\n",
      "139/139 [==============================] - 3s 20ms/step - loss: 0.5544 - acc: 0.8733 - val_loss: 0.6426 - val_acc: 0.8520\n",
      "Epoch 16/50\n",
      "139/139 [==============================] - 3s 21ms/step - loss: 0.5372 - acc: 0.8715 - val_loss: 0.6201 - val_acc: 0.8484\n",
      "Epoch 17/50\n",
      "139/139 [==============================] - 3s 20ms/step - loss: 0.5122 - acc: 0.8778 - val_loss: 0.6232 - val_acc: 0.8412\n",
      "Epoch 18/50\n",
      "139/139 [==============================] - 3s 20ms/step - loss: 0.4954 - acc: 0.8814 - val_loss: 0.5793 - val_acc: 0.8195\n",
      "Epoch 19/50\n",
      "139/139 [==============================] - 3s 20ms/step - loss: 0.4763 - acc: 0.8814 - val_loss: 0.5550 - val_acc: 0.8484\n",
      "Epoch 20/50\n",
      "139/139 [==============================] - 3s 20ms/step - loss: 0.4534 - acc: 0.8842 - val_loss: 0.5371 - val_acc: 0.8267\n",
      "Epoch 21/50\n",
      "139/139 [==============================] - 3s 20ms/step - loss: 0.4391 - acc: 0.8896 - val_loss: 0.5200 - val_acc: 0.8303\n",
      "Epoch 22/50\n",
      "139/139 [==============================] - 3s 20ms/step - loss: 0.4233 - acc: 0.8914 - val_loss: 0.4964 - val_acc: 0.8736\n",
      "Epoch 23/50\n",
      "139/139 [==============================] - 3s 20ms/step - loss: 0.4069 - acc: 0.9086 - val_loss: 0.4985 - val_acc: 0.8484\n",
      "Epoch 24/50\n",
      "139/139 [==============================] - 3s 20ms/step - loss: 0.3981 - acc: 0.8995 - val_loss: 0.4712 - val_acc: 0.8736\n",
      "Epoch 25/50\n",
      "139/139 [==============================] - 3s 19ms/step - loss: 0.3848 - acc: 0.9023 - val_loss: 0.4630 - val_acc: 0.8809\n",
      "Epoch 26/50\n",
      "139/139 [==============================] - 3s 20ms/step - loss: 0.3745 - acc: 0.9104 - val_loss: 0.4551 - val_acc: 0.8773\n",
      "Epoch 27/50\n",
      "139/139 [==============================] - 3s 20ms/step - loss: 0.3611 - acc: 0.9176 - val_loss: 0.4537 - val_acc: 0.8664\n",
      "Epoch 28/50\n",
      "139/139 [==============================] - 3s 20ms/step - loss: 0.3549 - acc: 0.9186 - val_loss: 0.4327 - val_acc: 0.8845\n",
      "Epoch 29/50\n",
      "139/139 [==============================] - 3s 20ms/step - loss: 0.3466 - acc: 0.9122 - val_loss: 0.4246 - val_acc: 0.8628\n",
      "Epoch 30/50\n",
      "139/139 [==============================] - 3s 20ms/step - loss: 0.3346 - acc: 0.9176 - val_loss: 0.4031 - val_acc: 0.8881\n",
      "Epoch 31/50\n",
      "139/139 [==============================] - 3s 20ms/step - loss: 0.3239 - acc: 0.9303 - val_loss: 0.3985 - val_acc: 0.8809\n",
      "Epoch 32/50\n",
      "139/139 [==============================] - 3s 20ms/step - loss: 0.3196 - acc: 0.9267 - val_loss: 0.3929 - val_acc: 0.8917\n",
      "Epoch 33/50\n",
      "139/139 [==============================] - 3s 20ms/step - loss: 0.3078 - acc: 0.9285 - val_loss: 0.3862 - val_acc: 0.8917\n",
      "Epoch 34/50\n",
      "139/139 [==============================] - 3s 20ms/step - loss: 0.3004 - acc: 0.9258 - val_loss: 0.3591 - val_acc: 0.9061\n",
      "Epoch 35/50\n",
      "139/139 [==============================] - 3s 21ms/step - loss: 0.2932 - acc: 0.9367 - val_loss: 0.3568 - val_acc: 0.8989\n",
      "Epoch 36/50\n",
      "139/139 [==============================] - 3s 22ms/step - loss: 0.2822 - acc: 0.9493 - val_loss: 0.3594 - val_acc: 0.8917\n",
      "Epoch 37/50\n",
      "139/139 [==============================] - 3s 23ms/step - loss: 0.2769 - acc: 0.9412 - val_loss: 0.3408 - val_acc: 0.8917\n",
      "Epoch 38/50\n",
      "139/139 [==============================] - 3s 21ms/step - loss: 0.2686 - acc: 0.9466 - val_loss: 0.3401 - val_acc: 0.9061\n",
      "Epoch 39/50\n",
      "139/139 [==============================] - 3s 20ms/step - loss: 0.2633 - acc: 0.9394 - val_loss: 0.3174 - val_acc: 0.9278\n",
      "Epoch 40/50\n",
      "139/139 [==============================] - 3s 20ms/step - loss: 0.2564 - acc: 0.9566 - val_loss: 0.3129 - val_acc: 0.9350\n",
      "Epoch 41/50\n",
      "139/139 [==============================] - 3s 21ms/step - loss: 0.2468 - acc: 0.9593 - val_loss: 0.2950 - val_acc: 0.9386\n",
      "Epoch 42/50\n",
      "139/139 [==============================] - 3s 21ms/step - loss: 0.2380 - acc: 0.9593 - val_loss: 0.2922 - val_acc: 0.9350\n",
      "Epoch 43/50\n",
      "139/139 [==============================] - 3s 20ms/step - loss: 0.2325 - acc: 0.9602 - val_loss: 0.2858 - val_acc: 0.9458\n",
      "Epoch 44/50\n",
      "139/139 [==============================] - 3s 23ms/step - loss: 0.2249 - acc: 0.9692 - val_loss: 0.2951 - val_acc: 0.9170\n",
      "Epoch 45/50\n",
      "139/139 [==============================] - 3s 20ms/step - loss: 0.2198 - acc: 0.9701 - val_loss: 0.2725 - val_acc: 0.9495\n",
      "Epoch 46/50\n",
      "139/139 [==============================] - 3s 23ms/step - loss: 0.2124 - acc: 0.9701 - val_loss: 0.2680 - val_acc: 0.9458\n",
      "Epoch 47/50\n",
      "139/139 [==============================] - 3s 24ms/step - loss: 0.2094 - acc: 0.9719 - val_loss: 0.2561 - val_acc: 0.9531\n",
      "Epoch 48/50\n",
      "139/139 [==============================] - 3s 24ms/step - loss: 0.2017 - acc: 0.9747 - val_loss: 0.2435 - val_acc: 0.9567\n",
      "Epoch 49/50\n",
      "139/139 [==============================] - 3s 23ms/step - loss: 0.1944 - acc: 0.9738 - val_loss: 0.2440 - val_acc: 0.9639\n",
      "Epoch 50/50\n",
      "139/139 [==============================] - 3s 22ms/step - loss: 0.1887 - acc: 0.9819 - val_loss: 0.2400 - val_acc: 0.9639\n"
     ]
    }
   ],
   "source": [
    "history_LBBM_3 = LBBM_3.fit(X_train, y_train, batch_size=8, epochs=50, verbose=1, validation_split=0.2)"
   ]
  },
  {
   "cell_type": "code",
   "execution_count": 24,
   "id": "34b944a3-3e60-4e44-8999-56d78b314a20",
   "metadata": {},
   "outputs": [
    {
     "name": "stdout",
     "output_type": "stream",
     "text": [
      "11/11 [==============================] - 0s 7ms/step - loss: 0.2450 - acc: 0.9422\n"
     ]
    },
    {
     "data": {
      "text/plain": [
       "[0.24502310156822205, 0.9421965479850769]"
      ]
     },
     "execution_count": 24,
     "metadata": {},
     "output_type": "execute_result"
    }
   ],
   "source": [
    "LBBM_3.evaluate(X_test, y_test)"
   ]
  },
  {
   "cell_type": "code",
   "execution_count": 25,
   "id": "eef4207b-b706-4be7-8725-50692d712b74",
   "metadata": {},
   "outputs": [],
   "source": [
    "LBBM_4 = LorisBallsBasedModel(BoundedParaboloids(128, semi_axis_regularizer=SemiAxisRegularizer(0.0001)),\n",
    "                              tf.keras.layers.Dense(4, activation='softmax'),\n",
    "                              SLP)\n",
    "LBBM_4.freeze_base_model()\n",
    "LBBM_4.compile(loss='categorical_crossentropy', optimizer=tf.keras.optimizers.Adam(learning_rate=0.001), metrics=['acc'])"
   ]
  },
  {
   "cell_type": "code",
   "execution_count": 26,
   "id": "212313a6-1eb9-4898-82ef-cf2a857923f4",
   "metadata": {
    "collapsed": true,
    "jupyter": {
     "outputs_hidden": true
    },
    "tags": []
   },
   "outputs": [
    {
     "name": "stdout",
     "output_type": "stream",
     "text": [
      "Epoch 1/50\n",
      "139/139 [==============================] - 46s 66ms/step - loss: 2.8767 - acc: 0.6914 - val_loss: 2.3827 - val_acc: 0.6498\n",
      "Epoch 2/50\n",
      "139/139 [==============================] - 3s 22ms/step - loss: 2.0113 - acc: 0.7195 - val_loss: 1.9832 - val_acc: 0.6498\n",
      "Epoch 3/50\n",
      "139/139 [==============================] - 3s 23ms/step - loss: 1.7126 - acc: 0.7195 - val_loss: 1.7298 - val_acc: 0.6498\n",
      "Epoch 4/50\n",
      "139/139 [==============================] - 3s 22ms/step - loss: 1.5180 - acc: 0.7195 - val_loss: 1.5678 - val_acc: 0.6498\n",
      "Epoch 5/50\n",
      "139/139 [==============================] - 3s 23ms/step - loss: 1.3816 - acc: 0.7222 - val_loss: 1.4675 - val_acc: 0.6498\n",
      "Epoch 6/50\n",
      "139/139 [==============================] - 3s 23ms/step - loss: 1.2702 - acc: 0.7367 - val_loss: 1.3614 - val_acc: 0.6498\n",
      "Epoch 7/50\n",
      "139/139 [==============================] - 3s 21ms/step - loss: 1.1823 - acc: 0.7602 - val_loss: 1.2742 - val_acc: 0.6498\n",
      "Epoch 8/50\n",
      "139/139 [==============================] - 3s 20ms/step - loss: 1.1065 - acc: 0.7828 - val_loss: 1.1836 - val_acc: 0.7329\n",
      "Epoch 9/50\n",
      "139/139 [==============================] - 3s 20ms/step - loss: 1.0463 - acc: 0.8136 - val_loss: 1.1296 - val_acc: 0.7256\n",
      "Epoch 10/50\n",
      "139/139 [==============================] - 3s 21ms/step - loss: 0.9858 - acc: 0.8281 - val_loss: 1.0795 - val_acc: 0.7545\n",
      "Epoch 11/50\n",
      "139/139 [==============================] - 3s 23ms/step - loss: 0.9334 - acc: 0.8452 - val_loss: 1.0299 - val_acc: 0.8556\n",
      "Epoch 12/50\n",
      "139/139 [==============================] - 5s 34ms/step - loss: 0.8927 - acc: 0.8597 - val_loss: 0.9718 - val_acc: 0.7978\n",
      "Epoch 13/50\n",
      "139/139 [==============================] - 3s 21ms/step - loss: 0.8511 - acc: 0.8624 - val_loss: 0.9362 - val_acc: 0.8448\n",
      "Epoch 14/50\n",
      "139/139 [==============================] - 3s 20ms/step - loss: 0.8126 - acc: 0.8670 - val_loss: 0.8924 - val_acc: 0.8303\n",
      "Epoch 15/50\n",
      "139/139 [==============================] - 3s 20ms/step - loss: 0.7761 - acc: 0.8724 - val_loss: 0.8608 - val_acc: 0.8448\n",
      "Epoch 16/50\n",
      "139/139 [==============================] - 3s 20ms/step - loss: 0.7435 - acc: 0.8814 - val_loss: 0.8250 - val_acc: 0.8014\n",
      "Epoch 17/50\n",
      "139/139 [==============================] - 3s 20ms/step - loss: 0.7119 - acc: 0.8760 - val_loss: 0.7931 - val_acc: 0.8520\n",
      "Epoch 18/50\n",
      "139/139 [==============================] - 3s 20ms/step - loss: 0.6823 - acc: 0.8796 - val_loss: 0.7568 - val_acc: 0.8592\n",
      "Epoch 19/50\n",
      "139/139 [==============================] - 3s 20ms/step - loss: 0.6588 - acc: 0.8824 - val_loss: 0.7457 - val_acc: 0.8303\n",
      "Epoch 20/50\n",
      "139/139 [==============================] - 3s 20ms/step - loss: 0.6330 - acc: 0.8869 - val_loss: 0.7099 - val_acc: 0.8664\n",
      "Epoch 21/50\n",
      "139/139 [==============================] - 3s 20ms/step - loss: 0.6121 - acc: 0.8887 - val_loss: 0.6932 - val_acc: 0.8700\n",
      "Epoch 22/50\n",
      "139/139 [==============================] - 3s 20ms/step - loss: 0.5920 - acc: 0.8950 - val_loss: 0.6802 - val_acc: 0.8592\n",
      "Epoch 23/50\n",
      "139/139 [==============================] - 3s 20ms/step - loss: 0.5730 - acc: 0.8986 - val_loss: 0.6637 - val_acc: 0.8556\n",
      "Epoch 24/50\n",
      "139/139 [==============================] - 3s 20ms/step - loss: 0.5603 - acc: 0.8932 - val_loss: 0.6532 - val_acc: 0.8556\n",
      "Epoch 25/50\n",
      "139/139 [==============================] - 3s 20ms/step - loss: 0.5410 - acc: 0.8959 - val_loss: 0.6376 - val_acc: 0.8700\n",
      "Epoch 26/50\n",
      "139/139 [==============================] - 3s 20ms/step - loss: 0.5269 - acc: 0.9041 - val_loss: 0.6209 - val_acc: 0.8700\n",
      "Epoch 27/50\n",
      "139/139 [==============================] - 3s 20ms/step - loss: 0.5126 - acc: 0.9050 - val_loss: 0.5930 - val_acc: 0.8520\n",
      "Epoch 28/50\n",
      "139/139 [==============================] - 3s 20ms/step - loss: 0.4973 - acc: 0.9086 - val_loss: 0.5717 - val_acc: 0.8917\n",
      "Epoch 29/50\n",
      "139/139 [==============================] - 3s 20ms/step - loss: 0.4872 - acc: 0.9140 - val_loss: 0.5924 - val_acc: 0.8339\n",
      "Epoch 30/50\n",
      "139/139 [==============================] - 3s 20ms/step - loss: 0.4709 - acc: 0.9122 - val_loss: 0.5497 - val_acc: 0.8736\n",
      "Epoch 31/50\n",
      "139/139 [==============================] - 3s 20ms/step - loss: 0.4607 - acc: 0.9131 - val_loss: 0.5312 - val_acc: 0.8881\n",
      "Epoch 32/50\n",
      "139/139 [==============================] - 3s 20ms/step - loss: 0.4504 - acc: 0.9167 - val_loss: 0.5227 - val_acc: 0.8809\n",
      "Epoch 33/50\n",
      "139/139 [==============================] - 3s 20ms/step - loss: 0.4348 - acc: 0.9240 - val_loss: 0.5126 - val_acc: 0.8845\n",
      "Epoch 34/50\n",
      "139/139 [==============================] - 3s 20ms/step - loss: 0.4225 - acc: 0.9294 - val_loss: 0.5105 - val_acc: 0.8664\n",
      "Epoch 35/50\n",
      "139/139 [==============================] - 3s 21ms/step - loss: 0.4116 - acc: 0.9249 - val_loss: 0.4802 - val_acc: 0.8881\n",
      "Epoch 36/50\n",
      "139/139 [==============================] - 3s 20ms/step - loss: 0.4012 - acc: 0.9339 - val_loss: 0.4828 - val_acc: 0.8736\n",
      "Epoch 37/50\n",
      "139/139 [==============================] - 3s 20ms/step - loss: 0.3926 - acc: 0.9258 - val_loss: 0.4645 - val_acc: 0.8953\n",
      "Epoch 38/50\n",
      "139/139 [==============================] - 3s 20ms/step - loss: 0.3813 - acc: 0.9421 - val_loss: 0.4615 - val_acc: 0.8989\n",
      "Epoch 39/50\n",
      "139/139 [==============================] - 3s 20ms/step - loss: 0.3692 - acc: 0.9385 - val_loss: 0.4433 - val_acc: 0.8953\n",
      "Epoch 40/50\n",
      "139/139 [==============================] - 3s 20ms/step - loss: 0.3628 - acc: 0.9403 - val_loss: 0.4259 - val_acc: 0.9134\n",
      "Epoch 41/50\n",
      "139/139 [==============================] - 3s 20ms/step - loss: 0.3506 - acc: 0.9484 - val_loss: 0.4130 - val_acc: 0.9134\n",
      "Epoch 42/50\n",
      "139/139 [==============================] - 3s 20ms/step - loss: 0.3412 - acc: 0.9475 - val_loss: 0.4095 - val_acc: 0.9061\n",
      "Epoch 43/50\n",
      "139/139 [==============================] - 3s 20ms/step - loss: 0.3322 - acc: 0.9566 - val_loss: 0.3945 - val_acc: 0.9097\n",
      "Epoch 44/50\n",
      "139/139 [==============================] - 3s 20ms/step - loss: 0.3201 - acc: 0.9611 - val_loss: 0.3810 - val_acc: 0.9278\n",
      "Epoch 45/50\n",
      "139/139 [==============================] - 3s 20ms/step - loss: 0.3132 - acc: 0.9638 - val_loss: 0.3784 - val_acc: 0.9061\n",
      "Epoch 46/50\n",
      "139/139 [==============================] - 3s 21ms/step - loss: 0.3051 - acc: 0.9629 - val_loss: 0.3709 - val_acc: 0.9097\n",
      "Epoch 47/50\n",
      "139/139 [==============================] - 3s 20ms/step - loss: 0.2967 - acc: 0.9620 - val_loss: 0.3580 - val_acc: 0.9242\n",
      "Epoch 48/50\n",
      "139/139 [==============================] - 3s 20ms/step - loss: 0.2895 - acc: 0.9692 - val_loss: 0.3486 - val_acc: 0.9278\n",
      "Epoch 49/50\n",
      "139/139 [==============================] - 3s 20ms/step - loss: 0.2830 - acc: 0.9674 - val_loss: 0.3455 - val_acc: 0.9386\n",
      "Epoch 50/50\n",
      "139/139 [==============================] - 3s 20ms/step - loss: 0.2749 - acc: 0.9729 - val_loss: 0.3409 - val_acc: 0.9350\n"
     ]
    }
   ],
   "source": [
    "history_LBBM_4 = LBBM_4.fit(X_train, y_train, batch_size=8, epochs=50, verbose=1, validation_split=0.2)"
   ]
  },
  {
   "cell_type": "code",
   "execution_count": 27,
   "id": "91b0a1cc-66b7-4070-8d18-6752f73c5bf6",
   "metadata": {},
   "outputs": [
    {
     "name": "stdout",
     "output_type": "stream",
     "text": [
      "11/11 [==============================] - 0s 9ms/step - loss: 0.3490 - acc: 0.9191\n"
     ]
    },
    {
     "data": {
      "text/plain": [
       "[0.3489813208580017, 0.9190751314163208]"
      ]
     },
     "execution_count": 27,
     "metadata": {},
     "output_type": "execute_result"
    }
   ],
   "source": [
    "LBBM_4.evaluate(X_test, y_test)"
   ]
  },
  {
   "cell_type": "markdown",
   "id": "2c543e2b-a5c4-4b72-83f8-bbe70480516a",
   "metadata": {},
   "source": [
    "=> SemiAxisRegularizer need to be small for this example (~ 0.000001-0.00001)."
   ]
  },
  {
   "cell_type": "markdown",
   "id": "4e09d675-f315-480e-957f-0c301440ed29",
   "metadata": {},
   "source": [
    "## Retraining base model (after doing transfert learning):"
   ]
  },
  {
   "cell_type": "code",
   "execution_count": 28,
   "id": "7e4b925b-c1c9-4946-a7a8-f6b25ac11d80",
   "metadata": {},
   "outputs": [],
   "source": [
    "LBBM = LorisBallsBasedModel(BoundedParaboloids(128, semi_axis_regularizer=SemiAxisRegularizer(0.00001)),\n",
    "                            tf.keras.layers.Dense(4, activation='softmax'),\n",
    "                            SLP)\n",
    "LBBM.freeze_base_model()\n",
    "LBBM.compile(loss='categorical_crossentropy', optimizer=tf.keras.optimizers.Adam(learning_rate=0.001), metrics=['acc'])"
   ]
  },
  {
   "cell_type": "code",
   "execution_count": 29,
   "id": "baac3ffb-6c4a-4de7-8f9d-e510cc17c2b9",
   "metadata": {
    "collapsed": true,
    "jupyter": {
     "outputs_hidden": true
    },
    "tags": []
   },
   "outputs": [
    {
     "name": "stdout",
     "output_type": "stream",
     "text": [
      "Epoch 1/50\n",
      "139/139 [==============================] - 41s 60ms/step - loss: 0.9622 - acc: 0.7195 - val_loss: 0.9969 - val_acc: 0.6498\n",
      "Epoch 2/50\n",
      "139/139 [==============================] - 3s 19ms/step - loss: 0.8284 - acc: 0.7195 - val_loss: 0.9182 - val_acc: 0.6498\n",
      "Epoch 3/50\n",
      "139/139 [==============================] - 3s 20ms/step - loss: 0.7550 - acc: 0.7195 - val_loss: 0.8647 - val_acc: 0.6498\n",
      "Epoch 4/50\n",
      "139/139 [==============================] - 3s 20ms/step - loss: 0.6998 - acc: 0.7276 - val_loss: 0.8169 - val_acc: 0.6498\n",
      "Epoch 5/50\n",
      "139/139 [==============================] - 3s 20ms/step - loss: 0.6504 - acc: 0.7439 - val_loss: 0.7453 - val_acc: 0.6859\n",
      "Epoch 6/50\n",
      "139/139 [==============================] - 3s 20ms/step - loss: 0.5985 - acc: 0.7864 - val_loss: 0.6957 - val_acc: 0.7617\n",
      "Epoch 7/50\n",
      "139/139 [==============================] - 3s 20ms/step - loss: 0.5562 - acc: 0.8308 - val_loss: 0.6435 - val_acc: 0.8014\n",
      "Epoch 8/50\n",
      "139/139 [==============================] - 3s 20ms/step - loss: 0.5186 - acc: 0.8570 - val_loss: 0.6128 - val_acc: 0.7906\n",
      "Epoch 9/50\n",
      "139/139 [==============================] - 3s 20ms/step - loss: 0.4885 - acc: 0.8670 - val_loss: 0.5730 - val_acc: 0.8195\n",
      "Epoch 10/50\n",
      "139/139 [==============================] - 3s 20ms/step - loss: 0.4585 - acc: 0.8652 - val_loss: 0.5531 - val_acc: 0.8375\n",
      "Epoch 11/50\n",
      "139/139 [==============================] - 3s 20ms/step - loss: 0.4294 - acc: 0.8742 - val_loss: 0.5296 - val_acc: 0.8448\n",
      "Epoch 12/50\n",
      "139/139 [==============================] - 3s 20ms/step - loss: 0.4169 - acc: 0.8652 - val_loss: 0.5082 - val_acc: 0.8448\n",
      "Epoch 13/50\n",
      "139/139 [==============================] - 3s 20ms/step - loss: 0.3982 - acc: 0.8833 - val_loss: 0.4935 - val_acc: 0.8448\n",
      "Epoch 14/50\n",
      "139/139 [==============================] - 3s 20ms/step - loss: 0.3866 - acc: 0.8715 - val_loss: 0.4891 - val_acc: 0.8412\n",
      "Epoch 15/50\n",
      "139/139 [==============================] - 3s 20ms/step - loss: 0.3728 - acc: 0.8760 - val_loss: 0.4728 - val_acc: 0.8484\n",
      "Epoch 16/50\n",
      "139/139 [==============================] - 3s 20ms/step - loss: 0.3643 - acc: 0.8787 - val_loss: 0.4642 - val_acc: 0.8231\n",
      "Epoch 17/50\n",
      "139/139 [==============================] - 3s 20ms/step - loss: 0.3531 - acc: 0.8796 - val_loss: 0.4415 - val_acc: 0.8448\n",
      "Epoch 18/50\n",
      "139/139 [==============================] - 3s 20ms/step - loss: 0.3442 - acc: 0.8751 - val_loss: 0.4288 - val_acc: 0.8520\n",
      "Epoch 19/50\n",
      "139/139 [==============================] - 3s 20ms/step - loss: 0.3296 - acc: 0.8778 - val_loss: 0.4039 - val_acc: 0.8664\n",
      "Epoch 20/50\n",
      "139/139 [==============================] - 3s 20ms/step - loss: 0.3109 - acc: 0.8869 - val_loss: 0.3864 - val_acc: 0.8700\n",
      "Epoch 21/50\n",
      "139/139 [==============================] - 3s 20ms/step - loss: 0.3015 - acc: 0.8824 - val_loss: 0.3734 - val_acc: 0.8628\n",
      "Epoch 22/50\n",
      "139/139 [==============================] - 3s 20ms/step - loss: 0.2864 - acc: 0.9014 - val_loss: 0.3581 - val_acc: 0.8736\n",
      "Epoch 23/50\n",
      "139/139 [==============================] - 3s 23ms/step - loss: 0.2748 - acc: 0.9032 - val_loss: 0.3469 - val_acc: 0.8773\n",
      "Epoch 24/50\n",
      "139/139 [==============================] - 3s 25ms/step - loss: 0.2645 - acc: 0.9095 - val_loss: 0.3406 - val_acc: 0.8773\n",
      "Epoch 25/50\n",
      "139/139 [==============================] - 4s 26ms/step - loss: 0.2566 - acc: 0.9140 - val_loss: 0.3347 - val_acc: 0.8592\n",
      "Epoch 26/50\n",
      "139/139 [==============================] - 3s 20ms/step - loss: 0.2467 - acc: 0.9186 - val_loss: 0.3134 - val_acc: 0.8881\n",
      "Epoch 27/50\n",
      "139/139 [==============================] - 3s 20ms/step - loss: 0.2386 - acc: 0.9167 - val_loss: 0.3050 - val_acc: 0.8881\n",
      "Epoch 28/50\n",
      "139/139 [==============================] - 3s 20ms/step - loss: 0.2274 - acc: 0.9339 - val_loss: 0.2984 - val_acc: 0.8881\n",
      "Epoch 29/50\n",
      "139/139 [==============================] - 3s 20ms/step - loss: 0.2201 - acc: 0.9285 - val_loss: 0.2973 - val_acc: 0.8881\n",
      "Epoch 30/50\n",
      "139/139 [==============================] - 3s 20ms/step - loss: 0.2099 - acc: 0.9321 - val_loss: 0.2709 - val_acc: 0.9170\n",
      "Epoch 31/50\n",
      "139/139 [==============================] - 3s 20ms/step - loss: 0.2007 - acc: 0.9394 - val_loss: 0.2609 - val_acc: 0.9242\n",
      "Epoch 32/50\n",
      "139/139 [==============================] - 3s 20ms/step - loss: 0.1910 - acc: 0.9466 - val_loss: 0.2651 - val_acc: 0.9025\n",
      "Epoch 33/50\n",
      "139/139 [==============================] - 3s 20ms/step - loss: 0.1868 - acc: 0.9466 - val_loss: 0.2358 - val_acc: 0.9097\n",
      "Epoch 34/50\n",
      "139/139 [==============================] - 3s 20ms/step - loss: 0.1778 - acc: 0.9484 - val_loss: 0.2326 - val_acc: 0.9386\n",
      "Epoch 35/50\n",
      "139/139 [==============================] - 3s 20ms/step - loss: 0.1704 - acc: 0.9557 - val_loss: 0.2242 - val_acc: 0.9170\n",
      "Epoch 36/50\n",
      "139/139 [==============================] - 3s 20ms/step - loss: 0.1649 - acc: 0.9566 - val_loss: 0.2144 - val_acc: 0.9314\n",
      "Epoch 37/50\n",
      "139/139 [==============================] - 3s 20ms/step - loss: 0.1578 - acc: 0.9538 - val_loss: 0.2072 - val_acc: 0.9386\n",
      "Epoch 38/50\n",
      "139/139 [==============================] - 3s 20ms/step - loss: 0.1535 - acc: 0.9566 - val_loss: 0.2011 - val_acc: 0.9422\n",
      "Epoch 39/50\n",
      "139/139 [==============================] - 3s 20ms/step - loss: 0.1470 - acc: 0.9629 - val_loss: 0.1925 - val_acc: 0.9458\n",
      "Epoch 40/50\n",
      "139/139 [==============================] - 3s 20ms/step - loss: 0.1406 - acc: 0.9665 - val_loss: 0.1906 - val_acc: 0.9458\n",
      "Epoch 41/50\n",
      "139/139 [==============================] - 3s 20ms/step - loss: 0.1367 - acc: 0.9647 - val_loss: 0.1880 - val_acc: 0.9458\n",
      "Epoch 42/50\n",
      "139/139 [==============================] - 3s 20ms/step - loss: 0.1320 - acc: 0.9701 - val_loss: 0.1898 - val_acc: 0.9350\n",
      "Epoch 43/50\n",
      "139/139 [==============================] - 3s 20ms/step - loss: 0.1293 - acc: 0.9719 - val_loss: 0.1752 - val_acc: 0.9458\n",
      "Epoch 44/50\n",
      "139/139 [==============================] - 3s 20ms/step - loss: 0.1236 - acc: 0.9710 - val_loss: 0.1681 - val_acc: 0.9495\n",
      "Epoch 45/50\n",
      "139/139 [==============================] - 3s 20ms/step - loss: 0.1174 - acc: 0.9783 - val_loss: 0.1590 - val_acc: 0.9603\n",
      "Epoch 46/50\n",
      "139/139 [==============================] - 3s 20ms/step - loss: 0.1122 - acc: 0.9756 - val_loss: 0.1672 - val_acc: 0.9422\n",
      "Epoch 47/50\n",
      "139/139 [==============================] - 3s 20ms/step - loss: 0.1101 - acc: 0.9819 - val_loss: 0.1474 - val_acc: 0.9675\n",
      "Epoch 48/50\n",
      "139/139 [==============================] - 3s 20ms/step - loss: 0.1049 - acc: 0.9792 - val_loss: 0.1582 - val_acc: 0.9495\n",
      "Epoch 49/50\n",
      "139/139 [==============================] - 3s 20ms/step - loss: 0.1006 - acc: 0.9873 - val_loss: 0.1450 - val_acc: 0.9639\n",
      "Epoch 50/50\n",
      "139/139 [==============================] - 3s 20ms/step - loss: 0.0965 - acc: 0.9855 - val_loss: 0.1422 - val_acc: 0.9675\n"
     ]
    }
   ],
   "source": [
    "history_LBBM = LBBM.fit(X_train, y_train, batch_size=8, epochs=50, verbose=1, validation_split=0.2)"
   ]
  },
  {
   "cell_type": "code",
   "execution_count": 30,
   "id": "5f59d8ce-6623-4f26-b835-1ba7869e3672",
   "metadata": {},
   "outputs": [
    {
     "name": "stdout",
     "output_type": "stream",
     "text": [
      "11/11 [==============================] - 0s 8ms/step - loss: 0.1426 - acc: 0.9451\n"
     ]
    },
    {
     "data": {
      "text/plain": [
       "[0.14263127744197845, 0.9450867176055908]"
      ]
     },
     "execution_count": 30,
     "metadata": {},
     "output_type": "execute_result"
    }
   ],
   "source": [
    "LBBM.evaluate(X_test, y_test)"
   ]
  },
  {
   "cell_type": "code",
   "execution_count": 31,
   "id": "17e2feec-1846-42fd-a8a7-73625c5a7757",
   "metadata": {},
   "outputs": [
    {
     "name": "stdout",
     "output_type": "stream",
     "text": [
      "11/11 [==============================] - 0s 2ms/step - loss: 0.2699 - acc: 0.8873\n"
     ]
    },
    {
     "data": {
      "text/plain": [
       "[0.26990699768066406, 0.8872832655906677]"
      ]
     },
     "execution_count": 31,
     "metadata": {},
     "output_type": "execute_result"
    }
   ],
   "source": [
    "LBBM.base_model.evaluate(X_test, y_test)"
   ]
  },
  {
   "cell_type": "code",
   "execution_count": 32,
   "id": "b1051dff-fb37-4d74-82cf-518d9b068a27",
   "metadata": {},
   "outputs": [],
   "source": [
    "LBBM.unfreeze_model()\n",
    "LBBM.compile(loss='categorical_crossentropy', optimizer=tf.keras.optimizers.Adam(learning_rate=0.0005), metrics=['acc'])"
   ]
  },
  {
   "cell_type": "code",
   "execution_count": 33,
   "id": "db7f6360-2095-4f33-9208-1bea200b6e6e",
   "metadata": {
    "collapsed": true,
    "jupyter": {
     "outputs_hidden": true
    },
    "tags": []
   },
   "outputs": [
    {
     "name": "stdout",
     "output_type": "stream",
     "text": [
      "Epoch 1/50\n",
      "139/139 [==============================] - 47s 62ms/step - loss: 0.0916 - acc: 0.9846 - val_loss: 0.1386 - val_acc: 0.9639\n",
      "Epoch 2/50\n",
      "139/139 [==============================] - 3s 22ms/step - loss: 0.0906 - acc: 0.9846 - val_loss: 0.1402 - val_acc: 0.9531\n",
      "Epoch 3/50\n",
      "139/139 [==============================] - 3s 22ms/step - loss: 0.0865 - acc: 0.9910 - val_loss: 0.1365 - val_acc: 0.9531\n",
      "Epoch 4/50\n",
      "139/139 [==============================] - 3s 22ms/step - loss: 0.0855 - acc: 0.9900 - val_loss: 0.1316 - val_acc: 0.9675\n",
      "Epoch 5/50\n",
      "139/139 [==============================] - 3s 23ms/step - loss: 0.0830 - acc: 0.9900 - val_loss: 0.1306 - val_acc: 0.9711\n",
      "Epoch 6/50\n",
      "139/139 [==============================] - 3s 22ms/step - loss: 0.0816 - acc: 0.9910 - val_loss: 0.1275 - val_acc: 0.9711\n",
      "Epoch 7/50\n",
      "139/139 [==============================] - 3s 23ms/step - loss: 0.0797 - acc: 0.9900 - val_loss: 0.1359 - val_acc: 0.9495\n",
      "Epoch 8/50\n",
      "139/139 [==============================] - 3s 23ms/step - loss: 0.0780 - acc: 0.9919 - val_loss: 0.1305 - val_acc: 0.9531\n",
      "Epoch 9/50\n",
      "139/139 [==============================] - 3s 22ms/step - loss: 0.0771 - acc: 0.9900 - val_loss: 0.1294 - val_acc: 0.9495\n",
      "Epoch 10/50\n",
      "139/139 [==============================] - 3s 22ms/step - loss: 0.0751 - acc: 0.9928 - val_loss: 0.1254 - val_acc: 0.9603\n",
      "Epoch 11/50\n",
      "139/139 [==============================] - 3s 22ms/step - loss: 0.0734 - acc: 0.9919 - val_loss: 0.1196 - val_acc: 0.9711\n",
      "Epoch 12/50\n",
      "139/139 [==============================] - 3s 23ms/step - loss: 0.0718 - acc: 0.9937 - val_loss: 0.1269 - val_acc: 0.9495\n",
      "Epoch 13/50\n",
      "139/139 [==============================] - 3s 23ms/step - loss: 0.0708 - acc: 0.9928 - val_loss: 0.1148 - val_acc: 0.9747\n",
      "Epoch 14/50\n",
      "139/139 [==============================] - 3s 22ms/step - loss: 0.0682 - acc: 0.9964 - val_loss: 0.1131 - val_acc: 0.9603\n",
      "Epoch 15/50\n",
      "139/139 [==============================] - 3s 22ms/step - loss: 0.0678 - acc: 0.9928 - val_loss: 0.1179 - val_acc: 0.9639\n",
      "Epoch 16/50\n",
      "139/139 [==============================] - 3s 22ms/step - loss: 0.0654 - acc: 0.9946 - val_loss: 0.1117 - val_acc: 0.9675\n",
      "Epoch 17/50\n",
      "139/139 [==============================] - 3s 22ms/step - loss: 0.0648 - acc: 0.9946 - val_loss: 0.1122 - val_acc: 0.9675\n",
      "Epoch 18/50\n",
      "139/139 [==============================] - 3s 23ms/step - loss: 0.0641 - acc: 0.9964 - val_loss: 0.1069 - val_acc: 0.9675\n",
      "Epoch 19/50\n",
      "139/139 [==============================] - 3s 23ms/step - loss: 0.0628 - acc: 0.9955 - val_loss: 0.1078 - val_acc: 0.9747\n",
      "Epoch 20/50\n",
      "139/139 [==============================] - 4s 30ms/step - loss: 0.0616 - acc: 0.9973 - val_loss: 0.1089 - val_acc: 0.9675\n",
      "Epoch 21/50\n",
      "139/139 [==============================] - 3s 20ms/step - loss: 0.0603 - acc: 0.9955 - val_loss: 0.1113 - val_acc: 0.9567\n",
      "Epoch 22/50\n",
      "139/139 [==============================] - 3s 20ms/step - loss: 0.0589 - acc: 0.9973 - val_loss: 0.1073 - val_acc: 0.9603\n",
      "Epoch 23/50\n",
      "139/139 [==============================] - 3s 20ms/step - loss: 0.0580 - acc: 0.9955 - val_loss: 0.0986 - val_acc: 0.9711\n",
      "Epoch 24/50\n",
      "139/139 [==============================] - 3s 23ms/step - loss: 0.0573 - acc: 0.9955 - val_loss: 0.1006 - val_acc: 0.9711\n",
      "Epoch 25/50\n",
      "139/139 [==============================] - 3s 24ms/step - loss: 0.0562 - acc: 0.9955 - val_loss: 0.0946 - val_acc: 0.9747\n",
      "Epoch 26/50\n",
      "139/139 [==============================] - 4s 27ms/step - loss: 0.0557 - acc: 0.9982 - val_loss: 0.0966 - val_acc: 0.9711\n",
      "Epoch 27/50\n",
      "139/139 [==============================] - 3s 23ms/step - loss: 0.0540 - acc: 0.9964 - val_loss: 0.0942 - val_acc: 0.9747\n",
      "Epoch 28/50\n",
      "139/139 [==============================] - 3s 23ms/step - loss: 0.0530 - acc: 0.9973 - val_loss: 0.0965 - val_acc: 0.9639\n",
      "Epoch 29/50\n",
      "139/139 [==============================] - 3s 21ms/step - loss: 0.0525 - acc: 0.9973 - val_loss: 0.0954 - val_acc: 0.9639\n",
      "Epoch 30/50\n",
      "139/139 [==============================] - 3s 20ms/step - loss: 0.0517 - acc: 0.9964 - val_loss: 0.1001 - val_acc: 0.9639\n",
      "Epoch 31/50\n",
      "139/139 [==============================] - 3s 20ms/step - loss: 0.0520 - acc: 0.9964 - val_loss: 0.0930 - val_acc: 0.9711\n",
      "Epoch 32/50\n",
      "139/139 [==============================] - 3s 20ms/step - loss: 0.0504 - acc: 0.9955 - val_loss: 0.0950 - val_acc: 0.9747\n",
      "Epoch 33/50\n",
      "139/139 [==============================] - 3s 20ms/step - loss: 0.0491 - acc: 0.9973 - val_loss: 0.0928 - val_acc: 0.9711\n",
      "Epoch 34/50\n",
      "139/139 [==============================] - 3s 20ms/step - loss: 0.0481 - acc: 0.9982 - val_loss: 0.0885 - val_acc: 0.9675\n",
      "Epoch 35/50\n",
      "139/139 [==============================] - 3s 20ms/step - loss: 0.0474 - acc: 0.9982 - val_loss: 0.0872 - val_acc: 0.9747\n",
      "Epoch 36/50\n",
      "139/139 [==============================] - 3s 20ms/step - loss: 0.0468 - acc: 0.9991 - val_loss: 0.0883 - val_acc: 0.9711\n",
      "Epoch 37/50\n",
      "139/139 [==============================] - 3s 20ms/step - loss: 0.0460 - acc: 0.9982 - val_loss: 0.0899 - val_acc: 0.9711\n",
      "Epoch 38/50\n",
      "139/139 [==============================] - 3s 20ms/step - loss: 0.0453 - acc: 0.9982 - val_loss: 0.0890 - val_acc: 0.9675\n",
      "Epoch 39/50\n",
      "139/139 [==============================] - 3s 20ms/step - loss: 0.0448 - acc: 0.9991 - val_loss: 0.0873 - val_acc: 0.9711\n",
      "Epoch 40/50\n",
      "139/139 [==============================] - 3s 21ms/step - loss: 0.0437 - acc: 0.9973 - val_loss: 0.0876 - val_acc: 0.9675\n",
      "Epoch 41/50\n",
      "139/139 [==============================] - 3s 20ms/step - loss: 0.0427 - acc: 0.9982 - val_loss: 0.0964 - val_acc: 0.9675\n",
      "Epoch 42/50\n",
      "139/139 [==============================] - 3s 20ms/step - loss: 0.0434 - acc: 0.9991 - val_loss: 0.0865 - val_acc: 0.9675\n",
      "Epoch 43/50\n",
      "139/139 [==============================] - 3s 20ms/step - loss: 0.0422 - acc: 0.9991 - val_loss: 0.0826 - val_acc: 0.9711\n",
      "Epoch 44/50\n",
      "139/139 [==============================] - 3s 20ms/step - loss: 0.0424 - acc: 0.9991 - val_loss: 0.0840 - val_acc: 0.9747\n",
      "Epoch 45/50\n",
      "139/139 [==============================] - 3s 20ms/step - loss: 0.0405 - acc: 0.9991 - val_loss: 0.0830 - val_acc: 0.9747\n",
      "Epoch 46/50\n",
      "139/139 [==============================] - 3s 20ms/step - loss: 0.0402 - acc: 0.9982 - val_loss: 0.0820 - val_acc: 0.9675\n",
      "Epoch 47/50\n",
      "139/139 [==============================] - 3s 20ms/step - loss: 0.0393 - acc: 0.9982 - val_loss: 0.0823 - val_acc: 0.9675\n",
      "Epoch 48/50\n",
      "139/139 [==============================] - 3s 20ms/step - loss: 0.0389 - acc: 0.9991 - val_loss: 0.0887 - val_acc: 0.9675\n",
      "Epoch 49/50\n",
      "139/139 [==============================] - 5s 33ms/step - loss: 0.0383 - acc: 0.9991 - val_loss: 0.0789 - val_acc: 0.9783\n",
      "Epoch 50/50\n",
      "139/139 [==============================] - 4s 27ms/step - loss: 0.0380 - acc: 0.9991 - val_loss: 0.0776 - val_acc: 0.9783\n"
     ]
    }
   ],
   "source": [
    "history_LBBM = LBBM.fit(X_train, y_train, batch_size=8, epochs=50, verbose=1, validation_split=0.2)"
   ]
  },
  {
   "cell_type": "code",
   "execution_count": 34,
   "id": "4099be8b-8a8f-4e84-a958-cdbf15b84f31",
   "metadata": {},
   "outputs": [
    {
     "name": "stdout",
     "output_type": "stream",
     "text": [
      "11/11 [==============================] - 0s 9ms/step - loss: 0.0810 - acc: 0.9769\n"
     ]
    },
    {
     "data": {
      "text/plain": [
       "[0.08101316541433334, 0.9768785834312439]"
      ]
     },
     "execution_count": 34,
     "metadata": {},
     "output_type": "execute_result"
    }
   ],
   "source": [
    "LBBM.evaluate(X_test, y_test)"
   ]
  },
  {
   "cell_type": "code",
   "execution_count": 35,
   "id": "f3670bfd-01fc-4aee-9986-481941c65c7c",
   "metadata": {},
   "outputs": [
    {
     "name": "stdout",
     "output_type": "stream",
     "text": [
      "11/11 [==============================] - 0s 2ms/step - loss: 0.2627 - acc: 0.8786\n"
     ]
    },
    {
     "data": {
      "text/plain": [
       "[0.2626914083957672, 0.8786126971244812]"
      ]
     },
     "execution_count": 35,
     "metadata": {},
     "output_type": "execute_result"
    }
   ],
   "source": [
    "LBBM.base_model.evaluate(X_test, y_test)"
   ]
  },
  {
   "cell_type": "markdown",
   "id": "ba2e17f5-f02e-4651-8691-fa1f2325fd49",
   "metadata": {},
   "source": [
    "=> The test accuracy is the best one untill now!"
   ]
  },
  {
   "cell_type": "markdown",
   "id": "891c8994-82ed-46e2-aa1a-576ff30c8e0f",
   "metadata": {},
   "source": [
    "## Adding a second BoundedParaboloids layer"
   ]
  },
  {
   "cell_type": "code",
   "execution_count": 36,
   "id": "71415b9f-08e8-4424-a844-9d6354cf1d1c",
   "metadata": {},
   "outputs": [],
   "source": [
    "LBBM_2_layers = LorisBallsBasedModel(BoundedParaboloids(128, semi_axis_regularizer=SemiAxisRegularizer(0.00001)),\n",
    "                                     tf.keras.layers.Dense(4, activation='softmax'),\n",
    "                                     LBBM)\n",
    "LBBM_2_layers.freeze_base_model()\n",
    "LBBM_2_layers.compile(loss='categorical_crossentropy', optimizer=tf.keras.optimizers.Adam(learning_rate=0.001), metrics=['acc'])"
   ]
  },
  {
   "cell_type": "code",
   "execution_count": 37,
   "id": "7d964bf8-fed0-4b11-89c8-2c5523ec53d0",
   "metadata": {
    "collapsed": true,
    "jupyter": {
     "outputs_hidden": true
    },
    "tags": []
   },
   "outputs": [
    {
     "name": "stdout",
     "output_type": "stream",
     "text": [
      "Epoch 1/50\n",
      "139/139 [==============================] - 73s 116ms/step - loss: 1.0301 - acc: 0.6525 - val_loss: 0.9539 - val_acc: 0.6498\n",
      "Epoch 2/50\n",
      "139/139 [==============================] - 4s 28ms/step - loss: 0.7671 - acc: 0.7195 - val_loss: 0.8560 - val_acc: 0.6498\n",
      "Epoch 3/50\n",
      "139/139 [==============================] - 4s 27ms/step - loss: 0.6781 - acc: 0.7357 - val_loss: 0.7446 - val_acc: 0.8628\n",
      "Epoch 4/50\n",
      "139/139 [==============================] - 4s 28ms/step - loss: 0.5870 - acc: 0.8706 - val_loss: 0.6474 - val_acc: 0.8628\n",
      "Epoch 5/50\n",
      "139/139 [==============================] - 4s 28ms/step - loss: 0.4935 - acc: 0.9204 - val_loss: 0.5573 - val_acc: 0.8881\n",
      "Epoch 6/50\n",
      "139/139 [==============================] - 4s 31ms/step - loss: 0.4181 - acc: 0.9267 - val_loss: 0.4827 - val_acc: 0.8881\n",
      "Epoch 7/50\n",
      "139/139 [==============================] - 4s 28ms/step - loss: 0.3630 - acc: 0.9294 - val_loss: 0.4272 - val_acc: 0.8881\n",
      "Epoch 8/50\n",
      "139/139 [==============================] - 4s 29ms/step - loss: 0.3226 - acc: 0.9303 - val_loss: 0.3874 - val_acc: 0.8845\n",
      "Epoch 9/50\n",
      "139/139 [==============================] - 4s 28ms/step - loss: 0.2877 - acc: 0.9376 - val_loss: 0.3562 - val_acc: 0.9061\n",
      "Epoch 10/50\n",
      "139/139 [==============================] - 4s 28ms/step - loss: 0.2609 - acc: 0.9493 - val_loss: 0.3258 - val_acc: 0.9206\n",
      "Epoch 11/50\n",
      "139/139 [==============================] - 4s 28ms/step - loss: 0.2360 - acc: 0.9719 - val_loss: 0.3021 - val_acc: 0.9206\n",
      "Epoch 12/50\n",
      "139/139 [==============================] - 4s 28ms/step - loss: 0.2110 - acc: 0.9882 - val_loss: 0.2732 - val_acc: 0.9531\n",
      "Epoch 13/50\n",
      "139/139 [==============================] - 4s 28ms/step - loss: 0.1903 - acc: 0.9982 - val_loss: 0.2631 - val_acc: 0.9531\n",
      "Epoch 14/50\n",
      "139/139 [==============================] - 4s 30ms/step - loss: 0.1744 - acc: 0.9964 - val_loss: 0.2306 - val_acc: 0.9639\n",
      "Epoch 15/50\n",
      "139/139 [==============================] - 4s 28ms/step - loss: 0.1613 - acc: 0.9982 - val_loss: 0.2151 - val_acc: 0.9639\n",
      "Epoch 16/50\n",
      "139/139 [==============================] - 4s 29ms/step - loss: 0.1487 - acc: 0.9991 - val_loss: 0.2060 - val_acc: 0.9603\n",
      "Epoch 17/50\n",
      "139/139 [==============================] - 4s 29ms/step - loss: 0.1383 - acc: 0.9991 - val_loss: 0.1974 - val_acc: 0.9603\n",
      "Epoch 18/50\n",
      "139/139 [==============================] - 4s 29ms/step - loss: 0.1301 - acc: 0.9982 - val_loss: 0.1841 - val_acc: 0.9675\n",
      "Epoch 19/50\n",
      "139/139 [==============================] - 4s 29ms/step - loss: 0.1231 - acc: 0.9991 - val_loss: 0.1850 - val_acc: 0.9639\n",
      "Epoch 20/50\n",
      "139/139 [==============================] - 4s 32ms/step - loss: 0.1167 - acc: 0.9991 - val_loss: 0.1751 - val_acc: 0.9603\n",
      "Epoch 21/50\n",
      "139/139 [==============================] - 4s 29ms/step - loss: 0.1093 - acc: 0.9982 - val_loss: 0.1624 - val_acc: 0.9639\n",
      "Epoch 22/50\n",
      "139/139 [==============================] - 4s 28ms/step - loss: 0.1036 - acc: 0.9991 - val_loss: 0.1603 - val_acc: 0.9675\n",
      "Epoch 23/50\n",
      "139/139 [==============================] - 4s 29ms/step - loss: 0.0994 - acc: 0.9991 - val_loss: 0.1573 - val_acc: 0.9603\n",
      "Epoch 24/50\n",
      "139/139 [==============================] - 4s 29ms/step - loss: 0.0939 - acc: 0.9991 - val_loss: 0.1472 - val_acc: 0.9675\n",
      "Epoch 25/50\n",
      "139/139 [==============================] - 4s 29ms/step - loss: 0.0896 - acc: 0.9991 - val_loss: 0.1423 - val_acc: 0.9675\n",
      "Epoch 26/50\n",
      "139/139 [==============================] - 4s 29ms/step - loss: 0.0852 - acc: 0.9991 - val_loss: 0.1471 - val_acc: 0.9567\n",
      "Epoch 27/50\n",
      "139/139 [==============================] - 4s 28ms/step - loss: 0.0822 - acc: 0.9991 - val_loss: 0.1464 - val_acc: 0.9603\n",
      "Epoch 28/50\n",
      "139/139 [==============================] - 4s 28ms/step - loss: 0.0786 - acc: 0.9991 - val_loss: 0.1302 - val_acc: 0.9675\n",
      "Epoch 29/50\n",
      "139/139 [==============================] - 4s 28ms/step - loss: 0.0754 - acc: 0.9991 - val_loss: 0.1233 - val_acc: 0.9711\n",
      "Epoch 30/50\n",
      "139/139 [==============================] - 4s 28ms/step - loss: 0.0729 - acc: 0.9991 - val_loss: 0.1295 - val_acc: 0.9675\n",
      "Epoch 31/50\n",
      "139/139 [==============================] - 4s 28ms/step - loss: 0.0706 - acc: 0.9991 - val_loss: 0.1250 - val_acc: 0.9675\n",
      "Epoch 32/50\n",
      "139/139 [==============================] - 4s 28ms/step - loss: 0.0680 - acc: 0.9991 - val_loss: 0.1236 - val_acc: 0.9675\n",
      "Epoch 33/50\n",
      "139/139 [==============================] - 4s 28ms/step - loss: 0.0659 - acc: 0.9991 - val_loss: 0.1248 - val_acc: 0.9675\n",
      "Epoch 34/50\n",
      "139/139 [==============================] - 5s 34ms/step - loss: 0.0640 - acc: 0.9991 - val_loss: 0.1230 - val_acc: 0.9675\n",
      "Epoch 35/50\n",
      "139/139 [==============================] - 6s 40ms/step - loss: 0.0620 - acc: 0.9991 - val_loss: 0.1132 - val_acc: 0.9711\n",
      "Epoch 36/50\n",
      "139/139 [==============================] - 5s 33ms/step - loss: 0.0597 - acc: 0.9991 - val_loss: 0.1108 - val_acc: 0.9711\n",
      "Epoch 37/50\n",
      "139/139 [==============================] - 5s 34ms/step - loss: 0.0585 - acc: 0.9991 - val_loss: 0.1174 - val_acc: 0.9675\n",
      "Epoch 38/50\n",
      "139/139 [==============================] - 5s 35ms/step - loss: 0.0567 - acc: 0.9991 - val_loss: 0.1175 - val_acc: 0.9675\n",
      "Epoch 39/50\n",
      "139/139 [==============================] - 4s 31ms/step - loss: 0.0551 - acc: 0.9991 - val_loss: 0.1088 - val_acc: 0.9711\n",
      "Epoch 40/50\n",
      "139/139 [==============================] - 4s 29ms/step - loss: 0.0544 - acc: 0.9991 - val_loss: 0.1106 - val_acc: 0.9675\n",
      "Epoch 41/50\n",
      "139/139 [==============================] - 4s 29ms/step - loss: 0.0527 - acc: 0.9991 - val_loss: 0.1063 - val_acc: 0.9711\n",
      "Epoch 42/50\n",
      "139/139 [==============================] - 4s 30ms/step - loss: 0.0518 - acc: 0.9991 - val_loss: 0.1141 - val_acc: 0.9675\n",
      "Epoch 43/50\n",
      "139/139 [==============================] - 4s 29ms/step - loss: 0.0505 - acc: 0.9991 - val_loss: 0.1056 - val_acc: 0.9675\n",
      "Epoch 44/50\n",
      "139/139 [==============================] - 4s 29ms/step - loss: 0.0497 - acc: 0.9991 - val_loss: 0.1058 - val_acc: 0.9711\n",
      "Epoch 45/50\n",
      "139/139 [==============================] - 4s 29ms/step - loss: 0.0487 - acc: 0.9991 - val_loss: 0.1093 - val_acc: 0.9675\n",
      "Epoch 46/50\n",
      "139/139 [==============================] - 4s 30ms/step - loss: 0.0476 - acc: 0.9991 - val_loss: 0.1089 - val_acc: 0.9711\n",
      "Epoch 47/50\n",
      "139/139 [==============================] - 4s 29ms/step - loss: 0.0468 - acc: 0.9991 - val_loss: 0.1003 - val_acc: 0.9711\n",
      "Epoch 48/50\n",
      "139/139 [==============================] - 4s 30ms/step - loss: 0.0460 - acc: 0.9991 - val_loss: 0.1052 - val_acc: 0.9711\n",
      "Epoch 49/50\n",
      "139/139 [==============================] - 4s 30ms/step - loss: 0.0448 - acc: 0.9991 - val_loss: 0.1108 - val_acc: 0.9675\n",
      "Epoch 50/50\n",
      "139/139 [==============================] - 4s 29ms/step - loss: 0.0444 - acc: 0.9991 - val_loss: 0.1044 - val_acc: 0.9711\n"
     ]
    }
   ],
   "source": [
    "history_LBBM_2_layers = LBBM_2_layers.fit(X_train, y_train, batch_size=8, epochs=50, verbose=1, validation_split=0.2)"
   ]
  },
  {
   "cell_type": "code",
   "execution_count": 38,
   "id": "3cc56d57-6bac-4552-aa91-6ee6f09fc462",
   "metadata": {},
   "outputs": [
    {
     "name": "stdout",
     "output_type": "stream",
     "text": [
      "11/11 [==============================] - 0s 15ms/step - loss: 0.0893 - acc: 0.9827\n"
     ]
    },
    {
     "data": {
      "text/plain": [
       "[0.08934864401817322, 0.9826589822769165]"
      ]
     },
     "execution_count": 38,
     "metadata": {},
     "output_type": "execute_result"
    }
   ],
   "source": [
    "LBBM_2_layers.evaluate(X_test, y_test)"
   ]
  },
  {
   "cell_type": "code",
   "execution_count": 39,
   "id": "9853d043-a87e-4587-b730-05924918764a",
   "metadata": {},
   "outputs": [
    {
     "name": "stdout",
     "output_type": "stream",
     "text": [
      "11/11 [==============================] - 0s 11ms/step - loss: 0.0810 - acc: 0.9769\n"
     ]
    },
    {
     "data": {
      "text/plain": [
       "[0.08101316541433334, 0.9768785834312439]"
      ]
     },
     "execution_count": 39,
     "metadata": {},
     "output_type": "execute_result"
    }
   ],
   "source": [
    "LBBM_2_layers.base_model.evaluate(X_test, y_test)"
   ]
  },
  {
   "cell_type": "code",
   "execution_count": 40,
   "id": "8e8f9af4-c072-4d74-b870-793bfabe1ff1",
   "metadata": {},
   "outputs": [],
   "source": [
    "LBBM_2_layers.unfreeze_model()\n",
    "LBBM_2_layers.compile(loss='categorical_crossentropy', optimizer=tf.keras.optimizers.Adam(learning_rate=0.0005), metrics=['acc'])"
   ]
  },
  {
   "cell_type": "code",
   "execution_count": 41,
   "id": "a21f9c31-2211-476c-96c5-f1cd1d0b8d4c",
   "metadata": {
    "collapsed": true,
    "jupyter": {
     "outputs_hidden": true
    },
    "tags": []
   },
   "outputs": [
    {
     "name": "stdout",
     "output_type": "stream",
     "text": [
      "Epoch 1/50\n",
      "139/139 [==============================] - 94s 118ms/step - loss: 0.0444 - acc: 0.9982 - val_loss: 0.1117 - val_acc: 0.9639\n",
      "Epoch 2/50\n",
      "139/139 [==============================] - 5s 38ms/step - loss: 0.0428 - acc: 0.9991 - val_loss: 0.1156 - val_acc: 0.9603\n",
      "Epoch 3/50\n",
      "139/139 [==============================] - 5s 38ms/step - loss: 0.0416 - acc: 0.9991 - val_loss: 0.1038 - val_acc: 0.9711\n",
      "Epoch 4/50\n",
      "139/139 [==============================] - 5s 37ms/step - loss: 0.0411 - acc: 0.9982 - val_loss: 0.1034 - val_acc: 0.9711\n",
      "Epoch 5/50\n",
      "139/139 [==============================] - 5s 39ms/step - loss: 0.0397 - acc: 1.0000 - val_loss: 0.0979 - val_acc: 0.9747\n",
      "Epoch 6/50\n",
      "139/139 [==============================] - 6s 40ms/step - loss: 0.0432 - acc: 0.9973 - val_loss: 0.0929 - val_acc: 0.9783\n",
      "Epoch 7/50\n",
      "139/139 [==============================] - 5s 39ms/step - loss: 0.0382 - acc: 1.0000 - val_loss: 0.0983 - val_acc: 0.9747\n",
      "Epoch 8/50\n",
      "139/139 [==============================] - 6s 40ms/step - loss: 0.0375 - acc: 1.0000 - val_loss: 0.0968 - val_acc: 0.9747\n",
      "Epoch 9/50\n",
      "139/139 [==============================] - 6s 40ms/step - loss: 0.0367 - acc: 1.0000 - val_loss: 0.0971 - val_acc: 0.9747\n",
      "Epoch 10/50\n",
      "139/139 [==============================] - 6s 40ms/step - loss: 0.0365 - acc: 1.0000 - val_loss: 0.0931 - val_acc: 0.9747\n",
      "Epoch 11/50\n",
      "139/139 [==============================] - 5s 38ms/step - loss: 0.0357 - acc: 1.0000 - val_loss: 0.0879 - val_acc: 0.9747\n",
      "Epoch 12/50\n",
      "139/139 [==============================] - 5s 37ms/step - loss: 0.0353 - acc: 1.0000 - val_loss: 0.0925 - val_acc: 0.9747\n",
      "Epoch 13/50\n",
      "139/139 [==============================] - 5s 39ms/step - loss: 0.0348 - acc: 1.0000 - val_loss: 0.0851 - val_acc: 0.9819\n",
      "Epoch 14/50\n",
      "139/139 [==============================] - 6s 45ms/step - loss: 0.0345 - acc: 1.0000 - val_loss: 0.0901 - val_acc: 0.9747\n",
      "Epoch 15/50\n",
      "139/139 [==============================] - 6s 42ms/step - loss: 0.0339 - acc: 1.0000 - val_loss: 0.1018 - val_acc: 0.9747\n",
      "Epoch 16/50\n",
      "139/139 [==============================] - 6s 40ms/step - loss: 0.0337 - acc: 1.0000 - val_loss: 0.0950 - val_acc: 0.9747\n",
      "Epoch 17/50\n",
      "139/139 [==============================] - 5s 37ms/step - loss: 0.0331 - acc: 1.0000 - val_loss: 0.0843 - val_acc: 0.9783\n",
      "Epoch 18/50\n",
      "139/139 [==============================] - 5s 40ms/step - loss: 0.0327 - acc: 1.0000 - val_loss: 0.0893 - val_acc: 0.9747\n",
      "Epoch 19/50\n",
      "139/139 [==============================] - 5s 37ms/step - loss: 0.0323 - acc: 1.0000 - val_loss: 0.0729 - val_acc: 0.9819\n",
      "Epoch 20/50\n",
      "139/139 [==============================] - 5s 37ms/step - loss: 0.0322 - acc: 1.0000 - val_loss: 0.0761 - val_acc: 0.9819\n",
      "Epoch 21/50\n",
      "139/139 [==============================] - 5s 37ms/step - loss: 0.0317 - acc: 1.0000 - val_loss: 0.0755 - val_acc: 0.9819\n",
      "Epoch 22/50\n",
      "139/139 [==============================] - 5s 38ms/step - loss: 0.0312 - acc: 1.0000 - val_loss: 0.0806 - val_acc: 0.9819\n",
      "Epoch 23/50\n",
      "139/139 [==============================] - 5s 37ms/step - loss: 0.0309 - acc: 1.0000 - val_loss: 0.0821 - val_acc: 0.9819\n",
      "Epoch 24/50\n",
      "139/139 [==============================] - 5s 37ms/step - loss: 0.0305 - acc: 1.0000 - val_loss: 0.0697 - val_acc: 0.9819\n",
      "Epoch 25/50\n",
      "139/139 [==============================] - 5s 37ms/step - loss: 0.0304 - acc: 1.0000 - val_loss: 0.0811 - val_acc: 0.9819\n",
      "Epoch 26/50\n",
      "139/139 [==============================] - 5s 37ms/step - loss: 0.0299 - acc: 1.0000 - val_loss: 0.0672 - val_acc: 0.9856\n",
      "Epoch 27/50\n",
      "139/139 [==============================] - 5s 39ms/step - loss: 0.0299 - acc: 1.0000 - val_loss: 0.0739 - val_acc: 0.9856\n",
      "Epoch 28/50\n",
      "139/139 [==============================] - 5s 39ms/step - loss: 0.0295 - acc: 1.0000 - val_loss: 0.0853 - val_acc: 0.9819\n",
      "Epoch 29/50\n",
      "139/139 [==============================] - 5s 38ms/step - loss: 0.0292 - acc: 1.0000 - val_loss: 0.0772 - val_acc: 0.9819\n",
      "Epoch 30/50\n",
      "139/139 [==============================] - 6s 41ms/step - loss: 0.0288 - acc: 1.0000 - val_loss: 0.0761 - val_acc: 0.9819\n",
      "Epoch 31/50\n",
      "139/139 [==============================] - 6s 43ms/step - loss: 0.0286 - acc: 1.0000 - val_loss: 0.0718 - val_acc: 0.9819\n",
      "Epoch 32/50\n",
      "139/139 [==============================] - 5s 39ms/step - loss: 0.0282 - acc: 1.0000 - val_loss: 0.0634 - val_acc: 0.9892\n",
      "Epoch 33/50\n",
      "139/139 [==============================] - 5s 37ms/step - loss: 0.0280 - acc: 1.0000 - val_loss: 0.0733 - val_acc: 0.9819\n",
      "Epoch 34/50\n",
      "139/139 [==============================] - 5s 37ms/step - loss: 0.0278 - acc: 1.0000 - val_loss: 0.0711 - val_acc: 0.9819\n",
      "Epoch 35/50\n",
      "139/139 [==============================] - 5s 37ms/step - loss: 0.0275 - acc: 1.0000 - val_loss: 0.0687 - val_acc: 0.9819\n",
      "Epoch 36/50\n",
      "139/139 [==============================] - 5s 38ms/step - loss: 0.0271 - acc: 1.0000 - val_loss: 0.0699 - val_acc: 0.9819\n",
      "Epoch 37/50\n",
      "139/139 [==============================] - 5s 39ms/step - loss: 0.0270 - acc: 1.0000 - val_loss: 0.0738 - val_acc: 0.9819\n",
      "Epoch 38/50\n",
      "139/139 [==============================] - 5s 37ms/step - loss: 0.0269 - acc: 1.0000 - val_loss: 0.0719 - val_acc: 0.9819\n",
      "Epoch 39/50\n",
      "139/139 [==============================] - 5s 37ms/step - loss: 0.0266 - acc: 1.0000 - val_loss: 0.0697 - val_acc: 0.9819\n",
      "Epoch 40/50\n",
      "139/139 [==============================] - 5s 37ms/step - loss: 0.0274 - acc: 1.0000 - val_loss: 0.0695 - val_acc: 0.9856\n",
      "Epoch 41/50\n",
      "139/139 [==============================] - 5s 37ms/step - loss: 0.0260 - acc: 1.0000 - val_loss: 0.0665 - val_acc: 0.9819\n",
      "Epoch 42/50\n",
      "139/139 [==============================] - 5s 37ms/step - loss: 0.0259 - acc: 1.0000 - val_loss: 0.0639 - val_acc: 0.9892\n",
      "Epoch 43/50\n",
      "139/139 [==============================] - 5s 37ms/step - loss: 0.0257 - acc: 1.0000 - val_loss: 0.0706 - val_acc: 0.9892\n",
      "Epoch 44/50\n",
      "139/139 [==============================] - 5s 40ms/step - loss: 0.0254 - acc: 1.0000 - val_loss: 0.0702 - val_acc: 0.9856\n",
      "Epoch 45/50\n",
      "139/139 [==============================] - 6s 43ms/step - loss: 0.0253 - acc: 1.0000 - val_loss: 0.0694 - val_acc: 0.9856\n",
      "Epoch 46/50\n",
      "139/139 [==============================] - 6s 40ms/step - loss: 0.0250 - acc: 1.0000 - val_loss: 0.0670 - val_acc: 0.9892\n",
      "Epoch 47/50\n",
      "139/139 [==============================] - 5s 37ms/step - loss: 0.0248 - acc: 1.0000 - val_loss: 0.0755 - val_acc: 0.9819\n",
      "Epoch 48/50\n",
      "139/139 [==============================] - 5s 37ms/step - loss: 0.0247 - acc: 1.0000 - val_loss: 0.0632 - val_acc: 0.9856\n",
      "Epoch 49/50\n",
      "139/139 [==============================] - 5s 37ms/step - loss: 0.0245 - acc: 1.0000 - val_loss: 0.0715 - val_acc: 0.9892\n",
      "Epoch 50/50\n",
      "139/139 [==============================] - 5s 37ms/step - loss: 0.0243 - acc: 1.0000 - val_loss: 0.0709 - val_acc: 0.9856\n"
     ]
    }
   ],
   "source": [
    "history_LBBM_2_layers = LBBM_2_layers.fit(X_train, y_train, batch_size=8, epochs=50, verbose=1, validation_split=0.2)"
   ]
  },
  {
   "cell_type": "code",
   "execution_count": 42,
   "id": "80fdf739-762a-4de7-bae8-285dd643eade",
   "metadata": {},
   "outputs": [
    {
     "name": "stdout",
     "output_type": "stream",
     "text": [
      "11/11 [==============================] - 0s 14ms/step - loss: 0.0739 - acc: 0.9884\n"
     ]
    },
    {
     "data": {
      "text/plain": [
       "[0.0738501325249672, 0.9884393215179443]"
      ]
     },
     "execution_count": 42,
     "metadata": {},
     "output_type": "execute_result"
    }
   ],
   "source": [
    "LBBM_2_layers.evaluate(X_test, y_test)"
   ]
  },
  {
   "cell_type": "code",
   "execution_count": 43,
   "id": "189bf4b9-27c0-4735-ba2e-3d69c161cacc",
   "metadata": {},
   "outputs": [
    {
     "name": "stdout",
     "output_type": "stream",
     "text": [
      "11/11 [==============================] - 0s 9ms/step - loss: 0.0683 - acc: 0.9884\n"
     ]
    },
    {
     "data": {
      "text/plain": [
       "[0.06826049089431763, 0.9884393215179443]"
      ]
     },
     "execution_count": 43,
     "metadata": {},
     "output_type": "execute_result"
    }
   ],
   "source": [
    "LBBM_2_layers.base_model.evaluate(X_test, y_test)"
   ]
  },
  {
   "cell_type": "markdown",
   "id": "9b8d0ced-92d8-4281-88e5-ec78ed36cf66",
   "metadata": {},
   "source": [
    "# MultiLayerPerceptron base model:\n",
    "Need to be tried with a harder task because here the MLP model quickly reache a training accuracy of 1 => Nothing more to learn from the training data."
   ]
  },
  {
   "cell_type": "code",
   "execution_count": 38,
   "id": "1c1e26ff-292e-44f7-a55a-a17c51165780",
   "metadata": {},
   "outputs": [],
   "source": [
    "MLP = MultiLayerPerceptron([tf.keras.layers.Dense(64, activation='relu'),\n",
    "                           tf.keras.layers.Dense(64, activation='relu'),\n",
    "                           tf.keras.layers.Dense(4, activation='softmax')])\n",
    "MLP.compile(loss='categorical_crossentropy', optimizer=tf.keras.optimizers.Adam(learning_rate=0.001), metrics=['acc'])"
   ]
  },
  {
   "cell_type": "code",
   "execution_count": 39,
   "id": "a367e74d-5465-4f48-a558-253cfb378621",
   "metadata": {
    "collapsed": true,
    "jupyter": {
     "outputs_hidden": true
    },
    "tags": []
   },
   "outputs": [
    {
     "name": "stdout",
     "output_type": "stream",
     "text": [
      "Epoch 1/50\n",
      "139/139 [==============================] - 1s 3ms/step - loss: 0.7372 - acc: 0.7131 - val_loss: 0.6040 - val_acc: 0.7112\n",
      "Epoch 2/50\n",
      "139/139 [==============================] - 0s 1ms/step - loss: 0.3658 - acc: 0.8507 - val_loss: 0.3740 - val_acc: 0.8303\n",
      "Epoch 3/50\n",
      "139/139 [==============================] - 0s 1ms/step - loss: 0.2316 - acc: 0.9041 - val_loss: 0.2766 - val_acc: 0.8809\n",
      "Epoch 4/50\n",
      "139/139 [==============================] - 0s 2ms/step - loss: 0.1718 - acc: 0.9421 - val_loss: 0.2258 - val_acc: 0.9025\n",
      "Epoch 5/50\n",
      "139/139 [==============================] - 0s 2ms/step - loss: 0.1245 - acc: 0.9656 - val_loss: 0.1739 - val_acc: 0.9386\n",
      "Epoch 6/50\n",
      "139/139 [==============================] - 0s 2ms/step - loss: 0.0971 - acc: 0.9756 - val_loss: 0.1429 - val_acc: 0.9422\n",
      "Epoch 7/50\n",
      "139/139 [==============================] - 0s 1ms/step - loss: 0.0738 - acc: 0.9855 - val_loss: 0.1239 - val_acc: 0.9675\n",
      "Epoch 8/50\n",
      "139/139 [==============================] - 0s 1ms/step - loss: 0.0598 - acc: 0.9882 - val_loss: 0.1219 - val_acc: 0.9495\n",
      "Epoch 9/50\n",
      "139/139 [==============================] - 0s 1ms/step - loss: 0.0437 - acc: 0.9928 - val_loss: 0.0923 - val_acc: 0.9675\n",
      "Epoch 10/50\n",
      "139/139 [==============================] - 0s 1ms/step - loss: 0.0347 - acc: 0.9919 - val_loss: 0.0852 - val_acc: 0.9783\n",
      "Epoch 11/50\n",
      "139/139 [==============================] - 0s 1ms/step - loss: 0.0255 - acc: 0.9991 - val_loss: 0.0719 - val_acc: 0.9747\n",
      "Epoch 12/50\n",
      "139/139 [==============================] - 0s 1ms/step - loss: 0.0199 - acc: 0.9991 - val_loss: 0.0885 - val_acc: 0.9675\n",
      "Epoch 13/50\n",
      "139/139 [==============================] - 0s 1ms/step - loss: 0.0168 - acc: 1.0000 - val_loss: 0.0599 - val_acc: 0.9856\n",
      "Epoch 14/50\n",
      "139/139 [==============================] - 0s 1ms/step - loss: 0.0123 - acc: 1.0000 - val_loss: 0.0637 - val_acc: 0.9783\n",
      "Epoch 15/50\n",
      "139/139 [==============================] - 0s 1ms/step - loss: 0.0107 - acc: 0.9991 - val_loss: 0.0626 - val_acc: 0.9711\n",
      "Epoch 16/50\n",
      "139/139 [==============================] - 0s 1ms/step - loss: 0.0078 - acc: 1.0000 - val_loss: 0.0414 - val_acc: 0.9856\n",
      "Epoch 17/50\n",
      "139/139 [==============================] - 0s 1ms/step - loss: 0.0064 - acc: 1.0000 - val_loss: 0.0521 - val_acc: 0.9819\n",
      "Epoch 18/50\n",
      "139/139 [==============================] - 0s 2ms/step - loss: 0.0084 - acc: 0.9991 - val_loss: 0.0484 - val_acc: 0.9819\n",
      "Epoch 19/50\n",
      "139/139 [==============================] - 0s 1ms/step - loss: 0.0042 - acc: 1.0000 - val_loss: 0.0401 - val_acc: 0.9856\n",
      "Epoch 20/50\n",
      "139/139 [==============================] - 0s 1ms/step - loss: 0.0036 - acc: 1.0000 - val_loss: 0.0381 - val_acc: 0.9856\n",
      "Epoch 21/50\n",
      "139/139 [==============================] - 0s 2ms/step - loss: 0.0030 - acc: 1.0000 - val_loss: 0.0383 - val_acc: 0.9856\n",
      "Epoch 22/50\n",
      "139/139 [==============================] - 0s 1ms/step - loss: 0.0026 - acc: 1.0000 - val_loss: 0.0403 - val_acc: 0.9856\n",
      "Epoch 23/50\n",
      "139/139 [==============================] - 0s 2ms/step - loss: 0.0022 - acc: 1.0000 - val_loss: 0.0400 - val_acc: 0.9856\n",
      "Epoch 24/50\n",
      "139/139 [==============================] - 0s 1ms/step - loss: 0.0019 - acc: 1.0000 - val_loss: 0.0368 - val_acc: 0.9856\n",
      "Epoch 25/50\n",
      "139/139 [==============================] - 0s 1ms/step - loss: 0.0016 - acc: 1.0000 - val_loss: 0.0392 - val_acc: 0.9856\n",
      "Epoch 26/50\n",
      "139/139 [==============================] - 0s 1ms/step - loss: 0.0014 - acc: 1.0000 - val_loss: 0.0381 - val_acc: 0.9856\n",
      "Epoch 27/50\n",
      "139/139 [==============================] - 0s 1ms/step - loss: 0.0013 - acc: 1.0000 - val_loss: 0.0376 - val_acc: 0.9892\n",
      "Epoch 28/50\n",
      "139/139 [==============================] - 0s 1ms/step - loss: 0.0011 - acc: 1.0000 - val_loss: 0.0349 - val_acc: 0.9856\n",
      "Epoch 29/50\n",
      "139/139 [==============================] - 0s 1ms/step - loss: 9.4453e-04 - acc: 1.0000 - val_loss: 0.0329 - val_acc: 0.9856\n",
      "Epoch 30/50\n",
      "139/139 [==============================] - 0s 1ms/step - loss: 8.5225e-04 - acc: 1.0000 - val_loss: 0.0372 - val_acc: 0.9856\n",
      "Epoch 31/50\n",
      "139/139 [==============================] - 0s 1ms/step - loss: 7.5560e-04 - acc: 1.0000 - val_loss: 0.0314 - val_acc: 0.9856\n",
      "Epoch 32/50\n",
      "139/139 [==============================] - 0s 1ms/step - loss: 6.6098e-04 - acc: 1.0000 - val_loss: 0.0338 - val_acc: 0.9856\n",
      "Epoch 33/50\n",
      "139/139 [==============================] - 0s 1ms/step - loss: 5.9545e-04 - acc: 1.0000 - val_loss: 0.0337 - val_acc: 0.9856\n",
      "Epoch 34/50\n",
      "139/139 [==============================] - 0s 1ms/step - loss: 5.3474e-04 - acc: 1.0000 - val_loss: 0.0365 - val_acc: 0.9856\n",
      "Epoch 35/50\n",
      "139/139 [==============================] - 0s 1ms/step - loss: 4.7036e-04 - acc: 1.0000 - val_loss: 0.0376 - val_acc: 0.9856\n",
      "Epoch 36/50\n",
      "139/139 [==============================] - 0s 1ms/step - loss: 4.1858e-04 - acc: 1.0000 - val_loss: 0.0368 - val_acc: 0.9819\n",
      "Epoch 37/50\n",
      "139/139 [==============================] - 0s 2ms/step - loss: 3.7955e-04 - acc: 1.0000 - val_loss: 0.0390 - val_acc: 0.9819\n",
      "Epoch 38/50\n",
      "139/139 [==============================] - 0s 1ms/step - loss: 3.4010e-04 - acc: 1.0000 - val_loss: 0.0354 - val_acc: 0.9856\n",
      "Epoch 39/50\n",
      "139/139 [==============================] - 0s 1ms/step - loss: 3.0579e-04 - acc: 1.0000 - val_loss: 0.0375 - val_acc: 0.9856\n",
      "Epoch 40/50\n",
      "139/139 [==============================] - 0s 1ms/step - loss: 2.8312e-04 - acc: 1.0000 - val_loss: 0.0376 - val_acc: 0.9819\n",
      "Epoch 41/50\n",
      "139/139 [==============================] - 0s 1ms/step - loss: 2.4536e-04 - acc: 1.0000 - val_loss: 0.0331 - val_acc: 0.9856\n",
      "Epoch 42/50\n",
      "139/139 [==============================] - 0s 1ms/step - loss: 2.3641e-04 - acc: 1.0000 - val_loss: 0.0348 - val_acc: 0.9856\n",
      "Epoch 43/50\n",
      "139/139 [==============================] - 0s 2ms/step - loss: 2.0727e-04 - acc: 1.0000 - val_loss: 0.0346 - val_acc: 0.9856\n",
      "Epoch 44/50\n",
      "139/139 [==============================] - 0s 1ms/step - loss: 1.9142e-04 - acc: 1.0000 - val_loss: 0.0392 - val_acc: 0.9819\n",
      "Epoch 45/50\n",
      "139/139 [==============================] - 0s 1ms/step - loss: 1.7645e-04 - acc: 1.0000 - val_loss: 0.0363 - val_acc: 0.9819\n",
      "Epoch 46/50\n",
      "139/139 [==============================] - 0s 1ms/step - loss: 1.5163e-04 - acc: 1.0000 - val_loss: 0.0358 - val_acc: 0.9856\n",
      "Epoch 47/50\n",
      "139/139 [==============================] - 0s 1ms/step - loss: 1.4010e-04 - acc: 1.0000 - val_loss: 0.0353 - val_acc: 0.9856\n",
      "Epoch 48/50\n",
      "139/139 [==============================] - 0s 1ms/step - loss: 1.2884e-04 - acc: 1.0000 - val_loss: 0.0359 - val_acc: 0.9856\n",
      "Epoch 49/50\n",
      "139/139 [==============================] - 0s 1ms/step - loss: 1.1653e-04 - acc: 1.0000 - val_loss: 0.0353 - val_acc: 0.9856\n",
      "Epoch 50/50\n",
      "139/139 [==============================] - 0s 1ms/step - loss: 1.0719e-04 - acc: 1.0000 - val_loss: 0.0330 - val_acc: 0.9892\n"
     ]
    }
   ],
   "source": [
    "history_MLP = MLP.fit(X_train, y_train, batch_size=8, epochs=50, verbose=1, validation_split=0.2)"
   ]
  },
  {
   "cell_type": "code",
   "execution_count": 40,
   "id": "52b22f7b-142d-4902-994b-103198451af8",
   "metadata": {},
   "outputs": [
    {
     "name": "stdout",
     "output_type": "stream",
     "text": [
      "11/11 [==============================] - 0s 2ms/step - loss: 0.0327 - acc: 0.9855\n"
     ]
    },
    {
     "data": {
      "text/plain": [
       "[0.03274001181125641, 0.9855491518974304]"
      ]
     },
     "execution_count": 40,
     "metadata": {},
     "output_type": "execute_result"
    }
   ],
   "source": [
    "MLP.evaluate(X_test, y_test)"
   ]
  },
  {
   "cell_type": "markdown",
   "id": "4d5a595f-e7d9-4191-bb6c-ee1f9f5a430f",
   "metadata": {},
   "source": [
    "## Retraining base model (after doing transfert learning):"
   ]
  },
  {
   "cell_type": "code",
   "execution_count": 41,
   "id": "b46616e6-9168-4c83-b216-9389519dbaf8",
   "metadata": {},
   "outputs": [],
   "source": [
    "LBBM = LorisBallsBasedModel(BoundedParaboloids(128, semi_axis_regularizer=SemiAxisRegularizer(0.00001)),\n",
    "                            tf.keras.layers.Dense(4, activation='softmax'),\n",
    "                            MLP)\n",
    "LBBM.freeze_base_model()\n",
    "LBBM.compile(loss='categorical_crossentropy', optimizer=tf.keras.optimizers.Adam(learning_rate=0.001), metrics=['acc'])"
   ]
  },
  {
   "cell_type": "code",
   "execution_count": 42,
   "id": "1306f873-3b39-4519-ac04-ab083eecd065",
   "metadata": {
    "collapsed": true,
    "jupyter": {
     "outputs_hidden": true
    },
    "tags": []
   },
   "outputs": [
    {
     "name": "stdout",
     "output_type": "stream",
     "text": [
      "Epoch 1/50\n",
      "139/139 [==============================] - 43s 56ms/step - loss: 1.0232 - acc: 0.7195 - val_loss: 1.0836 - val_acc: 0.6498\n",
      "Epoch 2/50\n",
      "139/139 [==============================] - 3s 21ms/step - loss: 0.8465 - acc: 0.7195 - val_loss: 0.9171 - val_acc: 0.6498\n",
      "Epoch 3/50\n",
      "139/139 [==============================] - 3s 20ms/step - loss: 0.7406 - acc: 0.7195 - val_loss: 0.7920 - val_acc: 0.6498\n",
      "Epoch 4/50\n",
      "139/139 [==============================] - 3s 21ms/step - loss: 0.6477 - acc: 0.7195 - val_loss: 0.7167 - val_acc: 0.6498\n",
      "Epoch 5/50\n",
      "139/139 [==============================] - 3s 21ms/step - loss: 0.5649 - acc: 0.7946 - val_loss: 0.6168 - val_acc: 0.8917\n",
      "Epoch 6/50\n",
      "139/139 [==============================] - 3s 21ms/step - loss: 0.4921 - acc: 0.9113 - val_loss: 0.5448 - val_acc: 0.8881\n",
      "Epoch 7/50\n",
      "139/139 [==============================] - 3s 21ms/step - loss: 0.4248 - acc: 0.9303 - val_loss: 0.4779 - val_acc: 0.8881\n",
      "Epoch 8/50\n",
      "139/139 [==============================] - 3s 21ms/step - loss: 0.3593 - acc: 0.9303 - val_loss: 0.4058 - val_acc: 0.8881\n",
      "Epoch 9/50\n",
      "139/139 [==============================] - 3s 21ms/step - loss: 0.2945 - acc: 0.9475 - val_loss: 0.3348 - val_acc: 0.9386\n",
      "Epoch 10/50\n",
      "139/139 [==============================] - 3s 21ms/step - loss: 0.2471 - acc: 0.9765 - val_loss: 0.2948 - val_acc: 0.9747\n",
      "Epoch 11/50\n",
      "139/139 [==============================] - 3s 21ms/step - loss: 0.2139 - acc: 0.9864 - val_loss: 0.2637 - val_acc: 0.9783\n",
      "Epoch 12/50\n",
      "139/139 [==============================] - 3s 21ms/step - loss: 0.1906 - acc: 0.9991 - val_loss: 0.2402 - val_acc: 0.9783\n",
      "Epoch 13/50\n",
      "139/139 [==============================] - 3s 21ms/step - loss: 0.1681 - acc: 0.9982 - val_loss: 0.2195 - val_acc: 0.9783\n",
      "Epoch 14/50\n",
      "139/139 [==============================] - 3s 21ms/step - loss: 0.1499 - acc: 0.9982 - val_loss: 0.1963 - val_acc: 0.9783\n",
      "Epoch 15/50\n",
      "139/139 [==============================] - 3s 21ms/step - loss: 0.1354 - acc: 1.0000 - val_loss: 0.1846 - val_acc: 0.9819\n",
      "Epoch 16/50\n",
      "139/139 [==============================] - 3s 21ms/step - loss: 0.1238 - acc: 1.0000 - val_loss: 0.1688 - val_acc: 0.9819\n",
      "Epoch 17/50\n",
      "139/139 [==============================] - 3s 21ms/step - loss: 0.1123 - acc: 1.0000 - val_loss: 0.1575 - val_acc: 0.9819\n",
      "Epoch 18/50\n",
      "139/139 [==============================] - 3s 21ms/step - loss: 0.1032 - acc: 1.0000 - val_loss: 0.1463 - val_acc: 0.9819\n",
      "Epoch 19/50\n",
      "139/139 [==============================] - 3s 21ms/step - loss: 0.0957 - acc: 1.0000 - val_loss: 0.1402 - val_acc: 0.9856\n",
      "Epoch 20/50\n",
      "139/139 [==============================] - 3s 21ms/step - loss: 0.0879 - acc: 1.0000 - val_loss: 0.1316 - val_acc: 0.9819\n",
      "Epoch 21/50\n",
      "139/139 [==============================] - 3s 21ms/step - loss: 0.0812 - acc: 1.0000 - val_loss: 0.1258 - val_acc: 0.9856\n",
      "Epoch 22/50\n",
      "139/139 [==============================] - 3s 21ms/step - loss: 0.0758 - acc: 1.0000 - val_loss: 0.1189 - val_acc: 0.9892\n",
      "Epoch 23/50\n",
      "139/139 [==============================] - 3s 21ms/step - loss: 0.0710 - acc: 1.0000 - val_loss: 0.1153 - val_acc: 0.9856\n",
      "Epoch 24/50\n",
      "139/139 [==============================] - 3s 21ms/step - loss: 0.0664 - acc: 1.0000 - val_loss: 0.1112 - val_acc: 0.9892\n",
      "Epoch 25/50\n",
      "139/139 [==============================] - 3s 21ms/step - loss: 0.0618 - acc: 1.0000 - val_loss: 0.1052 - val_acc: 0.9856\n",
      "Epoch 26/50\n",
      "139/139 [==============================] - 3s 21ms/step - loss: 0.0585 - acc: 1.0000 - val_loss: 0.1030 - val_acc: 0.9856\n",
      "Epoch 27/50\n",
      "139/139 [==============================] - 3s 21ms/step - loss: 0.0549 - acc: 1.0000 - val_loss: 0.1001 - val_acc: 0.9856\n",
      "Epoch 28/50\n",
      "139/139 [==============================] - 3s 21ms/step - loss: 0.0520 - acc: 1.0000 - val_loss: 0.0938 - val_acc: 0.9892\n",
      "Epoch 29/50\n",
      "139/139 [==============================] - 3s 21ms/step - loss: 0.0489 - acc: 1.0000 - val_loss: 0.0917 - val_acc: 0.9856\n",
      "Epoch 30/50\n",
      "139/139 [==============================] - 3s 21ms/step - loss: 0.0462 - acc: 1.0000 - val_loss: 0.0915 - val_acc: 0.9856\n",
      "Epoch 31/50\n",
      "139/139 [==============================] - 3s 21ms/step - loss: 0.0437 - acc: 1.0000 - val_loss: 0.0884 - val_acc: 0.9856\n",
      "Epoch 32/50\n",
      "139/139 [==============================] - 3s 21ms/step - loss: 0.0414 - acc: 1.0000 - val_loss: 0.0886 - val_acc: 0.9856\n",
      "Epoch 33/50\n",
      "139/139 [==============================] - 3s 21ms/step - loss: 0.0395 - acc: 1.0000 - val_loss: 0.0853 - val_acc: 0.9856\n",
      "Epoch 34/50\n",
      "139/139 [==============================] - 3s 21ms/step - loss: 0.0377 - acc: 1.0000 - val_loss: 0.0865 - val_acc: 0.9856\n",
      "Epoch 35/50\n",
      "139/139 [==============================] - 3s 21ms/step - loss: 0.0361 - acc: 1.0000 - val_loss: 0.0836 - val_acc: 0.9856\n",
      "Epoch 36/50\n",
      "139/139 [==============================] - 3s 21ms/step - loss: 0.0345 - acc: 1.0000 - val_loss: 0.0814 - val_acc: 0.9856\n",
      "Epoch 37/50\n",
      "139/139 [==============================] - 3s 21ms/step - loss: 0.0332 - acc: 1.0000 - val_loss: 0.0811 - val_acc: 0.9856\n",
      "Epoch 38/50\n",
      "139/139 [==============================] - 3s 21ms/step - loss: 0.0319 - acc: 1.0000 - val_loss: 0.0796 - val_acc: 0.9856\n",
      "Epoch 39/50\n",
      "139/139 [==============================] - 3s 21ms/step - loss: 0.0308 - acc: 1.0000 - val_loss: 0.0771 - val_acc: 0.9856\n",
      "Epoch 40/50\n",
      "139/139 [==============================] - 3s 21ms/step - loss: 0.0297 - acc: 1.0000 - val_loss: 0.0771 - val_acc: 0.9856\n",
      "Epoch 41/50\n",
      "139/139 [==============================] - 3s 21ms/step - loss: 0.0288 - acc: 1.0000 - val_loss: 0.0759 - val_acc: 0.9856\n",
      "Epoch 42/50\n",
      "139/139 [==============================] - 3s 21ms/step - loss: 0.0277 - acc: 1.0000 - val_loss: 0.0747 - val_acc: 0.9856\n",
      "Epoch 43/50\n",
      "139/139 [==============================] - 3s 21ms/step - loss: 0.0269 - acc: 1.0000 - val_loss: 0.0741 - val_acc: 0.9892\n",
      "Epoch 44/50\n",
      "139/139 [==============================] - 3s 21ms/step - loss: 0.0260 - acc: 1.0000 - val_loss: 0.0736 - val_acc: 0.9856\n",
      "Epoch 45/50\n",
      "139/139 [==============================] - 3s 21ms/step - loss: 0.0251 - acc: 1.0000 - val_loss: 0.0746 - val_acc: 0.9856\n",
      "Epoch 46/50\n",
      "139/139 [==============================] - 3s 21ms/step - loss: 0.0245 - acc: 1.0000 - val_loss: 0.0733 - val_acc: 0.9856\n",
      "Epoch 47/50\n",
      "139/139 [==============================] - 3s 21ms/step - loss: 0.0237 - acc: 1.0000 - val_loss: 0.0721 - val_acc: 0.9856\n",
      "Epoch 48/50\n",
      "139/139 [==============================] - 3s 21ms/step - loss: 0.0230 - acc: 1.0000 - val_loss: 0.0714 - val_acc: 0.9856\n",
      "Epoch 49/50\n",
      "139/139 [==============================] - 3s 21ms/step - loss: 0.0224 - acc: 1.0000 - val_loss: 0.0718 - val_acc: 0.9856\n",
      "Epoch 50/50\n",
      "139/139 [==============================] - 3s 21ms/step - loss: 0.0218 - acc: 1.0000 - val_loss: 0.0686 - val_acc: 0.9856\n"
     ]
    }
   ],
   "source": [
    "history_LBBM = LBBM.fit(X_train, y_train, batch_size=8, epochs=50, verbose=1, validation_split=0.2)"
   ]
  },
  {
   "cell_type": "code",
   "execution_count": 43,
   "id": "4876b105-d332-41b2-9963-fc5cc1c33c62",
   "metadata": {},
   "outputs": [
    {
     "name": "stdout",
     "output_type": "stream",
     "text": [
      "11/11 [==============================] - 0s 7ms/step - loss: 0.0669 - acc: 0.9855\n"
     ]
    },
    {
     "data": {
      "text/plain": [
       "[0.06689341366291046, 0.9855491518974304]"
      ]
     },
     "execution_count": 43,
     "metadata": {},
     "output_type": "execute_result"
    }
   ],
   "source": [
    "LBBM.evaluate(X_test, y_test)"
   ]
  },
  {
   "cell_type": "code",
   "execution_count": 44,
   "id": "5db94e02-ba8c-42d4-8353-7a60235c7e3f",
   "metadata": {},
   "outputs": [
    {
     "name": "stdout",
     "output_type": "stream",
     "text": [
      "11/11 [==============================] - 0s 2ms/step - loss: 0.0327 - acc: 0.9855\n"
     ]
    },
    {
     "data": {
      "text/plain": [
       "[0.03274001181125641, 0.9855491518974304]"
      ]
     },
     "execution_count": 44,
     "metadata": {},
     "output_type": "execute_result"
    }
   ],
   "source": [
    "LBBM.base_model.evaluate(X_test, y_test)"
   ]
  },
  {
   "cell_type": "code",
   "execution_count": 45,
   "id": "42e10027-fff8-4d80-ab34-6eaa520de1f0",
   "metadata": {},
   "outputs": [],
   "source": [
    "LBBM.unfreeze_model()\n",
    "LBBM.compile(loss='categorical_crossentropy', optimizer=tf.keras.optimizers.Adam(learning_rate=0.0005), metrics=['acc'])"
   ]
  },
  {
   "cell_type": "code",
   "execution_count": 46,
   "id": "0be25fae-fd41-4005-ac13-c9fd3811477d",
   "metadata": {
    "collapsed": true,
    "jupyter": {
     "outputs_hidden": true
    },
    "tags": []
   },
   "outputs": [
    {
     "name": "stdout",
     "output_type": "stream",
     "text": [
      "Epoch 1/50\n",
      "139/139 [==============================] - 40s 56ms/step - loss: 0.0211 - acc: 1.0000 - val_loss: 0.0866 - val_acc: 0.9819\n",
      "Epoch 2/50\n",
      "139/139 [==============================] - 3s 20ms/step - loss: 0.0204 - acc: 1.0000 - val_loss: 0.0681 - val_acc: 0.9783\n",
      "Epoch 3/50\n",
      "139/139 [==============================] - 3s 20ms/step - loss: 0.0196 - acc: 1.0000 - val_loss: 0.0652 - val_acc: 0.9856\n",
      "Epoch 4/50\n",
      "139/139 [==============================] - 3s 21ms/step - loss: 0.0190 - acc: 1.0000 - val_loss: 0.0723 - val_acc: 0.9819\n",
      "Epoch 5/50\n",
      "139/139 [==============================] - 3s 21ms/step - loss: 0.0184 - acc: 1.0000 - val_loss: 0.0623 - val_acc: 0.9892\n",
      "Epoch 6/50\n",
      "139/139 [==============================] - 3s 21ms/step - loss: 0.0179 - acc: 1.0000 - val_loss: 0.0678 - val_acc: 0.9892\n",
      "Epoch 7/50\n",
      "139/139 [==============================] - 3s 21ms/step - loss: 0.0174 - acc: 1.0000 - val_loss: 0.0622 - val_acc: 0.9892\n",
      "Epoch 8/50\n",
      "139/139 [==============================] - 3s 21ms/step - loss: 0.0170 - acc: 1.0000 - val_loss: 0.0626 - val_acc: 0.9892\n",
      "Epoch 9/50\n",
      "139/139 [==============================] - 3s 21ms/step - loss: 0.0166 - acc: 1.0000 - val_loss: 0.0650 - val_acc: 0.9856\n",
      "Epoch 10/50\n",
      "139/139 [==============================] - 3s 21ms/step - loss: 0.0162 - acc: 1.0000 - val_loss: 0.0621 - val_acc: 0.9892\n",
      "Epoch 11/50\n",
      "139/139 [==============================] - 3s 21ms/step - loss: 0.0158 - acc: 1.0000 - val_loss: 0.0614 - val_acc: 0.9892\n",
      "Epoch 12/50\n",
      "139/139 [==============================] - 3s 21ms/step - loss: 0.0155 - acc: 1.0000 - val_loss: 0.0593 - val_acc: 0.9892\n",
      "Epoch 13/50\n",
      "139/139 [==============================] - 3s 21ms/step - loss: 0.0152 - acc: 1.0000 - val_loss: 0.0619 - val_acc: 0.9892\n",
      "Epoch 14/50\n",
      "139/139 [==============================] - 3s 21ms/step - loss: 0.0149 - acc: 1.0000 - val_loss: 0.0628 - val_acc: 0.9892\n",
      "Epoch 15/50\n",
      "139/139 [==============================] - 3s 21ms/step - loss: 0.0146 - acc: 1.0000 - val_loss: 0.0620 - val_acc: 0.9892\n",
      "Epoch 16/50\n",
      "139/139 [==============================] - 3s 21ms/step - loss: 0.0143 - acc: 1.0000 - val_loss: 0.0566 - val_acc: 0.9892\n",
      "Epoch 17/50\n",
      "139/139 [==============================] - 3s 21ms/step - loss: 0.0141 - acc: 1.0000 - val_loss: 0.0579 - val_acc: 0.9892\n",
      "Epoch 18/50\n",
      "139/139 [==============================] - 3s 21ms/step - loss: 0.0138 - acc: 1.0000 - val_loss: 0.0614 - val_acc: 0.9892\n",
      "Epoch 19/50\n",
      "139/139 [==============================] - 3s 21ms/step - loss: 0.0136 - acc: 1.0000 - val_loss: 0.0608 - val_acc: 0.9892\n",
      "Epoch 20/50\n",
      "139/139 [==============================] - 3s 21ms/step - loss: 0.0134 - acc: 1.0000 - val_loss: 0.0615 - val_acc: 0.9892\n",
      "Epoch 21/50\n",
      "139/139 [==============================] - 3s 21ms/step - loss: 0.0131 - acc: 1.0000 - val_loss: 0.0581 - val_acc: 0.9928\n",
      "Epoch 22/50\n",
      "139/139 [==============================] - 3s 21ms/step - loss: 0.0129 - acc: 1.0000 - val_loss: 0.0607 - val_acc: 0.9892\n",
      "Epoch 23/50\n",
      "139/139 [==============================] - 3s 21ms/step - loss: 0.0127 - acc: 1.0000 - val_loss: 0.0634 - val_acc: 0.9892\n",
      "Epoch 24/50\n",
      "139/139 [==============================] - 3s 21ms/step - loss: 0.0125 - acc: 1.0000 - val_loss: 0.0604 - val_acc: 0.9892\n",
      "Epoch 25/50\n",
      "139/139 [==============================] - 3s 21ms/step - loss: 0.0124 - acc: 1.0000 - val_loss: 0.0585 - val_acc: 0.9892\n",
      "Epoch 26/50\n",
      "139/139 [==============================] - 3s 21ms/step - loss: 0.0122 - acc: 1.0000 - val_loss: 0.0609 - val_acc: 0.9892\n",
      "Epoch 27/50\n",
      "139/139 [==============================] - 3s 21ms/step - loss: 0.0120 - acc: 1.0000 - val_loss: 0.0580 - val_acc: 0.9892\n",
      "Epoch 28/50\n",
      "139/139 [==============================] - 3s 21ms/step - loss: 0.0118 - acc: 1.0000 - val_loss: 0.0605 - val_acc: 0.9892\n",
      "Epoch 29/50\n",
      "139/139 [==============================] - 3s 21ms/step - loss: 0.0117 - acc: 1.0000 - val_loss: 0.0576 - val_acc: 0.9892\n",
      "Epoch 30/50\n",
      "139/139 [==============================] - 3s 21ms/step - loss: 0.0115 - acc: 1.0000 - val_loss: 0.0599 - val_acc: 0.9892\n",
      "Epoch 31/50\n",
      "139/139 [==============================] - 3s 21ms/step - loss: 0.0113 - acc: 1.0000 - val_loss: 0.0617 - val_acc: 0.9892\n",
      "Epoch 32/50\n",
      "139/139 [==============================] - 3s 22ms/step - loss: 0.0112 - acc: 1.0000 - val_loss: 0.0603 - val_acc: 0.9928\n",
      "Epoch 33/50\n",
      "139/139 [==============================] - 3s 21ms/step - loss: 0.0110 - acc: 1.0000 - val_loss: 0.0587 - val_acc: 0.9928\n",
      "Epoch 34/50\n",
      "139/139 [==============================] - 3s 21ms/step - loss: 0.0109 - acc: 1.0000 - val_loss: 0.0600 - val_acc: 0.9928\n",
      "Epoch 35/50\n",
      "139/139 [==============================] - 3s 21ms/step - loss: 0.0108 - acc: 1.0000 - val_loss: 0.0595 - val_acc: 0.9928\n",
      "Epoch 36/50\n",
      "139/139 [==============================] - 3s 21ms/step - loss: 0.0106 - acc: 1.0000 - val_loss: 0.0639 - val_acc: 0.9892\n",
      "Epoch 37/50\n",
      "139/139 [==============================] - 3s 21ms/step - loss: 0.0105 - acc: 1.0000 - val_loss: 0.0644 - val_acc: 0.9856\n",
      "Epoch 38/50\n",
      "139/139 [==============================] - 3s 21ms/step - loss: 0.0103 - acc: 1.0000 - val_loss: 0.0628 - val_acc: 0.9928\n",
      "Epoch 39/50\n",
      "139/139 [==============================] - 3s 21ms/step - loss: 0.0102 - acc: 1.0000 - val_loss: 0.0603 - val_acc: 0.9928\n",
      "Epoch 40/50\n",
      "139/139 [==============================] - 3s 21ms/step - loss: 0.0101 - acc: 1.0000 - val_loss: 0.0619 - val_acc: 0.9928\n",
      "Epoch 41/50\n",
      "139/139 [==============================] - 3s 21ms/step - loss: 0.0100 - acc: 1.0000 - val_loss: 0.0630 - val_acc: 0.9928\n",
      "Epoch 42/50\n",
      "139/139 [==============================] - 3s 21ms/step - loss: 0.0098 - acc: 1.0000 - val_loss: 0.0604 - val_acc: 0.9892\n",
      "Epoch 43/50\n",
      "139/139 [==============================] - 3s 21ms/step - loss: 0.0097 - acc: 1.0000 - val_loss: 0.0662 - val_acc: 0.9856\n",
      "Epoch 44/50\n",
      "139/139 [==============================] - 3s 21ms/step - loss: 0.0096 - acc: 1.0000 - val_loss: 0.0617 - val_acc: 0.9928\n",
      "Epoch 45/50\n",
      "139/139 [==============================] - 3s 21ms/step - loss: 0.0095 - acc: 1.0000 - val_loss: 0.0649 - val_acc: 0.9928\n",
      "Epoch 46/50\n",
      "139/139 [==============================] - 3s 21ms/step - loss: 0.0094 - acc: 1.0000 - val_loss: 0.0632 - val_acc: 0.9928\n",
      "Epoch 47/50\n",
      "139/139 [==============================] - 3s 21ms/step - loss: 0.0093 - acc: 1.0000 - val_loss: 0.0622 - val_acc: 0.9928\n",
      "Epoch 48/50\n",
      "139/139 [==============================] - 3s 21ms/step - loss: 0.0091 - acc: 1.0000 - val_loss: 0.0612 - val_acc: 0.9928\n",
      "Epoch 49/50\n",
      "139/139 [==============================] - 3s 21ms/step - loss: 0.0090 - acc: 1.0000 - val_loss: 0.0589 - val_acc: 0.9928\n",
      "Epoch 50/50\n",
      "139/139 [==============================] - 3s 21ms/step - loss: 0.0089 - acc: 1.0000 - val_loss: 0.0587 - val_acc: 0.9928\n"
     ]
    }
   ],
   "source": [
    "history_LBBM = LBBM.fit(X_train, y_train, batch_size=8, epochs=50, verbose=1, validation_split=0.2)"
   ]
  },
  {
   "cell_type": "code",
   "execution_count": 47,
   "id": "c390e349-da9c-4c16-b041-af3f73b6a8e5",
   "metadata": {},
   "outputs": [
    {
     "name": "stdout",
     "output_type": "stream",
     "text": [
      "11/11 [==============================] - 0s 9ms/step - loss: 0.0777 - acc: 0.9884\n"
     ]
    },
    {
     "data": {
      "text/plain": [
       "[0.07774505764245987, 0.9884393215179443]"
      ]
     },
     "execution_count": 47,
     "metadata": {},
     "output_type": "execute_result"
    }
   ],
   "source": [
    "LBBM.evaluate(X_test, y_test)"
   ]
  },
  {
   "cell_type": "code",
   "execution_count": 48,
   "id": "d8e21b86-bcd7-43eb-b3f6-903b22c1083c",
   "metadata": {},
   "outputs": [
    {
     "name": "stdout",
     "output_type": "stream",
     "text": [
      "11/11 [==============================] - 0s 3ms/step - loss: 0.0371 - acc: 0.9884\n"
     ]
    },
    {
     "data": {
      "text/plain": [
       "[0.037076856940984726, 0.9884393215179443]"
      ]
     },
     "execution_count": 48,
     "metadata": {},
     "output_type": "execute_result"
    }
   ],
   "source": [
    "LBBM.base_model.evaluate(X_test, y_test)"
   ]
  },
  {
   "cell_type": "markdown",
   "id": "ca1d9a06-26a6-422e-b1c5-346063ab6c61",
   "metadata": {},
   "source": [
    "## Adding a second BoundedParaboloids layer"
   ]
  },
  {
   "cell_type": "code",
   "execution_count": 49,
   "id": "cdb21770-53df-4616-b2c1-5750e65e0191",
   "metadata": {},
   "outputs": [],
   "source": [
    "LBBM_2_layers = LorisBallsBasedModel(BoundedParaboloids(128, semi_axis_regularizer=SemiAxisRegularizer(0.00001)),\n",
    "                                     tf.keras.layers.Dense(4, activation='softmax'),\n",
    "                                     LBBM)\n",
    "LBBM_2_layers.freeze_base_model()\n",
    "LBBM_2_layers.compile(loss='categorical_crossentropy', optimizer=tf.keras.optimizers.Adam(learning_rate=0.001), metrics=['acc'])"
   ]
  },
  {
   "cell_type": "code",
   "execution_count": 50,
   "id": "e1986546-6b66-4105-99fa-55fb914c14d9",
   "metadata": {
    "collapsed": true,
    "jupyter": {
     "outputs_hidden": true
    },
    "tags": []
   },
   "outputs": [
    {
     "name": "stdout",
     "output_type": "stream",
     "text": [
      "Epoch 1/50\n",
      "139/139 [==============================] - 72s 102ms/step - loss: 0.9842 - acc: 0.6842 - val_loss: 0.9500 - val_acc: 0.6498\n",
      "Epoch 2/50\n",
      "139/139 [==============================] - 4s 28ms/step - loss: 0.7693 - acc: 0.7195 - val_loss: 0.8653 - val_acc: 0.6498\n",
      "Epoch 3/50\n",
      "139/139 [==============================] - 4s 28ms/step - loss: 0.6746 - acc: 0.7231 - val_loss: 0.7374 - val_acc: 0.6498\n",
      "Epoch 4/50\n",
      "139/139 [==============================] - 4s 29ms/step - loss: 0.5856 - acc: 0.8000 - val_loss: 0.6466 - val_acc: 0.6498\n",
      "Epoch 5/50\n",
      "139/139 [==============================] - 4s 29ms/step - loss: 0.5048 - acc: 0.9005 - val_loss: 0.5385 - val_acc: 0.8953\n",
      "Epoch 6/50\n",
      "139/139 [==============================] - 4s 29ms/step - loss: 0.4196 - acc: 0.9303 - val_loss: 0.4488 - val_acc: 0.8953\n",
      "Epoch 7/50\n",
      "139/139 [==============================] - 4s 29ms/step - loss: 0.3456 - acc: 0.9303 - val_loss: 0.3917 - val_acc: 0.8953\n",
      "Epoch 8/50\n",
      "139/139 [==============================] - 4s 29ms/step - loss: 0.2957 - acc: 0.9493 - val_loss: 0.3385 - val_acc: 0.9278\n",
      "Epoch 9/50\n",
      "139/139 [==============================] - 4s 29ms/step - loss: 0.2567 - acc: 0.9729 - val_loss: 0.2934 - val_acc: 0.9892\n",
      "Epoch 10/50\n",
      "139/139 [==============================] - 4s 29ms/step - loss: 0.2261 - acc: 0.9955 - val_loss: 0.2718 - val_acc: 0.9711\n",
      "Epoch 11/50\n",
      "139/139 [==============================] - 4s 29ms/step - loss: 0.2017 - acc: 0.9955 - val_loss: 0.2392 - val_acc: 0.9928\n",
      "Epoch 12/50\n",
      "139/139 [==============================] - 4s 29ms/step - loss: 0.1797 - acc: 1.0000 - val_loss: 0.2138 - val_acc: 0.9928\n",
      "Epoch 13/50\n",
      "139/139 [==============================] - 4s 29ms/step - loss: 0.1606 - acc: 1.0000 - val_loss: 0.1980 - val_acc: 0.9928\n",
      "Epoch 14/50\n",
      "139/139 [==============================] - 4s 29ms/step - loss: 0.1453 - acc: 1.0000 - val_loss: 0.1812 - val_acc: 0.9928\n",
      "Epoch 15/50\n",
      "139/139 [==============================] - 4s 29ms/step - loss: 0.1333 - acc: 1.0000 - val_loss: 0.1680 - val_acc: 0.9928\n",
      "Epoch 16/50\n",
      "139/139 [==============================] - 4s 29ms/step - loss: 0.1223 - acc: 1.0000 - val_loss: 0.1542 - val_acc: 0.9928\n",
      "Epoch 17/50\n",
      "139/139 [==============================] - 4s 29ms/step - loss: 0.1127 - acc: 1.0000 - val_loss: 0.1487 - val_acc: 0.9928\n",
      "Epoch 18/50\n",
      "139/139 [==============================] - 4s 29ms/step - loss: 0.1040 - acc: 1.0000 - val_loss: 0.1361 - val_acc: 0.9928\n",
      "Epoch 19/50\n",
      "139/139 [==============================] - 4s 29ms/step - loss: 0.0962 - acc: 1.0000 - val_loss: 0.1303 - val_acc: 0.9928\n",
      "Epoch 20/50\n",
      "139/139 [==============================] - 4s 30ms/step - loss: 0.0902 - acc: 1.0000 - val_loss: 0.1238 - val_acc: 0.9928\n",
      "Epoch 21/50\n",
      "139/139 [==============================] - 4s 29ms/step - loss: 0.0847 - acc: 1.0000 - val_loss: 0.1175 - val_acc: 0.9928\n",
      "Epoch 22/50\n",
      "139/139 [==============================] - 4s 29ms/step - loss: 0.0800 - acc: 1.0000 - val_loss: 0.1154 - val_acc: 0.9928\n",
      "Epoch 23/50\n",
      "139/139 [==============================] - 4s 30ms/step - loss: 0.0754 - acc: 1.0000 - val_loss: 0.1074 - val_acc: 0.9928\n",
      "Epoch 24/50\n",
      "139/139 [==============================] - 4s 29ms/step - loss: 0.0715 - acc: 1.0000 - val_loss: 0.1037 - val_acc: 0.9928\n",
      "Epoch 25/50\n",
      "139/139 [==============================] - 4s 29ms/step - loss: 0.0674 - acc: 1.0000 - val_loss: 0.0996 - val_acc: 0.9928\n",
      "Epoch 26/50\n",
      "139/139 [==============================] - 4s 29ms/step - loss: 0.0648 - acc: 1.0000 - val_loss: 0.0969 - val_acc: 0.9928\n",
      "Epoch 27/50\n",
      "139/139 [==============================] - 4s 29ms/step - loss: 0.0618 - acc: 1.0000 - val_loss: 0.0932 - val_acc: 0.9928\n",
      "Epoch 28/50\n",
      "139/139 [==============================] - 4s 29ms/step - loss: 0.0592 - acc: 1.0000 - val_loss: 0.0904 - val_acc: 0.9928\n",
      "Epoch 29/50\n",
      "139/139 [==============================] - 4s 30ms/step - loss: 0.0566 - acc: 1.0000 - val_loss: 0.0897 - val_acc: 0.9928\n",
      "Epoch 30/50\n",
      "139/139 [==============================] - 4s 30ms/step - loss: 0.0545 - acc: 1.0000 - val_loss: 0.0839 - val_acc: 0.9928\n",
      "Epoch 31/50\n",
      "139/139 [==============================] - 4s 29ms/step - loss: 0.0527 - acc: 1.0000 - val_loss: 0.0817 - val_acc: 0.9928\n",
      "Epoch 32/50\n",
      "139/139 [==============================] - 4s 29ms/step - loss: 0.0507 - acc: 1.0000 - val_loss: 0.0817 - val_acc: 0.9928\n",
      "Epoch 33/50\n",
      "139/139 [==============================] - 4s 29ms/step - loss: 0.0487 - acc: 1.0000 - val_loss: 0.0782 - val_acc: 0.9928\n",
      "Epoch 34/50\n",
      "139/139 [==============================] - 4s 29ms/step - loss: 0.0470 - acc: 1.0000 - val_loss: 0.0759 - val_acc: 0.9928\n",
      "Epoch 35/50\n",
      "139/139 [==============================] - 4s 29ms/step - loss: 0.0455 - acc: 1.0000 - val_loss: 0.0746 - val_acc: 0.9928\n",
      "Epoch 36/50\n",
      "139/139 [==============================] - 4s 29ms/step - loss: 0.0441 - acc: 1.0000 - val_loss: 0.0741 - val_acc: 0.9928\n",
      "Epoch 37/50\n",
      "139/139 [==============================] - 4s 29ms/step - loss: 0.0425 - acc: 1.0000 - val_loss: 0.0719 - val_acc: 0.9928\n",
      "Epoch 38/50\n",
      "139/139 [==============================] - 4s 29ms/step - loss: 0.0414 - acc: 1.0000 - val_loss: 0.0727 - val_acc: 0.9928\n",
      "Epoch 39/50\n",
      "139/139 [==============================] - 4s 29ms/step - loss: 0.0403 - acc: 1.0000 - val_loss: 0.0699 - val_acc: 0.9928\n",
      "Epoch 40/50\n",
      "139/139 [==============================] - 4s 29ms/step - loss: 0.0391 - acc: 1.0000 - val_loss: 0.0700 - val_acc: 0.9928\n",
      "Epoch 41/50\n",
      "139/139 [==============================] - 4s 29ms/step - loss: 0.0381 - acc: 1.0000 - val_loss: 0.0713 - val_acc: 0.9928\n",
      "Epoch 42/50\n",
      "139/139 [==============================] - 4s 29ms/step - loss: 0.0369 - acc: 1.0000 - val_loss: 0.0659 - val_acc: 0.9928\n",
      "Epoch 43/50\n",
      "139/139 [==============================] - 4s 29ms/step - loss: 0.0361 - acc: 1.0000 - val_loss: 0.0654 - val_acc: 0.9928\n",
      "Epoch 44/50\n",
      "139/139 [==============================] - 4s 30ms/step - loss: 0.0353 - acc: 1.0000 - val_loss: 0.0661 - val_acc: 0.9928\n",
      "Epoch 45/50\n",
      "139/139 [==============================] - 4s 30ms/step - loss: 0.0342 - acc: 1.0000 - val_loss: 0.0678 - val_acc: 0.9928\n",
      "Epoch 46/50\n",
      "139/139 [==============================] - 4s 29ms/step - loss: 0.0334 - acc: 1.0000 - val_loss: 0.0680 - val_acc: 0.9928\n",
      "Epoch 47/50\n",
      "139/139 [==============================] - 4s 29ms/step - loss: 0.0328 - acc: 1.0000 - val_loss: 0.0658 - val_acc: 0.9928\n",
      "Epoch 48/50\n",
      "139/139 [==============================] - 4s 29ms/step - loss: 0.0320 - acc: 1.0000 - val_loss: 0.0645 - val_acc: 0.9928\n",
      "Epoch 49/50\n",
      "139/139 [==============================] - 4s 29ms/step - loss: 0.0313 - acc: 1.0000 - val_loss: 0.0649 - val_acc: 0.9928\n",
      "Epoch 50/50\n",
      "139/139 [==============================] - 4s 29ms/step - loss: 0.0306 - acc: 1.0000 - val_loss: 0.0633 - val_acc: 0.9928\n"
     ]
    }
   ],
   "source": [
    "history_LBBM_2_layers = LBBM_2_layers.fit(X_train, y_train, batch_size=8, epochs=50, verbose=1, validation_split=0.2)"
   ]
  },
  {
   "cell_type": "code",
   "execution_count": 51,
   "id": "f5a062fd-6a01-44a8-891a-be8c7b8e6ad3",
   "metadata": {},
   "outputs": [
    {
     "name": "stdout",
     "output_type": "stream",
     "text": [
      "11/11 [==============================] - 0s 14ms/step - loss: 0.0842 - acc: 0.9884\n"
     ]
    },
    {
     "data": {
      "text/plain": [
       "[0.08423987030982971, 0.9884393215179443]"
      ]
     },
     "execution_count": 51,
     "metadata": {},
     "output_type": "execute_result"
    }
   ],
   "source": [
    "LBBM_2_layers.evaluate(X_test, y_test)"
   ]
  },
  {
   "cell_type": "code",
   "execution_count": 52,
   "id": "ccf8d6b6-ce1d-48a3-8cef-16c5363e5259",
   "metadata": {},
   "outputs": [
    {
     "name": "stdout",
     "output_type": "stream",
     "text": [
      "11/11 [==============================] - 0s 6ms/step - loss: 0.0777 - acc: 0.9884\n"
     ]
    },
    {
     "data": {
      "text/plain": [
       "[0.07774505764245987, 0.9884393215179443]"
      ]
     },
     "execution_count": 52,
     "metadata": {},
     "output_type": "execute_result"
    }
   ],
   "source": [
    "LBBM_2_layers.base_model.evaluate(X_test, y_test)"
   ]
  },
  {
   "cell_type": "code",
   "execution_count": 53,
   "id": "6fe74995-e961-480f-bfb6-129d87fdc423",
   "metadata": {},
   "outputs": [],
   "source": [
    "LBBM_2_layers.unfreeze_model()\n",
    "LBBM_2_layers.compile(loss='categorical_crossentropy', optimizer=tf.keras.optimizers.Adam(learning_rate=0.0005), metrics=['acc'])"
   ]
  },
  {
   "cell_type": "code",
   "execution_count": 54,
   "id": "882671cb-6664-4938-b0b6-28c06678326e",
   "metadata": {
    "collapsed": true,
    "jupyter": {
     "outputs_hidden": true
    },
    "tags": []
   },
   "outputs": [
    {
     "name": "stdout",
     "output_type": "stream",
     "text": [
      "Epoch 1/50\n",
      "139/139 [==============================] - 117s 355ms/step - loss: 0.0298 - acc: 1.0000 - val_loss: 0.0669 - val_acc: 0.9928\n",
      "Epoch 2/50\n",
      "139/139 [==============================] - 5s 38ms/step - loss: 0.0289 - acc: 1.0000 - val_loss: 0.0613 - val_acc: 0.9928\n",
      "Epoch 3/50\n",
      "139/139 [==============================] - 5s 39ms/step - loss: 0.0280 - acc: 1.0000 - val_loss: 0.0613 - val_acc: 0.9928\n",
      "Epoch 4/50\n",
      "139/139 [==============================] - 6s 40ms/step - loss: 0.0272 - acc: 1.0000 - val_loss: 0.0628 - val_acc: 0.9928\n",
      "Epoch 5/50\n",
      "139/139 [==============================] - 6s 40ms/step - loss: 0.0265 - acc: 1.0000 - val_loss: 0.0625 - val_acc: 0.9928\n",
      "Epoch 6/50\n",
      "139/139 [==============================] - 6s 45ms/step - loss: 0.0259 - acc: 1.0000 - val_loss: 0.0590 - val_acc: 0.9928\n",
      "Epoch 7/50\n",
      "139/139 [==============================] - 7s 53ms/step - loss: 0.0252 - acc: 1.0000 - val_loss: 0.0671 - val_acc: 0.9892\n",
      "Epoch 8/50\n",
      "139/139 [==============================] - 6s 41ms/step - loss: 0.0246 - acc: 1.0000 - val_loss: 0.0623 - val_acc: 0.9892\n",
      "Epoch 9/50\n",
      "139/139 [==============================] - 6s 46ms/step - loss: 0.0241 - acc: 1.0000 - val_loss: 0.0601 - val_acc: 0.9928\n",
      "Epoch 10/50\n",
      "139/139 [==============================] - 6s 41ms/step - loss: 0.0236 - acc: 1.0000 - val_loss: 0.0608 - val_acc: 0.9928\n",
      "Epoch 11/50\n",
      "139/139 [==============================] - 6s 40ms/step - loss: 0.0232 - acc: 1.0000 - val_loss: 0.0629 - val_acc: 0.9892\n",
      "Epoch 12/50\n",
      "139/139 [==============================] - 6s 40ms/step - loss: 0.0227 - acc: 1.0000 - val_loss: 0.0615 - val_acc: 0.9928\n",
      "Epoch 13/50\n",
      "139/139 [==============================] - 6s 40ms/step - loss: 0.0223 - acc: 1.0000 - val_loss: 0.0616 - val_acc: 0.9928\n",
      "Epoch 14/50\n",
      "139/139 [==============================] - 6s 40ms/step - loss: 0.0219 - acc: 1.0000 - val_loss: 0.0615 - val_acc: 0.9928\n",
      "Epoch 15/50\n",
      "139/139 [==============================] - 5s 39ms/step - loss: 0.0215 - acc: 1.0000 - val_loss: 0.0626 - val_acc: 0.9892\n",
      "Epoch 16/50\n",
      "139/139 [==============================] - 6s 40ms/step - loss: 0.0211 - acc: 1.0000 - val_loss: 0.0595 - val_acc: 0.9928\n",
      "Epoch 17/50\n",
      "139/139 [==============================] - 6s 42ms/step - loss: 0.0208 - acc: 1.0000 - val_loss: 0.0598 - val_acc: 0.9928\n",
      "Epoch 18/50\n",
      "139/139 [==============================] - 6s 45ms/step - loss: 0.0204 - acc: 1.0000 - val_loss: 0.0607 - val_acc: 0.9928\n",
      "Epoch 19/50\n",
      "139/139 [==============================] - 6s 42ms/step - loss: 0.0201 - acc: 1.0000 - val_loss: 0.0614 - val_acc: 0.9928\n",
      "Epoch 20/50\n",
      "139/139 [==============================] - 6s 40ms/step - loss: 0.0198 - acc: 1.0000 - val_loss: 0.0578 - val_acc: 0.9928\n",
      "Epoch 21/50\n",
      "139/139 [==============================] - 5s 38ms/step - loss: 0.0195 - acc: 1.0000 - val_loss: 0.0607 - val_acc: 0.9928\n",
      "Epoch 22/50\n",
      "139/139 [==============================] - 7s 48ms/step - loss: 0.0192 - acc: 1.0000 - val_loss: 0.0631 - val_acc: 0.9928\n",
      "Epoch 23/50\n",
      "139/139 [==============================] - 8s 60ms/step - loss: 0.0190 - acc: 1.0000 - val_loss: 0.0598 - val_acc: 0.9928\n",
      "Epoch 24/50\n",
      "139/139 [==============================] - 7s 54ms/step - loss: 0.0187 - acc: 1.0000 - val_loss: 0.0590 - val_acc: 0.9928\n",
      "Epoch 25/50\n",
      "139/139 [==============================] - 6s 43ms/step - loss: 0.0184 - acc: 1.0000 - val_loss: 0.0597 - val_acc: 0.9928\n",
      "Epoch 26/50\n",
      "139/139 [==============================] - 6s 43ms/step - loss: 0.0182 - acc: 1.0000 - val_loss: 0.0578 - val_acc: 0.9928\n",
      "Epoch 27/50\n",
      "139/139 [==============================] - 6s 45ms/step - loss: 0.0179 - acc: 1.0000 - val_loss: 0.0626 - val_acc: 0.9928\n",
      "Epoch 28/50\n",
      "139/139 [==============================] - 6s 46ms/step - loss: 0.0177 - acc: 1.0000 - val_loss: 0.0596 - val_acc: 0.9928\n",
      "Epoch 29/50\n",
      "139/139 [==============================] - 6s 43ms/step - loss: 0.0175 - acc: 1.0000 - val_loss: 0.0614 - val_acc: 0.9928\n",
      "Epoch 30/50\n",
      "139/139 [==============================] - 6s 43ms/step - loss: 0.0173 - acc: 1.0000 - val_loss: 0.0599 - val_acc: 0.9928\n",
      "Epoch 31/50\n",
      "139/139 [==============================] - 6s 44ms/step - loss: 0.0170 - acc: 1.0000 - val_loss: 0.0591 - val_acc: 0.9928\n",
      "Epoch 32/50\n",
      "139/139 [==============================] - 6s 47ms/step - loss: 0.0168 - acc: 1.0000 - val_loss: 0.0592 - val_acc: 0.9928\n",
      "Epoch 33/50\n",
      "139/139 [==============================] - 7s 50ms/step - loss: 0.0166 - acc: 1.0000 - val_loss: 0.0598 - val_acc: 0.9928\n",
      "Epoch 34/50\n",
      "139/139 [==============================] - 7s 47ms/step - loss: 0.0164 - acc: 1.0000 - val_loss: 0.0601 - val_acc: 0.9928\n",
      "Epoch 35/50\n",
      "139/139 [==============================] - 6s 43ms/step - loss: 0.0162 - acc: 1.0000 - val_loss: 0.0587 - val_acc: 0.9928\n",
      "Epoch 36/50\n",
      "139/139 [==============================] - 7s 49ms/step - loss: 0.0160 - acc: 1.0000 - val_loss: 0.0608 - val_acc: 0.9928\n",
      "Epoch 37/50\n",
      "139/139 [==============================] - 6s 44ms/step - loss: 0.0158 - acc: 1.0000 - val_loss: 0.0603 - val_acc: 0.9928\n",
      "Epoch 38/50\n",
      "139/139 [==============================] - 6s 44ms/step - loss: 0.0157 - acc: 1.0000 - val_loss: 0.0600 - val_acc: 0.9928\n",
      "Epoch 39/50\n",
      "139/139 [==============================] - 6s 43ms/step - loss: 0.0155 - acc: 1.0000 - val_loss: 0.0600 - val_acc: 0.9928\n",
      "Epoch 40/50\n",
      "139/139 [==============================] - 6s 45ms/step - loss: 0.0153 - acc: 1.0000 - val_loss: 0.0621 - val_acc: 0.9928\n",
      "Epoch 41/50\n",
      "139/139 [==============================] - 6s 42ms/step - loss: 0.0151 - acc: 1.0000 - val_loss: 0.0601 - val_acc: 0.9928\n",
      "Epoch 42/50\n",
      "139/139 [==============================] - 6s 44ms/step - loss: 0.0150 - acc: 1.0000 - val_loss: 0.0622 - val_acc: 0.9928\n",
      "Epoch 43/50\n",
      "139/139 [==============================] - 6s 44ms/step - loss: 0.0148 - acc: 1.0000 - val_loss: 0.0606 - val_acc: 0.9928\n",
      "Epoch 44/50\n",
      "139/139 [==============================] - 6s 45ms/step - loss: 0.0146 - acc: 1.0000 - val_loss: 0.0609 - val_acc: 0.9928\n",
      "Epoch 45/50\n",
      "139/139 [==============================] - 6s 43ms/step - loss: 0.0145 - acc: 1.0000 - val_loss: 0.0601 - val_acc: 0.9928\n",
      "Epoch 46/50\n",
      "139/139 [==============================] - 6s 45ms/step - loss: 0.0143 - acc: 1.0000 - val_loss: 0.0604 - val_acc: 0.9928\n",
      "Epoch 47/50\n",
      "139/139 [==============================] - 6s 43ms/step - loss: 0.0142 - acc: 1.0000 - val_loss: 0.0600 - val_acc: 0.9928\n",
      "Epoch 48/50\n",
      "139/139 [==============================] - 6s 45ms/step - loss: 0.0140 - acc: 1.0000 - val_loss: 0.0596 - val_acc: 0.9928\n",
      "Epoch 49/50\n",
      "139/139 [==============================] - 6s 45ms/step - loss: 0.0138 - acc: 1.0000 - val_loss: 0.0617 - val_acc: 0.9928\n",
      "Epoch 50/50\n",
      "139/139 [==============================] - 6s 46ms/step - loss: 0.0137 - acc: 1.0000 - val_loss: 0.0599 - val_acc: 0.9928\n"
     ]
    }
   ],
   "source": [
    "history_LBBM_2_layers = LBBM_2_layers.fit(X_train, y_train, batch_size=8, epochs=50, verbose=1, validation_split=0.2)"
   ]
  },
  {
   "cell_type": "code",
   "execution_count": 55,
   "id": "cdb526b9-1d99-4c6c-a749-d29fb587df8d",
   "metadata": {},
   "outputs": [
    {
     "name": "stdout",
     "output_type": "stream",
     "text": [
      "11/11 [==============================] - 0s 15ms/step - loss: 0.0938 - acc: 0.9884\n"
     ]
    },
    {
     "data": {
      "text/plain": [
       "[0.09377098083496094, 0.9884393215179443]"
      ]
     },
     "execution_count": 55,
     "metadata": {},
     "output_type": "execute_result"
    }
   ],
   "source": [
    "LBBM_2_layers.evaluate(X_test, y_test)"
   ]
  },
  {
   "cell_type": "code",
   "execution_count": 56,
   "id": "2e86b527-03ef-4a79-b9d9-2a149933aa60",
   "metadata": {},
   "outputs": [
    {
     "name": "stdout",
     "output_type": "stream",
     "text": [
      "11/11 [==============================] - 0s 8ms/step - loss: 0.0751 - acc: 0.9884\n"
     ]
    },
    {
     "data": {
      "text/plain": [
       "[0.07514117658138275, 0.9884393215179443]"
      ]
     },
     "execution_count": 56,
     "metadata": {},
     "output_type": "execute_result"
    }
   ],
   "source": [
    "LBBM_2_layers.base_model.evaluate(X_test, y_test)"
   ]
  }
 ],
 "metadata": {
  "kernelspec": {
   "display_name": "Python 3 (ipykernel)",
   "language": "python",
   "name": "python3"
  },
  "language_info": {
   "codemirror_mode": {
    "name": "ipython",
    "version": 3
   },
   "file_extension": ".py",
   "mimetype": "text/x-python",
   "name": "python",
   "nbconvert_exporter": "python",
   "pygments_lexer": "ipython3",
   "version": "3.9.7"
  }
 },
 "nbformat": 4,
 "nbformat_minor": 5
}
