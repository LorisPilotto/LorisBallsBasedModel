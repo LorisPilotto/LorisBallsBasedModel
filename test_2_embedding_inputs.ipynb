{
 "cells": [
  {
   "cell_type": "code",
   "execution_count": 1,
   "id": "25dde341-0c3e-4361-9b97-dc6aebc4affc",
   "metadata": {},
   "outputs": [],
   "source": [
    "from LorisBallsBasedModel import *\n",
    "import tensorflow as tf\n",
    "import pandas as pd\n",
    "import numpy as np"
   ]
  },
  {
   "cell_type": "code",
   "execution_count": 2,
   "id": "2c07cacb-9b6f-4a59-bf16-4f5558f59e35",
   "metadata": {},
   "outputs": [
    {
     "data": {
      "text/html": [
       "<div>\n",
       "<style scoped>\n",
       "    .dataframe tbody tr th:only-of-type {\n",
       "        vertical-align: middle;\n",
       "    }\n",
       "\n",
       "    .dataframe tbody tr th {\n",
       "        vertical-align: top;\n",
       "    }\n",
       "\n",
       "    .dataframe thead th {\n",
       "        text-align: right;\n",
       "    }\n",
       "</style>\n",
       "<table border=\"1\" class=\"dataframe\">\n",
       "  <thead>\n",
       "    <tr style=\"text-align: right;\">\n",
       "      <th></th>\n",
       "      <th>price</th>\n",
       "      <th>maint</th>\n",
       "      <th>doors</th>\n",
       "      <th>persons</th>\n",
       "      <th>lug_capacity</th>\n",
       "      <th>safety</th>\n",
       "      <th>output</th>\n",
       "    </tr>\n",
       "  </thead>\n",
       "  <tbody>\n",
       "    <tr>\n",
       "      <th>0</th>\n",
       "      <td>vhigh</td>\n",
       "      <td>vhigh</td>\n",
       "      <td>2</td>\n",
       "      <td>2</td>\n",
       "      <td>small</td>\n",
       "      <td>low</td>\n",
       "      <td>unacc</td>\n",
       "    </tr>\n",
       "    <tr>\n",
       "      <th>1</th>\n",
       "      <td>vhigh</td>\n",
       "      <td>vhigh</td>\n",
       "      <td>2</td>\n",
       "      <td>2</td>\n",
       "      <td>small</td>\n",
       "      <td>med</td>\n",
       "      <td>unacc</td>\n",
       "    </tr>\n",
       "    <tr>\n",
       "      <th>2</th>\n",
       "      <td>vhigh</td>\n",
       "      <td>vhigh</td>\n",
       "      <td>2</td>\n",
       "      <td>2</td>\n",
       "      <td>small</td>\n",
       "      <td>high</td>\n",
       "      <td>unacc</td>\n",
       "    </tr>\n",
       "  </tbody>\n",
       "</table>\n",
       "</div>"
      ],
      "text/plain": [
       "   price  maint doors persons lug_capacity safety output\n",
       "0  vhigh  vhigh     2       2        small    low  unacc\n",
       "1  vhigh  vhigh     2       2        small    med  unacc\n",
       "2  vhigh  vhigh     2       2        small   high  unacc"
      ]
     },
     "execution_count": 2,
     "metadata": {},
     "output_type": "execute_result"
    }
   ],
   "source": [
    "cols = ['price', 'maint', 'doors', 'persons', 'lug_capacity', 'safety','output']\n",
    "cars = pd.read_csv(r'data\\car_evaluation_dataset\\car_evaluation.csv', names=cols, header=None)\n",
    "cars.head(3)"
   ]
  },
  {
   "cell_type": "code",
   "execution_count": 3,
   "id": "0ee1f5db-d028-4d2a-b91f-416bfb6749b2",
   "metadata": {},
   "outputs": [],
   "source": [
    "labels = pd.get_dummies(cars.output, prefix='condition')\n",
    "\n",
    "X = cars[['price', 'maint', 'doors', 'persons', 'lug_capacity', 'safety']]\n",
    "\n",
    "y = labels.values"
   ]
  },
  {
   "cell_type": "code",
   "execution_count": 4,
   "id": "11865795-8060-455d-86a5-5fb0223a1910",
   "metadata": {},
   "outputs": [],
   "source": [
    "from sklearn.model_selection import train_test_split\n",
    "X_train, X_test, y_train, y_test = train_test_split(X, y, test_size=0.20, random_state=42)"
   ]
  },
  {
   "cell_type": "markdown",
   "id": "2df96614-7bcd-4bb1-9a18-a3ec99ce5a72",
   "metadata": {},
   "source": [
    "# SingleLayerPerceptron base model"
   ]
  },
  {
   "cell_type": "code",
   "execution_count": 5,
   "id": "e33cf7cd-0a1f-4706-a3fd-4295824be124",
   "metadata": {},
   "outputs": [],
   "source": [
    "X_train_embedding_layers = {}\n",
    "for input_name in X_train.columns:\n",
    "    X_train_embedding_layers[input_name] = StringEmbedding(X_train[input_name].unique(), len(X_train[input_name].unique()))\n",
    "\n",
    "processing_layer = InputsProcessing(X_train_embedding_layers)\n",
    "    \n",
    "X_train_dict = X_train.to_dict(orient='list')\n",
    "X_test_dict = X_test.to_dict(orient='list')\n",
    "\n",
    "train_tensor = tf.data.Dataset.from_tensor_slices((X_train_dict,\n",
    "                                                   y_train))\n",
    "train_tensor = train_tensor.cache().shuffle(300).batch(8).prefetch(buffer_size=tf.data.experimental.AUTOTUNE)"
   ]
  },
  {
   "cell_type": "code",
   "execution_count": 6,
   "id": "27b7e8c6-d01f-48b3-91a1-e8a873fa3f60",
   "metadata": {},
   "outputs": [],
   "source": [
    "SLP = SingleLayerPerceptron(tf.keras.layers.Dense(4, activation='softmax'),\n",
    "                            processing_layer=processing_layer)\n",
    "SLP.compile(loss='categorical_crossentropy', optimizer=tf.keras.optimizers.Adam(learning_rate=0.001), metrics=['acc'])"
   ]
  },
  {
   "cell_type": "code",
   "execution_count": 7,
   "id": "037411ed-06c2-46ed-a293-bf52eff64737",
   "metadata": {
    "tags": []
   },
   "outputs": [
    {
     "name": "stdout",
     "output_type": "stream",
     "text": [
      "Epoch 1/50\n",
      "173/173 [==============================] - 2s 2ms/step - loss: 1.1130 - acc: 0.6816\n",
      "Epoch 2/50\n",
      "173/173 [==============================] - 0s 2ms/step - loss: 0.7720 - acc: 0.7055\n",
      "Epoch 3/50\n",
      "173/173 [==============================] - 0s 2ms/step - loss: 0.6205 - acc: 0.7106\n",
      "Epoch 4/50\n",
      "173/173 [==============================] - 0s 2ms/step - loss: 0.5097 - acc: 0.7988\n",
      "Epoch 5/50\n",
      "173/173 [==============================] - 0s 2ms/step - loss: 0.4375 - acc: 0.8466\n",
      "Epoch 6/50\n",
      "173/173 [==============================] - 0s 2ms/step - loss: 0.3889 - acc: 0.8618\n",
      "Epoch 7/50\n",
      "173/173 [==============================] - 0s 2ms/step - loss: 0.3516 - acc: 0.8654\n",
      "Epoch 8/50\n",
      "173/173 [==============================] - 0s 2ms/step - loss: 0.3232 - acc: 0.8705\n",
      "Epoch 9/50\n",
      "173/173 [==============================] - 0s 1ms/step - loss: 0.3009 - acc: 0.8813\n",
      "Epoch 10/50\n",
      "173/173 [==============================] - 0s 2ms/step - loss: 0.2818 - acc: 0.8907\n",
      "Epoch 11/50\n",
      "173/173 [==============================] - 0s 1ms/step - loss: 0.2660 - acc: 0.8915\n",
      "Epoch 12/50\n",
      "173/173 [==============================] - 0s 2ms/step - loss: 0.2535 - acc: 0.9001\n",
      "Epoch 13/50\n",
      "173/173 [==============================] - 0s 2ms/step - loss: 0.2416 - acc: 0.9016\n",
      "Epoch 14/50\n",
      "173/173 [==============================] - 0s 1ms/step - loss: 0.2322 - acc: 0.9124\n",
      "Epoch 15/50\n",
      "173/173 [==============================] - 0s 2ms/step - loss: 0.2233 - acc: 0.9103\n",
      "Epoch 16/50\n",
      "173/173 [==============================] - 0s 1ms/step - loss: 0.2159 - acc: 0.9139\n",
      "Epoch 17/50\n",
      "173/173 [==============================] - 0s 2ms/step - loss: 0.2100 - acc: 0.9219\n",
      "Epoch 18/50\n",
      "173/173 [==============================] - 0s 2ms/step - loss: 0.2044 - acc: 0.9226\n",
      "Epoch 19/50\n",
      "173/173 [==============================] - 0s 1ms/step - loss: 0.1987 - acc: 0.9327\n",
      "Epoch 20/50\n",
      "173/173 [==============================] - 0s 2ms/step - loss: 0.1943 - acc: 0.9262\n",
      "Epoch 21/50\n",
      "173/173 [==============================] - 0s 2ms/step - loss: 0.1903 - acc: 0.9320\n",
      "Epoch 22/50\n",
      "173/173 [==============================] - 0s 1ms/step - loss: 0.1871 - acc: 0.9305\n",
      "Epoch 23/50\n",
      "173/173 [==============================] - 0s 2ms/step - loss: 0.1835 - acc: 0.9378\n",
      "Epoch 24/50\n",
      "173/173 [==============================] - 0s 2ms/step - loss: 0.1808 - acc: 0.9414\n",
      "Epoch 25/50\n",
      "173/173 [==============================] - 0s 2ms/step - loss: 0.1776 - acc: 0.9399\n",
      "Epoch 26/50\n",
      "173/173 [==============================] - 0s 2ms/step - loss: 0.1758 - acc: 0.9363\n",
      "Epoch 27/50\n",
      "173/173 [==============================] - 0s 2ms/step - loss: 0.1728 - acc: 0.9399\n",
      "Epoch 28/50\n",
      "173/173 [==============================] - 0s 2ms/step - loss: 0.1710 - acc: 0.9392\n",
      "Epoch 29/50\n",
      "173/173 [==============================] - 0s 2ms/step - loss: 0.1692 - acc: 0.9385\n",
      "Epoch 30/50\n",
      "173/173 [==============================] - 0s 2ms/step - loss: 0.1670 - acc: 0.9399\n",
      "Epoch 31/50\n",
      "173/173 [==============================] - 0s 2ms/step - loss: 0.1657 - acc: 0.9421\n",
      "Epoch 32/50\n",
      "173/173 [==============================] - 0s 2ms/step - loss: 0.1642 - acc: 0.9392\n",
      "Epoch 33/50\n",
      "173/173 [==============================] - 0s 1ms/step - loss: 0.1629 - acc: 0.9399\n",
      "Epoch 34/50\n",
      "173/173 [==============================] - 0s 2ms/step - loss: 0.1617 - acc: 0.9407\n",
      "Epoch 35/50\n",
      "173/173 [==============================] - 0s 2ms/step - loss: 0.1604 - acc: 0.9414\n",
      "Epoch 36/50\n",
      "173/173 [==============================] - 0s 2ms/step - loss: 0.1596 - acc: 0.9421\n",
      "Epoch 37/50\n",
      "173/173 [==============================] - 0s 2ms/step - loss: 0.1582 - acc: 0.9436\n",
      "Epoch 38/50\n",
      "173/173 [==============================] - 0s 2ms/step - loss: 0.1572 - acc: 0.9421\n",
      "Epoch 39/50\n",
      "173/173 [==============================] - 0s 2ms/step - loss: 0.1566 - acc: 0.9399\n",
      "Epoch 40/50\n",
      "173/173 [==============================] - 0s 2ms/step - loss: 0.1555 - acc: 0.9428\n",
      "Epoch 41/50\n",
      "173/173 [==============================] - 0s 2ms/step - loss: 0.1548 - acc: 0.9457\n",
      "Epoch 42/50\n",
      "173/173 [==============================] - 0s 2ms/step - loss: 0.1537 - acc: 0.9436\n",
      "Epoch 43/50\n",
      "173/173 [==============================] - 0s 2ms/step - loss: 0.1531 - acc: 0.9436\n",
      "Epoch 44/50\n",
      "173/173 [==============================] - 0s 2ms/step - loss: 0.1532 - acc: 0.9450\n",
      "Epoch 45/50\n",
      "173/173 [==============================] - 0s 2ms/step - loss: 0.1513 - acc: 0.9465\n",
      "Epoch 46/50\n",
      "173/173 [==============================] - 0s 2ms/step - loss: 0.1510 - acc: 0.9457\n",
      "Epoch 47/50\n",
      "173/173 [==============================] - 0s 2ms/step - loss: 0.1504 - acc: 0.9421A: 0s - loss: 0.1497 - acc: 0\n",
      "Epoch 48/50\n",
      "173/173 [==============================] - 0s 2ms/step - loss: 0.1500 - acc: 0.9465\n",
      "Epoch 49/50\n",
      "173/173 [==============================] - 0s 2ms/step - loss: 0.1494 - acc: 0.9465\n",
      "Epoch 50/50\n",
      "173/173 [==============================] - 0s 1ms/step - loss: 0.1494 - acc: 0.9450\n"
     ]
    }
   ],
   "source": [
    "history = SLP.fit(train_tensor, epochs=50, verbose=1)"
   ]
  },
  {
   "cell_type": "code",
   "execution_count": 8,
   "id": "bfbd358a-e80a-47b2-b9c2-5dede9084b11",
   "metadata": {},
   "outputs": [
    {
     "name": "stdout",
     "output_type": "stream",
     "text": [
      "44/44 [==============================] - 0s 1ms/step - loss: 0.1636 - acc: 0.9191\n"
     ]
    },
    {
     "data": {
      "text/plain": [
       "[0.16359318792819977, 0.9190751314163208]"
      ]
     },
     "execution_count": 8,
     "metadata": {},
     "output_type": "execute_result"
    }
   ],
   "source": [
    "test_tensor = tf.data.Dataset.from_tensor_slices((X_test_dict,\n",
    "                                                  y_test))\n",
    "test_tensor = test_tensor.cache().shuffle(300).batch(8).prefetch(buffer_size=tf.data.experimental.AUTOTUNE)\n",
    "\n",
    "SLP.evaluate(test_tensor)"
   ]
  },
  {
   "cell_type": "markdown",
   "id": "b73d2a11-412f-49be-b5db-578b7b0e1adc",
   "metadata": {},
   "source": [
    "# Transfert learning"
   ]
  },
  {
   "cell_type": "code",
   "execution_count": 9,
   "id": "2e27b7fa-9732-47ca-92ea-0c1f834e684f",
   "metadata": {},
   "outputs": [],
   "source": [
    "X_train_embedding_layers_1 = {}\n",
    "for input_name in X_train.columns:\n",
    "    X_train_embedding_layers_1[input_name] = StringEmbedding(X_train[input_name].unique(), len(X_train[input_name].unique()))\n",
    "\n",
    "processing_layer_1 = InputsProcessing(X_train_embedding_layers_1)\n",
    "\n",
    "LBBM_1 = LorisBallsBasedModel(BoundedParaboloids(128, semi_axis_regularizer=SemiAxisRegularizer(0.00001)),\n",
    "                              tf.keras.layers.Dense(4, activation='softmax'),\n",
    "                              processing_layer=processing_layer_1,\n",
    "                              base_model=SLP)\n",
    "LBBM_1.freeze_base_model()\n",
    "LBBM_1.compile(loss='categorical_crossentropy', optimizer=tf.keras.optimizers.Adam(learning_rate=0.001), metrics=['acc'])"
   ]
  },
  {
   "cell_type": "code",
   "execution_count": 10,
   "id": "a1074b2e-b504-43d2-bce0-7e3281d3b25c",
   "metadata": {},
   "outputs": [
    {
     "name": "stdout",
     "output_type": "stream",
     "text": [
      "Epoch 1/50\n",
      "173/173 [==============================] - 2s 3ms/step - loss: 1.0206 - acc: 0.6903\n",
      "Epoch 2/50\n",
      "173/173 [==============================] - 0s 3ms/step - loss: 0.8219 - acc: 0.7055\n",
      "Epoch 3/50\n",
      "173/173 [==============================] - 0s 3ms/step - loss: 0.7282 - acc: 0.7294\n",
      "Epoch 4/50\n",
      "173/173 [==============================] - 0s 3ms/step - loss: 0.6306 - acc: 0.8111\n",
      "Epoch 5/50\n",
      "173/173 [==============================] - 0s 3ms/step - loss: 0.5392 - acc: 0.8640\n",
      "Epoch 6/50\n",
      "173/173 [==============================] - 0s 3ms/step - loss: 0.4670 - acc: 0.8734\n",
      "Epoch 7/50\n",
      "173/173 [==============================] - 0s 3ms/step - loss: 0.4204 - acc: 0.8777\n",
      "Epoch 8/50\n",
      "173/173 [==============================] - 0s 3ms/step - loss: 0.3897 - acc: 0.8763\n",
      "Epoch 9/50\n",
      "173/173 [==============================] - 0s 3ms/step - loss: 0.3608 - acc: 0.8770\n",
      "Epoch 10/50\n",
      "173/173 [==============================] - 0s 3ms/step - loss: 0.3368 - acc: 0.8748\n",
      "Epoch 11/50\n",
      "173/173 [==============================] - 0s 3ms/step - loss: 0.3115 - acc: 0.8980\n",
      "Epoch 12/50\n",
      "173/173 [==============================] - 0s 3ms/step - loss: 0.2869 - acc: 0.9168\n",
      "Epoch 13/50\n",
      "173/173 [==============================] - 0s 3ms/step - loss: 0.2642 - acc: 0.9182\n",
      "Epoch 14/50\n",
      "173/173 [==============================] - 0s 3ms/step - loss: 0.2470 - acc: 0.9240\n",
      "Epoch 15/50\n",
      "173/173 [==============================] - 0s 2ms/step - loss: 0.2362 - acc: 0.9269\n",
      "Epoch 16/50\n",
      "173/173 [==============================] - 0s 3ms/step - loss: 0.2226 - acc: 0.9342\n",
      "Epoch 17/50\n",
      "173/173 [==============================] - 0s 3ms/step - loss: 0.2168 - acc: 0.9342\n",
      "Epoch 18/50\n",
      "173/173 [==============================] - 0s 3ms/step - loss: 0.2096 - acc: 0.9349\n",
      "Epoch 19/50\n",
      "173/173 [==============================] - 0s 3ms/step - loss: 0.1988 - acc: 0.9407\n",
      "Epoch 20/50\n",
      "173/173 [==============================] - 0s 3ms/step - loss: 0.1928 - acc: 0.9428\n",
      "Epoch 21/50\n",
      "173/173 [==============================] - 0s 3ms/step - loss: 0.1866 - acc: 0.9457\n",
      "Epoch 22/50\n",
      "173/173 [==============================] - 0s 3ms/step - loss: 0.1810 - acc: 0.9479\n",
      "Epoch 23/50\n",
      "173/173 [==============================] - 0s 3ms/step - loss: 0.1759 - acc: 0.9421\n",
      "Epoch 24/50\n",
      "173/173 [==============================] - 0s 3ms/step - loss: 0.1710 - acc: 0.9472\n",
      "Epoch 25/50\n",
      "173/173 [==============================] - 0s 3ms/step - loss: 0.1682 - acc: 0.9530\n",
      "Epoch 26/50\n",
      "173/173 [==============================] - 0s 3ms/step - loss: 0.1609 - acc: 0.9501\n",
      "Epoch 27/50\n",
      "173/173 [==============================] - 0s 3ms/step - loss: 0.1568 - acc: 0.9522\n",
      "Epoch 28/50\n",
      "173/173 [==============================] - 0s 3ms/step - loss: 0.1496 - acc: 0.9566\n",
      "Epoch 29/50\n",
      "173/173 [==============================] - 0s 3ms/step - loss: 0.1453 - acc: 0.9573\n",
      "Epoch 30/50\n",
      "173/173 [==============================] - 0s 3ms/step - loss: 0.1398 - acc: 0.9624\n",
      "Epoch 31/50\n",
      "173/173 [==============================] - 0s 3ms/step - loss: 0.1339 - acc: 0.9616\n",
      "Epoch 32/50\n",
      "173/173 [==============================] - 0s 3ms/step - loss: 0.1317 - acc: 0.9609\n",
      "Epoch 33/50\n",
      "173/173 [==============================] - 0s 3ms/step - loss: 0.1283 - acc: 0.9653\n",
      "Epoch 34/50\n",
      "173/173 [==============================] - 0s 3ms/step - loss: 0.1239 - acc: 0.9638\n",
      "Epoch 35/50\n",
      "173/173 [==============================] - 0s 3ms/step - loss: 0.1181 - acc: 0.9682\n",
      "Epoch 36/50\n",
      "173/173 [==============================] - 0s 3ms/step - loss: 0.1174 - acc: 0.9674\n",
      "Epoch 37/50\n",
      "173/173 [==============================] - 0s 3ms/step - loss: 0.1120 - acc: 0.9696\n",
      "Epoch 38/50\n",
      "173/173 [==============================] - 0s 3ms/step - loss: 0.1111 - acc: 0.9696\n",
      "Epoch 39/50\n",
      "173/173 [==============================] - 0s 3ms/step - loss: 0.1108 - acc: 0.9703\n",
      "Epoch 40/50\n",
      "173/173 [==============================] - 0s 3ms/step - loss: 0.1054 - acc: 0.9761\n",
      "Epoch 41/50\n",
      "173/173 [==============================] - 0s 3ms/step - loss: 0.0992 - acc: 0.9776\n",
      "Epoch 42/50\n",
      "173/173 [==============================] - 0s 3ms/step - loss: 0.0969 - acc: 0.9761\n",
      "Epoch 43/50\n",
      "173/173 [==============================] - 0s 3ms/step - loss: 0.0956 - acc: 0.9768\n",
      "Epoch 44/50\n",
      "173/173 [==============================] - 0s 3ms/step - loss: 0.0914 - acc: 0.9812\n",
      "Epoch 45/50\n",
      "173/173 [==============================] - 0s 3ms/step - loss: 0.0870 - acc: 0.9812\n",
      "Epoch 46/50\n",
      "173/173 [==============================] - 0s 3ms/step - loss: 0.0875 - acc: 0.9805\n",
      "Epoch 47/50\n",
      "173/173 [==============================] - 0s 3ms/step - loss: 0.0819 - acc: 0.9841\n",
      "Epoch 48/50\n",
      "173/173 [==============================] - 0s 3ms/step - loss: 0.0798 - acc: 0.9819\n",
      "Epoch 49/50\n",
      "173/173 [==============================] - 0s 3ms/step - loss: 0.0770 - acc: 0.9805\n",
      "Epoch 50/50\n",
      "173/173 [==============================] - 0s 2ms/step - loss: 0.0757 - acc: 0.9826\n"
     ]
    }
   ],
   "source": [
    "history_LBBM_1 = LBBM_1.fit(train_tensor, epochs=50, verbose=1)"
   ]
  },
  {
   "cell_type": "code",
   "execution_count": 11,
   "id": "613d2139-fe4d-4b6c-8065-890611c43c58",
   "metadata": {
    "tags": []
   },
   "outputs": [
    {
     "name": "stdout",
     "output_type": "stream",
     "text": [
      "44/44 [==============================] - 7s 7ms/step - loss: 0.1073 - acc: 0.9566\n"
     ]
    },
    {
     "data": {
      "text/plain": [
       "[0.10727071762084961, 0.9566473960876465]"
      ]
     },
     "execution_count": 11,
     "metadata": {},
     "output_type": "execute_result"
    }
   ],
   "source": [
    "LBBM_1.evaluate(test_tensor)"
   ]
  },
  {
   "cell_type": "code",
   "execution_count": 12,
   "id": "606d3e6f-8624-4e19-b78a-aa702ef38b15",
   "metadata": {
    "tags": []
   },
   "outputs": [
    {
     "name": "stdout",
     "output_type": "stream",
     "text": [
      "44/44 [==============================] - 0s 2ms/step - loss: 0.1573 - acc: 0.9364\n"
     ]
    },
    {
     "data": {
      "text/plain": [
       "[0.15729738771915436, 0.9364162087440491]"
      ]
     },
     "execution_count": 12,
     "metadata": {},
     "output_type": "execute_result"
    }
   ],
   "source": [
    "LBBM_1.base_model.evaluate(test_tensor)"
   ]
  },
  {
   "cell_type": "code",
   "execution_count": 13,
   "id": "35a4043e-6b27-4089-9333-54082d8bdf2c",
   "metadata": {},
   "outputs": [],
   "source": [
    "LBBM_1.unfreeze_model()\n",
    "LBBM_1.compile(loss='categorical_crossentropy', optimizer=tf.keras.optimizers.Adam(learning_rate=0.0005), metrics=['acc'])"
   ]
  },
  {
   "cell_type": "code",
   "execution_count": 14,
   "id": "185a8570-b0b7-4ddf-a902-e5fb0183b1fc",
   "metadata": {
    "collapsed": true,
    "jupyter": {
     "outputs_hidden": true
    },
    "tags": []
   },
   "outputs": [
    {
     "name": "stdout",
     "output_type": "stream",
     "text": [
      "Epoch 1/50\n",
      "173/173 [==============================] - 42s 18ms/step - loss: 0.0648 - acc: 0.9870\n",
      "Epoch 2/50\n",
      "173/173 [==============================] - 3s 20ms/step - loss: 0.0629 - acc: 0.9891\n",
      "Epoch 3/50\n",
      "173/173 [==============================] - 3s 20ms/step - loss: 0.0616 - acc: 0.9891\n",
      "Epoch 4/50\n",
      "173/173 [==============================] - 3s 20ms/step - loss: 0.0601 - acc: 0.9877\n",
      "Epoch 5/50\n",
      "173/173 [==============================] - 3s 20ms/step - loss: 0.0590 - acc: 0.9899\n",
      "Epoch 6/50\n",
      "173/173 [==============================] - 3s 20ms/step - loss: 0.0571 - acc: 0.9906\n",
      "Epoch 7/50\n",
      "173/173 [==============================] - 4s 20ms/step - loss: 0.0557 - acc: 0.9913\n",
      "Epoch 8/50\n",
      "173/173 [==============================] - 4s 20ms/step - loss: 0.0552 - acc: 0.9891\n",
      "Epoch 9/50\n",
      "173/173 [==============================] - 3s 20ms/step - loss: 0.0539 - acc: 0.9920:\n",
      "Epoch 10/50\n",
      "173/173 [==============================] - 3s 20ms/step - loss: 0.0529 - acc: 0.9906\n",
      "Epoch 11/50\n",
      "173/173 [==============================] - 3s 20ms/step - loss: 0.0517 - acc: 0.9899\n",
      "Epoch 12/50\n",
      "173/173 [==============================] - 3s 20ms/step - loss: 0.0506 - acc: 0.9906\n",
      "Epoch 13/50\n",
      "173/173 [==============================] - 4s 22ms/step - loss: 0.0490 - acc: 0.9935\n",
      "Epoch 14/50\n",
      "173/173 [==============================] - 4s 22ms/step - loss: 0.0487 - acc: 0.9913\n",
      "Epoch 15/50\n",
      "173/173 [==============================] - 4s 23ms/step - loss: 0.0485 - acc: 0.9928: 3 - ETA: 1s - loss: 0\n",
      "Epoch 16/50\n",
      "173/173 [==============================] - 4s 22ms/step - loss: 0.0464 - acc: 0.9920\n",
      "Epoch 17/50\n",
      "173/173 [==============================] - 4s 22ms/step - loss: 0.0459 - acc: 0.9935\n",
      "Epoch 18/50\n",
      "173/173 [==============================] - 4s 21ms/step - loss: 0.0454 - acc: 0.9942\n",
      "Epoch 19/50\n",
      "173/173 [==============================] - 4s 23ms/step - loss: 0.0446 - acc: 0.9935\n",
      "Epoch 20/50\n",
      "173/173 [==============================] - 4s 24ms/step - loss: 0.0436 - acc: 0.9935\n",
      "Epoch 21/50\n",
      "173/173 [==============================] - 4s 22ms/step - loss: 0.0428 - acc: 0.9942: 2s - loss: 0 - ETA: 1s - loss: 0\n",
      "Epoch 22/50\n",
      "173/173 [==============================] - 4s 20ms/step - loss: 0.0422 - acc: 0.9942\n",
      "Epoch 23/50\n",
      "173/173 [==============================] - 4s 20ms/step - loss: 0.0414 - acc: 0.9949\n",
      "Epoch 24/50\n",
      "173/173 [==============================] - 3s 20ms/step - loss: 0.0400 - acc: 0.9957\n",
      "Epoch 25/50\n",
      "173/173 [==============================] - 3s 20ms/step - loss: 0.0398 - acc: 0.9957\n",
      "Epoch 26/50\n",
      "173/173 [==============================] - 4s 20ms/step - loss: 0.0392 - acc: 0.9949\n",
      "Epoch 27/50\n",
      "173/173 [==============================] - 3s 20ms/step - loss: 0.0379 - acc: 0.9964\n",
      "Epoch 28/50\n",
      "173/173 [==============================] - 4s 23ms/step - loss: 0.0377 - acc: 0.9964\n",
      "Epoch 29/50\n",
      "173/173 [==============================] - 4s 24ms/step - loss: 0.0370 - acc: 0.9964\n",
      "Epoch 30/50\n",
      "173/173 [==============================] - 4s 22ms/step - loss: 0.0365 - acc: 0.9964\n",
      "Epoch 31/50\n",
      "173/173 [==============================] - 4s 22ms/step - loss: 0.0355 - acc: 0.9964\n",
      "Epoch 32/50\n",
      "173/173 [==============================] - 4s 21ms/step - loss: 0.0353 - acc: 0.9957\n",
      "Epoch 33/50\n",
      "173/173 [==============================] - 4s 21ms/step - loss: 0.0345 - acc: 0.9964\n",
      "Epoch 34/50\n",
      "173/173 [==============================] - 4s 23ms/step - loss: 0.0339 - acc: 0.9957\n",
      "Epoch 35/50\n",
      "173/173 [==============================] - 4s 23ms/step - loss: 0.0335 - acc: 0.9964\n",
      "Epoch 36/50\n",
      "173/173 [==============================] - 4s 21ms/step - loss: 0.0326 - acc: 0.9964\n",
      "Epoch 37/50\n",
      "173/173 [==============================] - 4s 21ms/step - loss: 0.0326 - acc: 0.9971\n",
      "Epoch 38/50\n",
      "173/173 [==============================] - 4s 21ms/step - loss: 0.0320 - acc: 0.9964\n",
      "Epoch 39/50\n",
      "173/173 [==============================] - 4s 22ms/step - loss: 0.0314 - acc: 0.9971\n",
      "Epoch 40/50\n",
      "173/173 [==============================] - 4s 21ms/step - loss: 0.0308 - acc: 0.9964\n",
      "Epoch 41/50\n",
      "173/173 [==============================] - 4s 21ms/step - loss: 0.0304 - acc: 0.9964\n",
      "Epoch 42/50\n",
      "173/173 [==============================] - 4s 21ms/step - loss: 0.0301 - acc: 0.9964\n",
      "Epoch 43/50\n",
      "173/173 [==============================] - 4s 21ms/step - loss: 0.0292 - acc: 0.9971\n",
      "Epoch 44/50\n",
      "173/173 [==============================] - 4s 21ms/step - loss: 0.0289 - acc: 0.9971\n",
      "Epoch 45/50\n",
      "173/173 [==============================] - 4s 21ms/step - loss: 0.0282 - acc: 0.9964\n",
      "Epoch 46/50\n",
      "173/173 [==============================] - 4s 21ms/step - loss: 0.0281 - acc: 0.9964\n",
      "Epoch 47/50\n",
      "173/173 [==============================] - 4s 21ms/step - loss: 0.0277 - acc: 0.9971\n",
      "Epoch 48/50\n",
      "173/173 [==============================] - 4s 21ms/step - loss: 0.0268 - acc: 0.9978\n",
      "Epoch 49/50\n",
      "173/173 [==============================] - 4s 21ms/step - loss: 0.0269 - acc: 0.9964\n",
      "Epoch 50/50\n",
      "173/173 [==============================] - 4s 21ms/step - loss: 0.0262 - acc: 0.9978\n"
     ]
    }
   ],
   "source": [
    "history_LBBM_1 = LBBM_1.fit(train_tensor, epochs=50, verbose=1)"
   ]
  },
  {
   "cell_type": "code",
   "execution_count": 15,
   "id": "a818fa4c-37da-45e9-bc87-bff81032ec41",
   "metadata": {},
   "outputs": [
    {
     "name": "stdout",
     "output_type": "stream",
     "text": [
      "44/44 [==============================] - 6s 6ms/step - loss: 0.0542 - acc: 0.9798\n"
     ]
    },
    {
     "data": {
      "text/plain": [
       "[0.054222166538238525, 0.9797688126564026]"
      ]
     },
     "execution_count": 15,
     "metadata": {},
     "output_type": "execute_result"
    }
   ],
   "source": [
    "LBBM_1.evaluate(test_tensor)"
   ]
  },
  {
   "cell_type": "code",
   "execution_count": 16,
   "id": "c96e322b-56dd-4665-98b1-1b4da922ae4b",
   "metadata": {},
   "outputs": [
    {
     "name": "stdout",
     "output_type": "stream",
     "text": [
      "44/44 [==============================] - 0s 866us/step - loss: 0.2373 - acc: 0.9162\n"
     ]
    },
    {
     "data": {
      "text/plain": [
       "[0.23733124136924744, 0.9161849617958069]"
      ]
     },
     "execution_count": 16,
     "metadata": {},
     "output_type": "execute_result"
    }
   ],
   "source": [
    "LBBM_1.base_model.evaluate(test_tensor)"
   ]
  },
  {
   "cell_type": "markdown",
   "id": "8a56d028-0666-4ece-94c8-1f3fd4a8592d",
   "metadata": {},
   "source": [
    "## Adding a second BoundedParaboloids layer"
   ]
  },
  {
   "cell_type": "code",
   "execution_count": 17,
   "id": "26b39809-323f-4997-9549-3dfdc55d4ec7",
   "metadata": {},
   "outputs": [],
   "source": [
    "X_train_embedding_layers_2 = {}\n",
    "for input_name in X_train.columns:\n",
    "    X_train_embedding_layers_2[input_name] = StringEmbedding(X_train[input_name].unique(), len(X_train[input_name].unique()))\n",
    "\n",
    "processing_layer_2 = InputsProcessing(X_train_embedding_layers_2)\n",
    "\n",
    "LBBM_2 = LorisBallsBasedModel(BoundedParaboloids(128, semi_axis_regularizer=SemiAxisRegularizer(0.00001)),\n",
    "                              tf.keras.layers.Dense(4, activation='softmax'),\n",
    "                              processing_layer=processing_layer_2,\n",
    "                              base_model=LBBM_1)\n",
    "LBBM_2.freeze_base_model()\n",
    "LBBM_2.compile(loss='categorical_crossentropy', optimizer=tf.keras.optimizers.Adam(learning_rate=0.001), metrics=['acc'])"
   ]
  },
  {
   "cell_type": "code",
   "execution_count": 18,
   "id": "bfb5fe5c-4f79-4e45-aec0-48f272dee6f9",
   "metadata": {
    "collapsed": true,
    "jupyter": {
     "outputs_hidden": true
    },
    "tags": []
   },
   "outputs": [
    {
     "name": "stdout",
     "output_type": "stream",
     "text": [
      "Epoch 1/50\n",
      "173/173 [==============================] - 75s 23ms/step - loss: 1.1206 - acc: 0.6671\n",
      "Epoch 2/50\n",
      "173/173 [==============================] - 5s 27ms/step - loss: 0.8722 - acc: 0.7055: 1s - los\n",
      "Epoch 3/50\n",
      "173/173 [==============================] - 5s 27ms/step - loss: 0.7474 - acc: 0.7055\n",
      "Epoch 4/50\n",
      "173/173 [==============================] - 5s 26ms/step - loss: 0.6464 - acc: 0.7605\n",
      "Epoch 5/50\n",
      "173/173 [==============================] - 5s 28ms/step - loss: 0.5296 - acc: 0.8589\n",
      "Epoch 6/50\n",
      "173/173 [==============================] - 5s 29ms/step - loss: 0.4140 - acc: 0.9219\n",
      "Epoch 7/50\n",
      "173/173 [==============================] - 5s 28ms/step - loss: 0.3377 - acc: 0.9370: 1s - loss:\n",
      "Epoch 8/50\n",
      "173/173 [==============================] - 5s 28ms/step - loss: 0.2886 - acc: 0.9703\n",
      "Epoch 9/50\n",
      "173/173 [==============================] - 5s 28ms/step - loss: 0.2491 - acc: 0.9776\n",
      "Epoch 10/50\n",
      "173/173 [==============================] - 5s 28ms/step - loss: 0.2162 - acc: 0.9913\n",
      "Epoch 11/50\n",
      "173/173 [==============================] - 5s 28ms/step - loss: 0.1923 - acc: 0.9971\n",
      "Epoch 12/50\n",
      "173/173 [==============================] - 5s 27ms/step - loss: 0.1687 - acc: 0.9971\n",
      "Epoch 13/50\n",
      "173/173 [==============================] - 5s 27ms/step - loss: 0.1503 - acc: 0.9986\n",
      "Epoch 14/50\n",
      "173/173 [==============================] - 5s 27ms/step - loss: 0.1354 - acc: 0.9978\n",
      "Epoch 15/50\n",
      "173/173 [==============================] - 5s 27ms/step - loss: 0.1232 - acc: 0.9978\n",
      "Epoch 16/50\n",
      "173/173 [==============================] - 5s 27ms/step - loss: 0.1115 - acc: 0.9978\n",
      "Epoch 17/50\n",
      "173/173 [==============================] - 5s 27ms/step - loss: 0.1036 - acc: 0.9978\n",
      "Epoch 18/50\n",
      "173/173 [==============================] - 5s 28ms/step - loss: 0.0960 - acc: 0.9978\n",
      "Epoch 19/50\n",
      "173/173 [==============================] - 5s 27ms/step - loss: 0.0901 - acc: 0.9978\n",
      "Epoch 20/50\n",
      "173/173 [==============================] - 5s 27ms/step - loss: 0.0848 - acc: 0.9971\n",
      "Epoch 21/50\n",
      "173/173 [==============================] - 5s 27ms/step - loss: 0.0803 - acc: 0.9971\n",
      "Epoch 22/50\n",
      "173/173 [==============================] - 5s 27ms/step - loss: 0.0770 - acc: 0.9978\n",
      "Epoch 23/50\n",
      "173/173 [==============================] - 5s 27ms/step - loss: 0.0728 - acc: 0.9978\n",
      "Epoch 24/50\n",
      "173/173 [==============================] - 5s 28ms/step - loss: 0.0696 - acc: 0.9978\n",
      "Epoch 25/50\n",
      "173/173 [==============================] - 5s 28ms/step - loss: 0.0669 - acc: 0.9978\n",
      "Epoch 26/50\n",
      "173/173 [==============================] - 5s 27ms/step - loss: 0.0642 - acc: 0.9978\n",
      "Epoch 27/50\n",
      "173/173 [==============================] - 5s 27ms/step - loss: 0.0616 - acc: 0.9978\n",
      "Epoch 28/50\n",
      "173/173 [==============================] - 5s 28ms/step - loss: 0.0596 - acc: 0.9971\n",
      "Epoch 29/50\n",
      "173/173 [==============================] - 5s 28ms/step - loss: 0.0570 - acc: 0.9978\n",
      "Epoch 30/50\n",
      "173/173 [==============================] - 5s 27ms/step - loss: 0.0548 - acc: 0.9978\n",
      "Epoch 31/50\n",
      "173/173 [==============================] - 5s 28ms/step - loss: 0.0536 - acc: 0.9978\n",
      "Epoch 32/50\n",
      "173/173 [==============================] - 5s 28ms/step - loss: 0.0521 - acc: 0.9971\n",
      "Epoch 33/50\n",
      "173/173 [==============================] - 5s 27ms/step - loss: 0.0502 - acc: 0.9978\n",
      "Epoch 34/50\n",
      "173/173 [==============================] - 5s 27ms/step - loss: 0.0492 - acc: 0.9978\n",
      "Epoch 35/50\n",
      "173/173 [==============================] - 5s 27ms/step - loss: 0.0483 - acc: 0.9971\n",
      "Epoch 36/50\n",
      "173/173 [==============================] - 5s 28ms/step - loss: 0.0469 - acc: 0.9978\n",
      "Epoch 37/50\n",
      "173/173 [==============================] - 5s 28ms/step - loss: 0.0454 - acc: 0.9986\n",
      "Epoch 38/50\n",
      "173/173 [==============================] - 5s 28ms/step - loss: 0.0443 - acc: 0.9978\n",
      "Epoch 39/50\n",
      "173/173 [==============================] - 5s 28ms/step - loss: 0.0442 - acc: 0.9971\n",
      "Epoch 40/50\n",
      "173/173 [==============================] - 5s 28ms/step - loss: 0.0427 - acc: 0.9978\n",
      "Epoch 41/50\n",
      "173/173 [==============================] - 5s 31ms/step - loss: 0.0417 - acc: 0.9986: 3s - loss: 0.0435 - acc: 1. - ETA: 3s - \n",
      "Epoch 42/50\n",
      "173/173 [==============================] - 5s 28ms/step - loss: 0.0415 - acc: 0.9971\n",
      "Epoch 43/50\n",
      "173/173 [==============================] - 5s 28ms/step - loss: 0.0406 - acc: 0.9978\n",
      "Epoch 44/50\n",
      "173/173 [==============================] - 5s 28ms/step - loss: 0.0396 - acc: 0.9978\n",
      "Epoch 45/50\n",
      "173/173 [==============================] - 5s 29ms/step - loss: 0.0388 - acc: 0.9971\n",
      "Epoch 46/50\n",
      "173/173 [==============================] - 5s 28ms/step - loss: 0.0377 - acc: 0.9978\n",
      "Epoch 47/50\n",
      "173/173 [==============================] - 5s 29ms/step - loss: 0.0376 - acc: 0.9978\n",
      "Epoch 48/50\n",
      "173/173 [==============================] - 5s 30ms/step - loss: 0.0369 - acc: 0.9978\n",
      "Epoch 49/50\n",
      "173/173 [==============================] - 5s 31ms/step - loss: 0.0362 - acc: 0.9986\n",
      "Epoch 50/50\n",
      "173/173 [==============================] - 5s 30ms/step - loss: 0.0358 - acc: 0.9978\n"
     ]
    }
   ],
   "source": [
    "history_LBBM_2 = LBBM_2.fit(train_tensor, epochs=50, verbose=1)"
   ]
  },
  {
   "cell_type": "code",
   "execution_count": 19,
   "id": "7425d0e4-76c0-498e-bebe-086f4c65e466",
   "metadata": {},
   "outputs": [
    {
     "name": "stdout",
     "output_type": "stream",
     "text": [
      "44/44 [==============================] - 13s 13ms/step - loss: 0.0710 - acc: 0.9827\n"
     ]
    },
    {
     "data": {
      "text/plain": [
       "[0.07099396735429764, 0.9826589822769165]"
      ]
     },
     "execution_count": 19,
     "metadata": {},
     "output_type": "execute_result"
    }
   ],
   "source": [
    "LBBM_2.evaluate(test_tensor)"
   ]
  },
  {
   "cell_type": "code",
   "execution_count": 20,
   "id": "18b4922b-113e-4469-b53c-e5090418bebf",
   "metadata": {},
   "outputs": [
    {
     "name": "stdout",
     "output_type": "stream",
     "text": [
      "44/44 [==============================] - 0s 7ms/step - loss: 0.0542 - acc: 0.9798\n"
     ]
    },
    {
     "data": {
      "text/plain": [
       "[0.05422215536236763, 0.9797688126564026]"
      ]
     },
     "execution_count": 20,
     "metadata": {},
     "output_type": "execute_result"
    }
   ],
   "source": [
    "LBBM_2.base_model.evaluate(test_tensor)"
   ]
  },
  {
   "cell_type": "code",
   "execution_count": 21,
   "id": "73b4d6f2-7214-4ea6-b9f0-332eb776f9de",
   "metadata": {},
   "outputs": [],
   "source": [
    "LBBM_2.unfreeze_model()\n",
    "LBBM_2.compile(loss='categorical_crossentropy', optimizer=tf.keras.optimizers.Adam(learning_rate=0.0005), metrics=['acc'])"
   ]
  },
  {
   "cell_type": "code",
   "execution_count": 22,
   "id": "80dc7023-129b-4f36-a48d-eb37670d2809",
   "metadata": {
    "collapsed": true,
    "jupyter": {
     "outputs_hidden": true
    },
    "tags": []
   },
   "outputs": [
    {
     "name": "stdout",
     "output_type": "stream",
     "text": [
      "Epoch 1/50\n",
      "173/173 [==============================] - 85s 35ms/step - loss: 0.0361 - acc: 0.9986\n",
      "Epoch 2/50\n",
      "173/173 [==============================] - 6s 37ms/step - loss: 0.0359 - acc: 0.9978\n",
      "Epoch 3/50\n",
      "173/173 [==============================] - 6s 37ms/step - loss: 0.0339 - acc: 0.9986\n",
      "Epoch 4/50\n",
      "173/173 [==============================] - 7s 42ms/step - loss: 0.0325 - acc: 0.9993\n",
      "Epoch 5/50\n",
      "173/173 [==============================] - 7s 39ms/step - loss: 0.0324 - acc: 0.9986\n",
      "Epoch 6/50\n",
      "173/173 [==============================] - 6s 38ms/step - loss: 0.0324 - acc: 0.9986\n",
      "Epoch 7/50\n",
      "173/173 [==============================] - 6s 37ms/step - loss: 0.0307 - acc: 1.0000\n",
      "Epoch 8/50\n",
      "173/173 [==============================] - 7s 38ms/step - loss: 0.0303 - acc: 1.0000\n",
      "Epoch 9/50\n",
      "173/173 [==============================] - 6s 37ms/step - loss: 0.0300 - acc: 1.0000\n",
      "Epoch 10/50\n",
      "173/173 [==============================] - 7s 38ms/step - loss: 0.0300 - acc: 1.0000\n",
      "Epoch 11/50\n",
      "173/173 [==============================] - 6s 37ms/step - loss: 0.0293 - acc: 1.0000\n",
      "Epoch 12/50\n",
      "173/173 [==============================] - 6s 37ms/step - loss: 0.0285 - acc: 1.0000\n",
      "Epoch 13/50\n",
      "173/173 [==============================] - 7s 39ms/step - loss: 0.0281 - acc: 1.0000\n",
      "Epoch 14/50\n",
      "173/173 [==============================] - 6s 37ms/step - loss: 0.0280 - acc: 1.0000\n",
      "Epoch 15/50\n",
      "173/173 [==============================] - 6s 37ms/step - loss: 0.0283 - acc: 0.9993\n",
      "Epoch 16/50\n",
      "173/173 [==============================] - 6s 37ms/step - loss: 0.0275 - acc: 1.0000\n",
      "Epoch 17/50\n",
      "173/173 [==============================] - 6s 37ms/step - loss: 0.0270 - acc: 1.0000\n",
      "Epoch 18/50\n",
      "173/173 [==============================] - 6s 37ms/step - loss: 0.0266 - acc: 1.0000: 0s - loss: 0.0266 - a\n",
      "Epoch 19/50\n",
      "173/173 [==============================] - 6s 37ms/step - loss: 0.0262 - acc: 1.0000\n",
      "Epoch 20/50\n",
      "173/173 [==============================] - 7s 38ms/step - loss: 0.0260 - acc: 1.0000\n",
      "Epoch 21/50\n",
      "173/173 [==============================] - 6s 38ms/step - loss: 0.0256 - acc: 1.0000\n",
      "Epoch 22/50\n",
      "173/173 [==============================] - 6s 37ms/step - loss: 0.0255 - acc: 1.0000\n",
      "Epoch 23/50\n",
      "173/173 [==============================] - 6s 37ms/step - loss: 0.0252 - acc: 1.0000\n",
      "Epoch 24/50\n",
      "173/173 [==============================] - 6s 37ms/step - loss: 0.0248 - acc: 1.0000\n",
      "Epoch 25/50\n",
      "173/173 [==============================] - 6s 37ms/step - loss: 0.0246 - acc: 1.0000\n",
      "Epoch 26/50\n",
      "173/173 [==============================] - 7s 38ms/step - loss: 0.0244 - acc: 1.0000\n",
      "Epoch 27/50\n",
      "173/173 [==============================] - 7s 38ms/step - loss: 0.0241 - acc: 1.0000\n",
      "Epoch 28/50\n",
      "173/173 [==============================] - 7s 40ms/step - loss: 0.0239 - acc: 1.0000\n",
      "Epoch 29/50\n",
      "173/173 [==============================] - 7s 38ms/step - loss: 0.0237 - acc: 1.0000\n",
      "Epoch 30/50\n",
      "173/173 [==============================] - 7s 41ms/step - loss: 0.0234 - acc: 1.0000\n",
      "Epoch 31/50\n",
      "173/173 [==============================] - 6s 36ms/step - loss: 0.0230 - acc: 1.0000\n",
      "Epoch 32/50\n",
      "173/173 [==============================] - 7s 39ms/step - loss: 0.0229 - acc: 1.0000\n",
      "Epoch 33/50\n",
      "173/173 [==============================] - 7s 38ms/step - loss: 0.0227 - acc: 1.0000\n",
      "Epoch 34/50\n",
      "173/173 [==============================] - 7s 40ms/step - loss: 0.0224 - acc: 1.0000\n",
      "Epoch 35/50\n",
      "173/173 [==============================] - 7s 41ms/step - loss: 0.0222 - acc: 1.0000\n",
      "Epoch 36/50\n",
      "173/173 [==============================] - 7s 41ms/step - loss: 0.0220 - acc: 1.0000\n",
      "Epoch 37/50\n",
      "173/173 [==============================] - 7s 40ms/step - loss: 0.0218 - acc: 1.0000\n",
      "Epoch 38/50\n",
      "173/173 [==============================] - 7s 41ms/step - loss: 0.0215 - acc: 1.0000: 0s - loss: 0.0215 - acc: 1.\n",
      "Epoch 39/50\n",
      "173/173 [==============================] - 7s 39ms/step - loss: 0.0213 - acc: 1.0000\n",
      "Epoch 40/50\n",
      "173/173 [==============================] - 7s 40ms/step - loss: 0.0211 - acc: 1.0000\n",
      "Epoch 41/50\n",
      "173/173 [==============================] - 7s 39ms/step - loss: 0.0209 - acc: 1.0000\n",
      "Epoch 42/50\n",
      "173/173 [==============================] - 7s 40ms/step - loss: 0.0207 - acc: 1.0000\n",
      "Epoch 43/50\n",
      "173/173 [==============================] - 6s 36ms/step - loss: 0.0205 - acc: 1.0000\n",
      "Epoch 44/50\n",
      "173/173 [==============================] - 6s 36ms/step - loss: 0.0203 - acc: 1.0000\n",
      "Epoch 45/50\n",
      "173/173 [==============================] - 6s 35ms/step - loss: 0.0201 - acc: 1.0000\n",
      "Epoch 46/50\n",
      "173/173 [==============================] - 6s 35ms/step - loss: 0.0199 - acc: 1.0000\n",
      "Epoch 47/50\n",
      "173/173 [==============================] - 7s 40ms/step - loss: 0.0197 - acc: 1.0000\n",
      "Epoch 48/50\n",
      "173/173 [==============================] - 7s 39ms/step - loss: 0.0195 - acc: 1.0000\n",
      "Epoch 49/50\n",
      "173/173 [==============================] - 6s 37ms/step - loss: 0.0192 - acc: 1.0000\n",
      "Epoch 50/50\n",
      "173/173 [==============================] - 7s 41ms/step - loss: 0.0191 - acc: 1.0000\n"
     ]
    }
   ],
   "source": [
    "history_LBBM_2 = LBBM_2.fit(train_tensor, epochs=50, verbose=1)"
   ]
  },
  {
   "cell_type": "code",
   "execution_count": 23,
   "id": "9549ba69-6c65-4c67-8e0a-b482e60b2dd3",
   "metadata": {},
   "outputs": [
    {
     "name": "stdout",
     "output_type": "stream",
     "text": [
      "44/44 [==============================] - 13s 11ms/step - loss: 0.0291 - acc: 0.9942\n"
     ]
    },
    {
     "data": {
      "text/plain": [
       "[0.029054654762148857, 0.9942196607589722]"
      ]
     },
     "execution_count": 23,
     "metadata": {},
     "output_type": "execute_result"
    }
   ],
   "source": [
    "LBBM_2.evaluate(test_tensor)"
   ]
  },
  {
   "cell_type": "code",
   "execution_count": 24,
   "id": "36bc19d7-266f-4f03-96cb-9e7203be6f00",
   "metadata": {},
   "outputs": [
    {
     "name": "stdout",
     "output_type": "stream",
     "text": [
      "44/44 [==============================] - 0s 7ms/step - loss: 0.0314 - acc: 0.9942\n"
     ]
    },
    {
     "data": {
      "text/plain": [
       "[0.03144938498735428, 0.9942196607589722]"
      ]
     },
     "execution_count": 24,
     "metadata": {},
     "output_type": "execute_result"
    }
   ],
   "source": [
    "LBBM_2.base_model.evaluate(test_tensor)"
   ]
  },
  {
   "cell_type": "code",
   "execution_count": null,
   "id": "6c14475d-1b9d-4d8e-aacf-7ce9c417a972",
   "metadata": {},
   "outputs": [],
   "source": []
  }
 ],
 "metadata": {
  "kernelspec": {
   "display_name": "Python 3 (ipykernel)",
   "language": "python",
   "name": "python3"
  },
  "language_info": {
   "codemirror_mode": {
    "name": "ipython",
    "version": 3
   },
   "file_extension": ".py",
   "mimetype": "text/x-python",
   "name": "python",
   "nbconvert_exporter": "python",
   "pygments_lexer": "ipython3",
   "version": "3.9.7"
  }
 },
 "nbformat": 4,
 "nbformat_minor": 5
}
