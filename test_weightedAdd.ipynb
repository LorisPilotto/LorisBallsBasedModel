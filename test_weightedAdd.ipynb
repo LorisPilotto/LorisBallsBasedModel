{
 "cells": [
  {
   "cell_type": "code",
   "execution_count": 1,
   "id": "12d3437f-68b6-4910-9378-f349bbac5c8b",
   "metadata": {},
   "outputs": [],
   "source": [
    "from LorisBallsBasedModel import *\n",
    "import tensorflow as tf\n",
    "import pandas as pd\n",
    "import numpy as np"
   ]
  },
  {
   "cell_type": "code",
   "execution_count": 2,
   "id": "30433be8-2ea7-4e07-b154-1f923e1a52bb",
   "metadata": {},
   "outputs": [
    {
     "data": {
      "text/plain": [
       "array([[[0.13498262, 0.47517149, 0.88161638, 0.63402138, 0.6583013 ],\n",
       "        [0.07682002, 0.77631968, 0.29075367, 0.71366115, 0.804285  ],\n",
       "        [0.75048788, 0.73127157, 0.69739607, 0.75339788, 0.47649073]],\n",
       "\n",
       "       [[0.49741393, 0.75793651, 0.22915239, 0.37274272, 0.19763157],\n",
       "        [0.52692728, 0.19304137, 0.46184749, 0.89550328, 0.69598531],\n",
       "        [0.72855932, 0.09265025, 0.34153415, 0.15115517, 0.34954412]],\n",
       "\n",
       "       [[0.03718671, 0.52187068, 0.84935084, 0.10127317, 0.99159591],\n",
       "        [0.51642217, 0.780112  , 0.35976409, 0.49676694, 0.7354944 ],\n",
       "        [0.03878133, 0.63926713, 0.89193795, 0.52178485, 0.56306152]]])"
      ]
     },
     "execution_count": 2,
     "metadata": {},
     "output_type": "execute_result"
    }
   ],
   "source": [
    "X = np.random.uniform(0, 1, 15000).reshape(1000, 3, 5)  # 1000 examples of 3 inputs with 5 units\n",
    "X[:3]"
   ]
  },
  {
   "cell_type": "code",
   "execution_count": 3,
   "id": "4409409d-927f-4604-942b-a9899ccce578",
   "metadata": {},
   "outputs": [
    {
     "data": {
      "text/plain": [
       "array([[0.26996524, 0.95034298, 1.76323275, 1.26804277, 1.31660259],\n",
       "       [0.99482786, 1.51587301, 0.45830478, 0.74548543, 0.39526313],\n",
       "       [0.07437341, 1.04374135, 1.69870168, 0.20254634, 1.98319181]])"
      ]
     },
     "execution_count": 3,
     "metadata": {},
     "output_type": "execute_result"
    }
   ],
   "source": [
    "y = 2*X[:, 0]\n",
    "y[:3]"
   ]
  },
  {
   "cell_type": "code",
   "execution_count": 4,
   "id": "5d6b1332-3747-449d-be6f-400159c0ab42",
   "metadata": {},
   "outputs": [
    {
     "data": {
      "text/plain": [
       "<BatchDataset shapes: ((None, 3, 5), (None, 5)), types: (tf.float64, tf.float64)>"
      ]
     },
     "execution_count": 4,
     "metadata": {},
     "output_type": "execute_result"
    }
   ],
   "source": [
    "train_tensor = tf.data.Dataset.from_tensor_slices((X[:900],\n",
    "                                             y[:900])).batch(100)\n",
    "train_tensor"
   ]
  },
  {
   "cell_type": "code",
   "execution_count": 5,
   "id": "323def38-be30-4038-9159-707513749942",
   "metadata": {},
   "outputs": [],
   "source": [
    "model = SingleLayerPerceptron(WeightedAdd())"
   ]
  },
  {
   "cell_type": "code",
   "execution_count": 6,
   "id": "b64d6646-7a87-4053-9c91-aa2c496195e2",
   "metadata": {},
   "outputs": [],
   "source": [
    "model.compile(loss='MSE', optimizer=tf.keras.optimizers.Adam(learning_rate=0.05), metrics=['acc'])"
   ]
  },
  {
   "cell_type": "code",
   "execution_count": 7,
   "id": "2d59f260-1347-4cd0-985c-cc3b2f960b1a",
   "metadata": {},
   "outputs": [
    {
     "name": "stdout",
     "output_type": "stream",
     "text": [
      "Epoch 1/100\n"
     ]
    },
    {
     "ename": "TypeError",
     "evalue": "in user code:\n\n    File \"C:\\Users\\loris\\.virtualenvs\\LorisBallsBasedModel-TtjRD8IM\\lib\\site-packages\\keras\\engine\\training.py\", line 878, in train_function  *\n        return step_function(self, iterator)\n    File \"C:\\Users\\loris\\.virtualenvs\\LorisBallsBasedModel-TtjRD8IM\\lib\\site-packages\\keras\\engine\\training.py\", line 867, in step_function  **\n        outputs = model.distribute_strategy.run(run_step, args=(data,))\n    File \"C:\\Users\\loris\\.virtualenvs\\LorisBallsBasedModel-TtjRD8IM\\lib\\site-packages\\keras\\engine\\training.py\", line 860, in run_step  **\n        outputs = model.train_step(data)\n    File \"C:\\Users\\loris\\.virtualenvs\\LorisBallsBasedModel-TtjRD8IM\\lib\\site-packages\\keras\\engine\\training.py\", line 808, in train_step\n        y_pred = self(x, training=True)\n    File \"C:\\Users\\loris\\.virtualenvs\\LorisBallsBasedModel-TtjRD8IM\\lib\\site-packages\\keras\\utils\\traceback_utils.py\", line 67, in error_handler\n        raise e.with_traceback(filtered_tb) from None\n\n    TypeError: Exception encountered when calling layer \"single_layer_perceptron\" (type SingleLayerPerceptron).\n    \n    in user code:\n    \n        File \"C:\\Users\\loris\\Desktop\\LorisBallsBasedModel\\LorisBallsBasedModel\\Models\\Models.py\", line 18, in call  *\n            return self.output_layer(inputs)\n        File \"C:\\Users\\loris\\.virtualenvs\\LorisBallsBasedModel-TtjRD8IM\\lib\\site-packages\\keras\\utils\\traceback_utils.py\", line 67, in error_handler  **\n            raise e.with_traceback(filtered_tb) from None\n        File \"C:\\Users\\loris\\Desktop\\LorisBallsBasedModel\\LorisBallsBasedModel\\Layers\\WeightedAdd.py\", line 33, in build\n            shape=[len(input_shape), input_shape[0][1]],  # input_shape[1:]\n    \n        TypeError: 'NoneType' object is not subscriptable\n    \n    \n    Call arguments received:\n      • inputs=tf.Tensor(shape=(None, 3, 5), dtype=float32)\n",
     "output_type": "error",
     "traceback": [
      "\u001b[1;31m---------------------------------------------------------------------------\u001b[0m",
      "\u001b[1;31mTypeError\u001b[0m                                 Traceback (most recent call last)",
      "\u001b[1;32m~\\AppData\\Local\\Temp/ipykernel_9068/2731268402.py\u001b[0m in \u001b[0;36m<module>\u001b[1;34m\u001b[0m\n\u001b[1;32m----> 1\u001b[1;33m \u001b[0mhistory\u001b[0m \u001b[1;33m=\u001b[0m \u001b[0mmodel\u001b[0m\u001b[1;33m.\u001b[0m\u001b[0mfit\u001b[0m\u001b[1;33m(\u001b[0m\u001b[0mtrain_tensor\u001b[0m\u001b[1;33m,\u001b[0m \u001b[0mepochs\u001b[0m\u001b[1;33m=\u001b[0m\u001b[1;36m100\u001b[0m\u001b[1;33m,\u001b[0m \u001b[0mverbose\u001b[0m\u001b[1;33m=\u001b[0m\u001b[1;36m1\u001b[0m\u001b[1;33m)\u001b[0m\u001b[1;33m\u001b[0m\u001b[1;33m\u001b[0m\u001b[0m\n\u001b[0m",
      "\u001b[1;32m~\\.virtualenvs\\LorisBallsBasedModel-TtjRD8IM\\lib\\site-packages\\keras\\utils\\traceback_utils.py\u001b[0m in \u001b[0;36merror_handler\u001b[1;34m(*args, **kwargs)\u001b[0m\n\u001b[0;32m     65\u001b[0m     \u001b[1;32mexcept\u001b[0m \u001b[0mException\u001b[0m \u001b[1;32mas\u001b[0m \u001b[0me\u001b[0m\u001b[1;33m:\u001b[0m  \u001b[1;31m# pylint: disable=broad-except\u001b[0m\u001b[1;33m\u001b[0m\u001b[1;33m\u001b[0m\u001b[0m\n\u001b[0;32m     66\u001b[0m       \u001b[0mfiltered_tb\u001b[0m \u001b[1;33m=\u001b[0m \u001b[0m_process_traceback_frames\u001b[0m\u001b[1;33m(\u001b[0m\u001b[0me\u001b[0m\u001b[1;33m.\u001b[0m\u001b[0m__traceback__\u001b[0m\u001b[1;33m)\u001b[0m\u001b[1;33m\u001b[0m\u001b[1;33m\u001b[0m\u001b[0m\n\u001b[1;32m---> 67\u001b[1;33m       \u001b[1;32mraise\u001b[0m \u001b[0me\u001b[0m\u001b[1;33m.\u001b[0m\u001b[0mwith_traceback\u001b[0m\u001b[1;33m(\u001b[0m\u001b[0mfiltered_tb\u001b[0m\u001b[1;33m)\u001b[0m \u001b[1;32mfrom\u001b[0m \u001b[1;32mNone\u001b[0m\u001b[1;33m\u001b[0m\u001b[1;33m\u001b[0m\u001b[0m\n\u001b[0m\u001b[0;32m     68\u001b[0m     \u001b[1;32mfinally\u001b[0m\u001b[1;33m:\u001b[0m\u001b[1;33m\u001b[0m\u001b[1;33m\u001b[0m\u001b[0m\n\u001b[0;32m     69\u001b[0m       \u001b[1;32mdel\u001b[0m \u001b[0mfiltered_tb\u001b[0m\u001b[1;33m\u001b[0m\u001b[1;33m\u001b[0m\u001b[0m\n",
      "\u001b[1;32m~\\.virtualenvs\\LorisBallsBasedModel-TtjRD8IM\\lib\\site-packages\\tensorflow\\python\\framework\\func_graph.py\u001b[0m in \u001b[0;36mautograph_handler\u001b[1;34m(*args, **kwargs)\u001b[0m\n\u001b[0;32m   1127\u001b[0m           \u001b[1;32mexcept\u001b[0m \u001b[0mException\u001b[0m \u001b[1;32mas\u001b[0m \u001b[0me\u001b[0m\u001b[1;33m:\u001b[0m  \u001b[1;31m# pylint:disable=broad-except\u001b[0m\u001b[1;33m\u001b[0m\u001b[1;33m\u001b[0m\u001b[0m\n\u001b[0;32m   1128\u001b[0m             \u001b[1;32mif\u001b[0m \u001b[0mhasattr\u001b[0m\u001b[1;33m(\u001b[0m\u001b[0me\u001b[0m\u001b[1;33m,\u001b[0m \u001b[1;34m\"ag_error_metadata\"\u001b[0m\u001b[1;33m)\u001b[0m\u001b[1;33m:\u001b[0m\u001b[1;33m\u001b[0m\u001b[1;33m\u001b[0m\u001b[0m\n\u001b[1;32m-> 1129\u001b[1;33m               \u001b[1;32mraise\u001b[0m \u001b[0me\u001b[0m\u001b[1;33m.\u001b[0m\u001b[0mag_error_metadata\u001b[0m\u001b[1;33m.\u001b[0m\u001b[0mto_exception\u001b[0m\u001b[1;33m(\u001b[0m\u001b[0me\u001b[0m\u001b[1;33m)\u001b[0m\u001b[1;33m\u001b[0m\u001b[1;33m\u001b[0m\u001b[0m\n\u001b[0m\u001b[0;32m   1130\u001b[0m             \u001b[1;32melse\u001b[0m\u001b[1;33m:\u001b[0m\u001b[1;33m\u001b[0m\u001b[1;33m\u001b[0m\u001b[0m\n\u001b[0;32m   1131\u001b[0m               \u001b[1;32mraise\u001b[0m\u001b[1;33m\u001b[0m\u001b[1;33m\u001b[0m\u001b[0m\n",
      "\u001b[1;31mTypeError\u001b[0m: in user code:\n\n    File \"C:\\Users\\loris\\.virtualenvs\\LorisBallsBasedModel-TtjRD8IM\\lib\\site-packages\\keras\\engine\\training.py\", line 878, in train_function  *\n        return step_function(self, iterator)\n    File \"C:\\Users\\loris\\.virtualenvs\\LorisBallsBasedModel-TtjRD8IM\\lib\\site-packages\\keras\\engine\\training.py\", line 867, in step_function  **\n        outputs = model.distribute_strategy.run(run_step, args=(data,))\n    File \"C:\\Users\\loris\\.virtualenvs\\LorisBallsBasedModel-TtjRD8IM\\lib\\site-packages\\keras\\engine\\training.py\", line 860, in run_step  **\n        outputs = model.train_step(data)\n    File \"C:\\Users\\loris\\.virtualenvs\\LorisBallsBasedModel-TtjRD8IM\\lib\\site-packages\\keras\\engine\\training.py\", line 808, in train_step\n        y_pred = self(x, training=True)\n    File \"C:\\Users\\loris\\.virtualenvs\\LorisBallsBasedModel-TtjRD8IM\\lib\\site-packages\\keras\\utils\\traceback_utils.py\", line 67, in error_handler\n        raise e.with_traceback(filtered_tb) from None\n\n    TypeError: Exception encountered when calling layer \"single_layer_perceptron\" (type SingleLayerPerceptron).\n    \n    in user code:\n    \n        File \"C:\\Users\\loris\\Desktop\\LorisBallsBasedModel\\LorisBallsBasedModel\\Models\\Models.py\", line 18, in call  *\n            return self.output_layer(inputs)\n        File \"C:\\Users\\loris\\.virtualenvs\\LorisBallsBasedModel-TtjRD8IM\\lib\\site-packages\\keras\\utils\\traceback_utils.py\", line 67, in error_handler  **\n            raise e.with_traceback(filtered_tb) from None\n        File \"C:\\Users\\loris\\Desktop\\LorisBallsBasedModel\\LorisBallsBasedModel\\Layers\\WeightedAdd.py\", line 33, in build\n            shape=[len(input_shape), input_shape[0][1]],  # input_shape[1:]\n    \n        TypeError: 'NoneType' object is not subscriptable\n    \n    \n    Call arguments received:\n      • inputs=tf.Tensor(shape=(None, 3, 5), dtype=float32)\n"
     ]
    }
   ],
   "source": [
    "history = model.fit(train_tensor, epochs=100, verbose=1)"
   ]
  },
  {
   "cell_type": "code",
   "execution_count": 8,
   "id": "3c4edce1-1dfb-45a2-9273-608cee30e8c9",
   "metadata": {},
   "outputs": [
    {
     "data": {
      "text/plain": [
       "array([[[0.86122472, 0.22580838, 0.42386405, 0.0216878 , 0.15576156],\n",
       "        [0.11411075, 0.57759462, 0.17148   , 0.98270199, 0.28938745],\n",
       "        [0.25360702, 0.27060228, 0.8966886 , 0.76571019, 0.79201095]],\n",
       "\n",
       "       [[0.50183875, 0.74277787, 0.59644162, 0.82376336, 0.93275458],\n",
       "        [0.72829698, 0.56454082, 0.99812376, 0.87363334, 0.88027723],\n",
       "        [0.00477643, 0.12431232, 0.28529818, 0.63834148, 0.98535408]],\n",
       "\n",
       "       [[0.23641884, 0.86345746, 0.12301881, 0.23052985, 0.751445  ],\n",
       "        [0.68423116, 0.1367175 , 0.37391749, 0.76047664, 0.49765767],\n",
       "        [0.64060655, 0.70324328, 0.91588432, 0.58694065, 0.57312428]]])"
      ]
     },
     "execution_count": 8,
     "metadata": {},
     "output_type": "execute_result"
    }
   ],
   "source": [
    "X[997:]"
   ]
  },
  {
   "cell_type": "code",
   "execution_count": 9,
   "id": "64e2eb97-fd99-400b-8a43-c430976373e9",
   "metadata": {},
   "outputs": [
    {
     "data": {
      "text/plain": [
       "array([[1.72244944, 0.45161676, 0.8477281 , 0.0433756 , 0.31152312],\n",
       "       [1.0036775 , 1.48555573, 1.19288324, 1.64752672, 1.86550916],\n",
       "       [0.47283768, 1.72691492, 0.24603763, 0.4610597 , 1.50288999]])"
      ]
     },
     "execution_count": 9,
     "metadata": {},
     "output_type": "execute_result"
    }
   ],
   "source": [
    "y[997:]"
   ]
  },
  {
   "cell_type": "code",
   "execution_count": 10,
   "id": "ead6ff05-649f-444f-8ffd-6ffec999fb39",
   "metadata": {},
   "outputs": [
    {
     "data": {
      "text/plain": [
       "<tf.Variable 'single_layer_perceptron/weighted_add_1/kernel:0' shape=(3, 5) dtype=float32, numpy=\n",
       "array([[ 2.00000000e+00,  2.00000000e+00,  2.00000000e+00,\n",
       "         2.00000024e+00,  2.00000000e+00],\n",
       "       [ 6.12679685e-10,  3.81341431e-10, -2.92239011e-10,\n",
       "        -9.79291457e-08,  2.30669195e-09],\n",
       "       [-4.39656311e-09, -7.64197317e-10,  6.17050022e-10,\n",
       "        -1.02515756e-07,  1.77043658e-09]], dtype=float32)>"
      ]
     },
     "execution_count": 10,
     "metadata": {},
     "output_type": "execute_result"
    }
   ],
   "source": [
    "model.output_layer.kernel"
   ]
  },
  {
   "cell_type": "code",
   "execution_count": 11,
   "id": "41ba7c43-9ad0-48d5-8758-b737503c4172",
   "metadata": {},
   "outputs": [
    {
     "data": {
      "text/plain": [
       "<tf.Tensor: shape=(3, 5), dtype=float32, numpy=\n",
       "array([[1.7224494 , 0.45161676, 0.84772813, 0.04337543, 0.3115231 ],\n",
       "       [1.0036775 , 1.4855558 , 1.1928833 , 1.6475267 , 1.8655092 ],\n",
       "       [0.4728377 , 1.7269149 , 0.24603763, 0.46105963, 1.50289   ]],\n",
       "      dtype=float32)>"
      ]
     },
     "execution_count": 11,
     "metadata": {},
     "output_type": "execute_result"
    }
   ],
   "source": [
    "model(X[997:])"
   ]
  },
  {
   "cell_type": "code",
   "execution_count": 18,
   "id": "23c0c311-784b-430f-8ac3-d621dcea8844",
   "metadata": {},
   "outputs": [
    {
     "data": {
      "text/plain": [
       "<tf.Tensor: shape=(3, 5), dtype=float32, numpy=\n",
       "array([[0.36421585, 0.14530468, 0.19152474, 0.8461149 , 0.74449015],\n",
       "       [0.04573905, 0.98572075, 0.46673226, 0.49774492, 0.08742237],\n",
       "       [0.29016173, 0.11728024, 0.77295566, 0.76460123, 0.71802795]],\n",
       "      dtype=float32)>"
      ]
     },
     "execution_count": 18,
     "metadata": {},
     "output_type": "execute_result"
    }
   ],
   "source": [
    "x1 = tf.reshape(tf.random.uniform(shape=[5000], minval=0., maxval=1.), (1000, 5))\n",
    "x2 = tf.reshape(tf.random.uniform(shape=[5000], minval=0., maxval=1.), (1000, 5))\n",
    "x3 = tf.reshape(tf.random.uniform(shape=[5000], minval=0., maxval=1.), (1000, 5))\n",
    "X = [x1, x2, x3]\n",
    "\n",
    "w = tf.random.uniform(shape=[len(X), tf.shape(X[0])[1]])\n",
    "w"
   ]
  },
  {
   "cell_type": "code",
   "execution_count": 19,
   "id": "431fcfdf-db41-4908-8091-8c4debe575f8",
   "metadata": {},
   "outputs": [
    {
     "data": {
      "text/plain": [
       "[<tf.Tensor: shape=(1000, 5), dtype=float32, numpy=\n",
       " array([[0.40466678, 0.6989825 , 0.44667256, 0.816221  , 0.2241062 ],\n",
       "        [0.31510317, 0.83118355, 0.97546375, 0.25199723, 0.828308  ],\n",
       "        [0.924206  , 0.893185  , 0.01773822, 0.29097462, 0.61092985],\n",
       "        ...,\n",
       "        [0.5536487 , 0.65853333, 0.42345095, 0.47227907, 0.4062692 ],\n",
       "        [0.09735441, 0.16025996, 0.7994375 , 0.31774807, 0.5523515 ],\n",
       "        [0.7476336 , 0.89062357, 0.2963376 , 0.47071826, 0.01007354]],\n",
       "       dtype=float32)>,\n",
       " <tf.Tensor: shape=(1000, 5), dtype=float32, numpy=\n",
       " array([[0.7116833 , 0.32131886, 0.05764663, 0.61881876, 0.27140868],\n",
       "        [0.38855195, 0.12586868, 0.087286  , 0.30123794, 0.0897373 ],\n",
       "        [0.71636903, 0.7459885 , 0.6558927 , 0.52339244, 0.04718828],\n",
       "        ...,\n",
       "        [0.9055846 , 0.7475393 , 0.64103055, 0.2497592 , 0.30053842],\n",
       "        [0.5842024 , 0.21468055, 0.267882  , 0.8869586 , 0.30686784],\n",
       "        [0.06758857, 0.19177043, 0.863124  , 0.48738587, 0.13183379]],\n",
       "       dtype=float32)>,\n",
       " <tf.Tensor: shape=(1000, 5), dtype=float32, numpy=\n",
       " array([[0.70256746, 0.07546937, 0.79183173, 0.29482305, 0.6094078 ],\n",
       "        [0.9778483 , 0.15710258, 0.37653017, 0.00200415, 0.49947524],\n",
       "        [0.44500685, 0.58725905, 0.6201571 , 0.9926623 , 0.82481694],\n",
       "        ...,\n",
       "        [0.86959505, 0.7735857 , 0.30770922, 0.1847887 , 0.13644505],\n",
       "        [0.73603356, 0.5731468 , 0.7083125 , 0.44526935, 0.9447199 ],\n",
       "        [0.31709194, 0.24842024, 0.48058462, 0.6674324 , 0.06787646]],\n",
       "       dtype=float32)>]"
      ]
     },
     "execution_count": 19,
     "metadata": {},
     "output_type": "execute_result"
    }
   ],
   "source": [
    "X"
   ]
  },
  {
   "cell_type": "code",
   "execution_count": 20,
   "id": "05d38789-6595-4798-91ec-9bc32daec5dc",
   "metadata": {},
   "outputs": [
    {
     "data": {
      "text/plain": [
       "<tf.Tensor: shape=(1000, 15), dtype=float32, numpy=\n",
       "array([[0.40466678, 0.6989825 , 0.44667256, ..., 0.79183173, 0.29482305,\n",
       "        0.6094078 ],\n",
       "       [0.31510317, 0.83118355, 0.97546375, ..., 0.37653017, 0.00200415,\n",
       "        0.49947524],\n",
       "       [0.924206  , 0.893185  , 0.01773822, ..., 0.6201571 , 0.9926623 ,\n",
       "        0.82481694],\n",
       "       ...,\n",
       "       [0.5536487 , 0.65853333, 0.42345095, ..., 0.30770922, 0.1847887 ,\n",
       "        0.13644505],\n",
       "       [0.09735441, 0.16025996, 0.7994375 , ..., 0.7083125 , 0.44526935,\n",
       "        0.9447199 ],\n",
       "       [0.7476336 , 0.89062357, 0.2963376 , ..., 0.48058462, 0.6674324 ,\n",
       "        0.06787646]], dtype=float32)>"
      ]
     },
     "execution_count": 20,
     "metadata": {},
     "output_type": "execute_result"
    }
   ],
   "source": [
    "tf.concat(\n",
    "    X,\n",
    "    axis=1)"
   ]
  },
  {
   "cell_type": "code",
   "execution_count": 21,
   "id": "84a06a21-00fa-49e9-b5df-2b896f456a00",
   "metadata": {},
   "outputs": [
    {
     "data": {
      "text/plain": [
       "<tf.Tensor: shape=(1000, 3, 5), dtype=float32, numpy=\n",
       "array([[[0.40466678, 0.6989825 , 0.44667256, 0.816221  , 0.2241062 ],\n",
       "        [0.7116833 , 0.32131886, 0.05764663, 0.61881876, 0.27140868],\n",
       "        [0.70256746, 0.07546937, 0.79183173, 0.29482305, 0.6094078 ]],\n",
       "\n",
       "       [[0.31510317, 0.83118355, 0.97546375, 0.25199723, 0.828308  ],\n",
       "        [0.38855195, 0.12586868, 0.087286  , 0.30123794, 0.0897373 ],\n",
       "        [0.9778483 , 0.15710258, 0.37653017, 0.00200415, 0.49947524]],\n",
       "\n",
       "       [[0.924206  , 0.893185  , 0.01773822, 0.29097462, 0.61092985],\n",
       "        [0.71636903, 0.7459885 , 0.6558927 , 0.52339244, 0.04718828],\n",
       "        [0.44500685, 0.58725905, 0.6201571 , 0.9926623 , 0.82481694]],\n",
       "\n",
       "       ...,\n",
       "\n",
       "       [[0.5536487 , 0.65853333, 0.42345095, 0.47227907, 0.4062692 ],\n",
       "        [0.9055846 , 0.7475393 , 0.64103055, 0.2497592 , 0.30053842],\n",
       "        [0.86959505, 0.7735857 , 0.30770922, 0.1847887 , 0.13644505]],\n",
       "\n",
       "       [[0.09735441, 0.16025996, 0.7994375 , 0.31774807, 0.5523515 ],\n",
       "        [0.5842024 , 0.21468055, 0.267882  , 0.8869586 , 0.30686784],\n",
       "        [0.73603356, 0.5731468 , 0.7083125 , 0.44526935, 0.9447199 ]],\n",
       "\n",
       "       [[0.7476336 , 0.89062357, 0.2963376 , 0.47071826, 0.01007354],\n",
       "        [0.06758857, 0.19177043, 0.863124  , 0.48738587, 0.13183379],\n",
       "        [0.31709194, 0.24842024, 0.48058462, 0.6674324 , 0.06787646]]],\n",
       "      dtype=float32)>"
      ]
     },
     "execution_count": 21,
     "metadata": {},
     "output_type": "execute_result"
    }
   ],
   "source": [
    "X_conc= tf.reshape(\n",
    "    tf.concat(\n",
    "        X,\n",
    "        axis=1),\n",
    "    (-1, len(X), tf.shape(X[0])[-1]))\n",
    "\n",
    "X_conc"
   ]
  },
  {
   "cell_type": "code",
   "execution_count": 23,
   "id": "25c0a3ab-995d-49a6-942c-6761fcbe99ff",
   "metadata": {},
   "outputs": [
    {
     "data": {
      "text/plain": [
       "<tf.Tensor: shape=(1000, 3, 5), dtype=float32, numpy=\n",
       "array([[[0.14738606, 0.10156543, 0.08554885, 0.6906167 , 0.16684484],\n",
       "        [0.03255172, 0.31673068, 0.02690554, 0.3080139 , 0.02372719],\n",
       "        [0.20385818, 0.00885107, 0.61205083, 0.22542207, 0.43757182]],\n",
       "\n",
       "       [[0.11476557, 0.12077486, 0.18682544, 0.2132186 , 0.61666715],\n",
       "        [0.017772  , 0.12407137, 0.04073919, 0.14993966, 0.00784505],\n",
       "        [0.28373414, 0.01842503, 0.29104114, 0.00153237, 0.35863718]],\n",
       "\n",
       "       [[0.3366105 , 0.12978396, 0.00339731, 0.24619795, 0.45483124],\n",
       "        [0.03276604, 0.73533636, 0.3061263 , 0.26051593, 0.00412531],\n",
       "        [0.12912396, 0.06887388, 0.47935396, 0.7589908 , 0.59224164]],\n",
       "\n",
       "       ...,\n",
       "\n",
       "       [[0.20164764, 0.09568798, 0.08110134, 0.39960235, 0.3024634 ],\n",
       "        [0.04142058, 0.736865  , 0.29918963, 0.12431637, 0.02627378],\n",
       "        [0.2523232 , 0.09072632, 0.23784558, 0.14128967, 0.09797136]],\n",
       "\n",
       "       [[0.03545802, 0.02328652, 0.15311207, 0.26885137, 0.41122022],\n",
       "        [0.02672087, 0.21161507, 0.12502916, 0.44147915, 0.02682711],\n",
       "        [0.21356878, 0.0672188 , 0.5474942 , 0.34045348, 0.6783353 ]],\n",
       "\n",
       "       [[0.2723    , 0.12941177, 0.05675598, 0.39828172, 0.00749965],\n",
       "        [0.00309144, 0.1890321 , 0.40284783, 0.24259384, 0.01152522],\n",
       "        [0.09200794, 0.02913479, 0.3714706 , 0.51031965, 0.04873719]]],\n",
       "      dtype=float32)>"
      ]
     },
     "execution_count": 23,
     "metadata": {},
     "output_type": "execute_result"
    }
   ],
   "source": [
    "m = tf.multiply(X_conc, w)\n",
    "m"
   ]
  },
  {
   "cell_type": "code",
   "execution_count": 24,
   "id": "e5f8f4d5-6a76-4bea-bdbb-0b90db48df1b",
   "metadata": {},
   "outputs": [
    {
     "data": {
      "text/plain": [
       "<tf.Tensor: shape=(1000, 5), dtype=float32, numpy=\n",
       "array([[0.38379598, 0.42714718, 0.72450525, 1.2240527 , 0.62814385],\n",
       "       [0.41627172, 0.26327124, 0.51860577, 0.36469063, 0.9831494 ],\n",
       "       [0.4985005 , 0.9339942 , 0.7888776 , 1.2657046 , 1.0511982 ],\n",
       "       ...,\n",
       "       [0.49539143, 0.9232793 , 0.6181365 , 0.6652084 , 0.42670855],\n",
       "       [0.27574766, 0.3021204 , 0.82563543, 1.050784  , 1.1163826 ],\n",
       "       [0.36739936, 0.34757864, 0.8310744 , 1.1511953 , 0.06776207]],\n",
       "      dtype=float32)>"
      ]
     },
     "execution_count": 24,
     "metadata": {},
     "output_type": "execute_result"
    }
   ],
   "source": [
    "tf.reduce_sum(m, axis=1)"
   ]
  },
  {
   "cell_type": "code",
   "execution_count": null,
   "id": "2d72ccce-2e54-42f8-bfb8-9ef62c1866ce",
   "metadata": {},
   "outputs": [],
   "source": []
  }
 ],
 "metadata": {
  "kernelspec": {
   "display_name": "Python 3 (ipykernel)",
   "language": "python",
   "name": "python3"
  },
  "language_info": {
   "codemirror_mode": {
    "name": "ipython",
    "version": 3
   },
   "file_extension": ".py",
   "mimetype": "text/x-python",
   "name": "python",
   "nbconvert_exporter": "python",
   "pygments_lexer": "ipython3",
   "version": "3.9.7"
  }
 },
 "nbformat": 4,
 "nbformat_minor": 5
}
