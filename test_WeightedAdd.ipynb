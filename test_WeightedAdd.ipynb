{
 "cells": [
  {
   "cell_type": "code",
   "execution_count": 1,
   "id": "12d3437f-68b6-4910-9378-f349bbac5c8b",
   "metadata": {},
   "outputs": [],
   "source": [
    "from LorisBallsBasedModel import *\n",
    "import tensorflow as tf\n",
    "import pandas as pd\n",
    "import numpy as np"
   ]
  },
  {
   "cell_type": "code",
   "execution_count": 2,
   "id": "2d72ccce-2e54-42f8-bfb8-9ef62c1866ce",
   "metadata": {},
   "outputs": [
    {
     "data": {
      "text/plain": [
       "[<tf.Tensor: shape=(10000, 3), dtype=float32, numpy=\n",
       " array([[0.5718638 , 0.21838808, 0.86348057],\n",
       "        [0.16515756, 0.68862927, 0.44986165],\n",
       "        [0.9789096 , 0.86461544, 0.7126527 ],\n",
       "        ...,\n",
       "        [0.27073896, 0.9006597 , 0.7541754 ],\n",
       "        [0.10058415, 0.23088217, 0.73472023],\n",
       "        [0.5383748 , 0.68833745, 0.4981618 ]], dtype=float32)>,\n",
       " <tf.Tensor: shape=(10000, 3), dtype=float32, numpy=\n",
       " array([[0.7014574 , 0.18497849, 0.75103366],\n",
       "        [0.75598407, 0.18697977, 0.5655296 ],\n",
       "        [0.234496  , 0.14560926, 0.17186439],\n",
       "        ...,\n",
       "        [0.8665807 , 0.8969635 , 0.36051667],\n",
       "        [0.8009305 , 0.60470855, 0.75371337],\n",
       "        [0.22140443, 0.72753227, 0.42680883]], dtype=float32)>,\n",
       " <tf.Tensor: shape=(10000, 3), dtype=float32, numpy=\n",
       " array([[0.15445781, 0.47623682, 0.35283446],\n",
       "        [0.24855411, 0.2518226 , 0.11547804],\n",
       "        [0.75009584, 0.10065734, 0.9997022 ],\n",
       "        ...,\n",
       "        [0.5313879 , 0.9693116 , 0.97751856],\n",
       "        [0.53161085, 0.9298545 , 0.48214662],\n",
       "        [0.14912689, 0.03868914, 0.9254081 ]], dtype=float32)>]"
      ]
     },
     "execution_count": 2,
     "metadata": {},
     "output_type": "execute_result"
    }
   ],
   "source": [
    "X = [tf.random.uniform((10000, 3)),\n",
    "     tf.random.uniform((10000, 3)),\n",
    "     tf.random.uniform((10000, 3))]\n",
    "\n",
    "X"
   ]
  },
  {
   "cell_type": "code",
   "execution_count": 3,
   "id": "06d60bb4-0b1e-4f9f-8b64-36dd8c977306",
   "metadata": {},
   "outputs": [
    {
     "data": {
      "text/plain": [
       "<tf.Tensor: shape=(10000, 3), dtype=float32, numpy=\n",
       "array([[1.1437275 , 0.43677616, 1.7269611 ],\n",
       "       [0.3303151 , 1.3772585 , 0.8997233 ],\n",
       "       [1.9578192 , 1.7292309 , 1.4253054 ],\n",
       "       ...,\n",
       "       [0.5414779 , 1.8013194 , 1.5083508 ],\n",
       "       [0.2011683 , 0.46176434, 1.4694405 ],\n",
       "       [1.0767496 , 1.3766749 , 0.9963236 ]], dtype=float32)>"
      ]
     },
     "execution_count": 3,
     "metadata": {},
     "output_type": "execute_result"
    }
   ],
   "source": [
    "y = 2*X[0]\n",
    "\n",
    "y"
   ]
  },
  {
   "cell_type": "code",
   "execution_count": 4,
   "id": "04f68cd2-5ea9-452a-bc34-cd18b6148221",
   "metadata": {},
   "outputs": [
    {
     "name": "stdout",
     "output_type": "stream",
     "text": [
      "Epoch 1/50\n",
      "313/313 [==============================] - 1s 1ms/step - loss: 0.2785 - acc: 0.5877\n",
      "Epoch 2/50\n",
      "313/313 [==============================] - 0s 1ms/step - loss: 0.1488 - acc: 0.6737\n",
      "Epoch 3/50\n",
      "313/313 [==============================] - 0s 1ms/step - loss: 0.0881 - acc: 0.7621\n",
      "Epoch 4/50\n",
      "313/313 [==============================] - 0s 1ms/step - loss: 0.0492 - acc: 0.8294\n",
      "Epoch 5/50\n",
      "313/313 [==============================] - 0s 1ms/step - loss: 0.0257 - acc: 0.8780\n",
      "Epoch 6/50\n",
      "313/313 [==============================] - 0s 1ms/step - loss: 0.0126 - acc: 0.9127\n",
      "Epoch 7/50\n",
      "313/313 [==============================] - 0s 1ms/step - loss: 0.0059 - acc: 0.9389\n",
      "Epoch 8/50\n",
      "313/313 [==============================] - 0s 1ms/step - loss: 0.0027 - acc: 0.9583\n",
      "Epoch 9/50\n",
      "313/313 [==============================] - 0s 1ms/step - loss: 0.0012 - acc: 0.9727\n",
      "Epoch 10/50\n",
      "313/313 [==============================] - 0s 1ms/step - loss: 5.4549e-04 - acc: 0.9842\n",
      "Epoch 11/50\n",
      "313/313 [==============================] - 0s 1ms/step - loss: 2.2428e-04 - acc: 0.9903\n",
      "Epoch 12/50\n",
      "313/313 [==============================] - 0s 1ms/step - loss: 8.1809e-05 - acc: 0.9945\n",
      "Epoch 13/50\n",
      "313/313 [==============================] - 0s 1ms/step - loss: 2.5528e-05 - acc: 0.9967\n",
      "Epoch 14/50\n",
      "313/313 [==============================] - 0s 1ms/step - loss: 6.5660e-06 - acc: 0.9982\n",
      "Epoch 15/50\n",
      "313/313 [==============================] - 0s 1ms/step - loss: 1.3512e-06 - acc: 0.9998\n",
      "Epoch 16/50\n",
      "313/313 [==============================] - 0s 1ms/step - loss: 2.1336e-07 - acc: 0.9998\n",
      "Epoch 17/50\n",
      "313/313 [==============================] - 0s 1ms/step - loss: 2.4908e-08 - acc: 0.9998\n",
      "Epoch 18/50\n",
      "313/313 [==============================] - 0s 1ms/step - loss: 2.0395e-09 - acc: 1.0000\n",
      "Epoch 19/50\n",
      "313/313 [==============================] - 0s 1ms/step - loss: 1.1321e-10 - acc: 1.0000\n",
      "Epoch 20/50\n",
      "313/313 [==============================] - 0s 1ms/step - loss: 7.1776e-12 - acc: 1.0000\n",
      "Epoch 21/50\n",
      "313/313 [==============================] - 0s 1ms/step - loss: 2.5338e-12 - acc: 1.0000\n",
      "Epoch 22/50\n",
      "313/313 [==============================] - 0s 1ms/step - loss: 1.6577e-12 - acc: 1.0000\n",
      "Epoch 23/50\n",
      "313/313 [==============================] - 0s 1ms/step - loss: 1.2024e-12 - acc: 1.0000\n",
      "Epoch 24/50\n",
      "313/313 [==============================] - 0s 1ms/step - loss: 8.4774e-13 - acc: 1.0000\n",
      "Epoch 25/50\n",
      "313/313 [==============================] - 0s 1ms/step - loss: 6.3327e-13 - acc: 1.0000\n",
      "Epoch 26/50\n",
      "313/313 [==============================] - 0s 1ms/step - loss: 4.3770e-13 - acc: 1.0000\n",
      "Epoch 27/50\n",
      "313/313 [==============================] - 0s 1ms/step - loss: 3.0289e-13 - acc: 1.0000\n",
      "Epoch 28/50\n",
      "313/313 [==============================] - 0s 1ms/step - loss: 2.5099e-13 - acc: 1.0000\n",
      "Epoch 29/50\n",
      "313/313 [==============================] - 0s 1ms/step - loss: 1.5167e-13 - acc: 1.0000\n",
      "Epoch 30/50\n",
      "313/313 [==============================] - 0s 1ms/step - loss: 1.2106e-13 - acc: 1.0000\n",
      "Epoch 31/50\n",
      "313/313 [==============================] - 0s 1ms/step - loss: 8.4336e-14 - acc: 1.0000\n",
      "Epoch 32/50\n",
      "313/313 [==============================] - 0s 1ms/step - loss: 7.1821e-14 - acc: 1.0000\n",
      "Epoch 33/50\n",
      "313/313 [==============================] - 0s 1ms/step - loss: 4.3995e-14 - acc: 1.0000\n",
      "Epoch 34/50\n",
      "313/313 [==============================] - 0s 1ms/step - loss: 3.0136e-14 - acc: 1.0000\n",
      "Epoch 35/50\n",
      "313/313 [==============================] - 0s 1ms/step - loss: 2.1190e-14 - acc: 1.0000\n",
      "Epoch 36/50\n",
      "313/313 [==============================] - 0s 1ms/step - loss: 1.5852e-14 - acc: 1.0000\n",
      "Epoch 37/50\n",
      "313/313 [==============================] - 0s 1ms/step - loss: 7.3790e-15 - acc: 1.0000\n",
      "Epoch 38/50\n",
      "313/313 [==============================] - 0s 1ms/step - loss: 6.5472e-15 - acc: 1.0000\n",
      "Epoch 39/50\n",
      "313/313 [==============================] - 0s 1ms/step - loss: 6.6219e-15 - acc: 1.0000\n",
      "Epoch 40/50\n",
      "313/313 [==============================] - 0s 1ms/step - loss: 6.9977e-15 - acc: 1.0000\n",
      "Epoch 41/50\n",
      "313/313 [==============================] - 0s 1ms/step - loss: 1.5762e-15 - acc: 1.0000\n",
      "Epoch 42/50\n",
      "313/313 [==============================] - 0s 1ms/step - loss: 3.3802e-21 - acc: 1.0000\n",
      "Epoch 43/50\n",
      "313/313 [==============================] - 0s 1ms/step - loss: 4.9652e-22 - acc: 1.0000\n",
      "Epoch 44/50\n",
      "313/313 [==============================] - 0s 1ms/step - loss: 1.4189e-22 - acc: 1.0000\n",
      "Epoch 45/50\n",
      "313/313 [==============================] - 0s 1ms/step - loss: 5.2901e-23 - acc: 1.0000\n",
      "Epoch 46/50\n",
      "313/313 [==============================] - 0s 1ms/step - loss: 1.7020e-23 - acc: 1.0000\n",
      "Epoch 47/50\n",
      "313/313 [==============================] - 0s 1ms/step - loss: 1.5141e-23 - acc: 1.0000\n",
      "Epoch 48/50\n",
      "313/313 [==============================] - 0s 1ms/step - loss: 4.9500e-24 - acc: 1.0000\n",
      "Epoch 49/50\n",
      "313/313 [==============================] - 0s 1ms/step - loss: 1.4215e-24 - acc: 1.0000\n",
      "Epoch 50/50\n",
      "313/313 [==============================] - 0s 1ms/step - loss: 1.8945e-24 - acc: 1.0000\n"
     ]
    },
    {
     "data": {
      "text/plain": [
       "<keras.callbacks.History at 0x1605aebcee0>"
      ]
     },
     "execution_count": 4,
     "metadata": {},
     "output_type": "execute_result"
    }
   ],
   "source": [
    "model = SingleLayerPerceptron(WeightedAdd(1))\n",
    "model.compile(loss='mse', optimizer=tf.keras.optimizers.Adam(learning_rate=0.001), metrics=['acc'])\n",
    "model.fit(X, y, epochs=50, verbose=1)"
   ]
  },
  {
   "cell_type": "code",
   "execution_count": 5,
   "id": "e041544b-0c51-476a-ab87-b4008f313ecb",
   "metadata": {},
   "outputs": [
    {
     "data": {
      "text/plain": [
       "<tf.Variable 'single_layer_perceptron/weighted_add_2/kernel:0' shape=(3, 3) dtype=float32, numpy=\n",
       "array([[ 2.00000000e+00,  2.00000000e+00,  2.00000000e+00],\n",
       "       [ 1.62230750e-11,  1.28266755e-11, -4.25561392e-11],\n",
       "       [-8.13044493e-11,  1.15138940e-10, -4.06266513e-11]], dtype=float32)>"
      ]
     },
     "execution_count": 5,
     "metadata": {},
     "output_type": "execute_result"
    }
   ],
   "source": [
    "model.output_layer.kernel"
   ]
  },
  {
   "cell_type": "code",
   "execution_count": null,
   "id": "f3757755-bf52-4cc4-8ef6-4c8cd443eee0",
   "metadata": {},
   "outputs": [],
   "source": []
  },
  {
   "cell_type": "code",
   "execution_count": null,
   "id": "d485a3d1-bf96-459b-98e0-ca09e22dcc82",
   "metadata": {},
   "outputs": [],
   "source": []
  }
 ],
 "metadata": {
  "kernelspec": {
   "display_name": "Python 3 (ipykernel)",
   "language": "python",
   "name": "python3"
  },
  "language_info": {
   "codemirror_mode": {
    "name": "ipython",
    "version": 3
   },
   "file_extension": ".py",
   "mimetype": "text/x-python",
   "name": "python",
   "nbconvert_exporter": "python",
   "pygments_lexer": "ipython3",
   "version": "3.9.7"
  }
 },
 "nbformat": 4,
 "nbformat_minor": 5
}
