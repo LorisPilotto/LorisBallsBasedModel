{
 "cells": [
  {
   "cell_type": "code",
   "execution_count": 1,
   "id": "12d3437f-68b6-4910-9378-f349bbac5c8b",
   "metadata": {},
   "outputs": [],
   "source": [
    "from LorisBallsBasedModel import *\n",
    "import tensorflow as tf\n",
    "import pandas as pd\n",
    "import numpy as np"
   ]
  },
  {
   "cell_type": "code",
   "execution_count": 2,
   "id": "2d72ccce-2e54-42f8-bfb8-9ef62c1866ce",
   "metadata": {},
   "outputs": [
    {
     "data": {
      "text/plain": [
       "[<tf.Tensor: shape=(10000, 3), dtype=float32, numpy=\n",
       " array([[0.82568264, 0.6833166 , 0.08656716],\n",
       "        [0.23693013, 0.45566738, 0.4416114 ],\n",
       "        [0.9518081 , 0.55162776, 0.11626863],\n",
       "        ...,\n",
       "        [0.387002  , 0.541911  , 0.01167607],\n",
       "        [0.42891407, 0.02905202, 0.2867632 ],\n",
       "        [0.12025082, 0.93278515, 0.23941767]], dtype=float32)>,\n",
       " <tf.Tensor: shape=(10000, 3), dtype=float32, numpy=\n",
       " array([[0.9107537 , 0.4355862 , 0.53915966],\n",
       "        [0.7872293 , 0.7199416 , 0.33906543],\n",
       "        [0.8757087 , 0.38691723, 0.18217754],\n",
       "        ...,\n",
       "        [0.4179027 , 0.5245608 , 0.19491994],\n",
       "        [0.06839633, 0.124421  , 0.5519062 ],\n",
       "        [0.9213165 , 0.9458605 , 0.90585864]], dtype=float32)>,\n",
       " <tf.Tensor: shape=(10000, 3), dtype=float32, numpy=\n",
       " array([[0.15683877, 0.1645397 , 0.2593416 ],\n",
       "        [0.9071741 , 0.04309106, 0.81106186],\n",
       "        [0.8176296 , 0.41427934, 0.43113613],\n",
       "        ...,\n",
       "        [0.74802995, 0.9275608 , 0.25861728],\n",
       "        [0.15249658, 0.2587285 , 0.2003845 ],\n",
       "        [0.21573496, 0.76307285, 0.226596  ]], dtype=float32)>]"
      ]
     },
     "execution_count": 2,
     "metadata": {},
     "output_type": "execute_result"
    }
   ],
   "source": [
    "X = [tf.random.uniform((10000, 3)),\n",
    "     tf.random.uniform((10000, 3)),\n",
    "     tf.random.uniform((10000, 3))]\n",
    "\n",
    "X"
   ]
  },
  {
   "cell_type": "code",
   "execution_count": 3,
   "id": "06d60bb4-0b1e-4f9f-8b64-36dd8c977306",
   "metadata": {},
   "outputs": [
    {
     "data": {
      "text/plain": [
       "<tf.Tensor: shape=(10000, 3), dtype=float32, numpy=\n",
       "array([[1.6513653 , 1.3666332 , 0.17313433],\n",
       "       [0.47386026, 0.91133475, 0.8832228 ],\n",
       "       [1.9036162 , 1.1032555 , 0.23253727],\n",
       "       ...,\n",
       "       [0.774004  , 1.083822  , 0.02335215],\n",
       "       [0.85782814, 0.05810404, 0.5735264 ],\n",
       "       [0.24050164, 1.8655703 , 0.47883534]], dtype=float32)>"
      ]
     },
     "execution_count": 3,
     "metadata": {},
     "output_type": "execute_result"
    }
   ],
   "source": [
    "y = 2*X[0]\n",
    "\n",
    "y"
   ]
  },
  {
   "cell_type": "code",
   "execution_count": 4,
   "id": "04f68cd2-5ea9-452a-bc34-cd18b6148221",
   "metadata": {},
   "outputs": [
    {
     "name": "stdout",
     "output_type": "stream",
     "text": [
      "Epoch 1/50\n",
      "313/313 [==============================] - 1s 1ms/step - loss: 0.2982 - acc: 0.5886\n",
      "Epoch 2/50\n",
      "313/313 [==============================] - 0s 1ms/step - loss: 0.1584 - acc: 0.6661\n",
      "Epoch 3/50\n",
      "313/313 [==============================] - 0s 1ms/step - loss: 0.0961 - acc: 0.7488\n",
      "Epoch 4/50\n",
      "313/313 [==============================] - 0s 1ms/step - loss: 0.0552 - acc: 0.8181\n",
      "Epoch 5/50\n",
      "313/313 [==============================] - 0s 1ms/step - loss: 0.0298 - acc: 0.8668\n",
      "Epoch 6/50\n",
      "313/313 [==============================] - 0s 1ms/step - loss: 0.0152 - acc: 0.9044\n",
      "Epoch 7/50\n",
      "313/313 [==============================] - 0s 1ms/step - loss: 0.0074 - acc: 0.9328\n",
      "Epoch 8/50\n",
      "313/313 [==============================] - 0s 1ms/step - loss: 0.0035 - acc: 0.9531A: 0s - loss: 0.0045 - acc: \n",
      "Epoch 9/50\n",
      "313/313 [==============================] - 0s 1ms/step - loss: 0.0016 - acc: 0.9674\n",
      "Epoch 10/50\n",
      "313/313 [==============================] - 0s 1ms/step - loss: 7.4275e-04 - acc: 0.9784\n",
      "Epoch 11/50\n",
      "313/313 [==============================] - 0s 1ms/step - loss: 3.1452e-04 - acc: 0.9865\n",
      "Epoch 12/50\n",
      "313/313 [==============================] - 0s 1ms/step - loss: 1.1923e-04 - acc: 0.9922\n",
      "Epoch 13/50\n",
      "313/313 [==============================] - 0s 1ms/step - loss: 3.8893e-05 - acc: 0.9958\n",
      "Epoch 14/50\n",
      "313/313 [==============================] - 0s 1ms/step - loss: 1.0550e-05 - acc: 0.9978\n",
      "Epoch 15/50\n",
      "313/313 [==============================] - 0s 1ms/step - loss: 2.2991e-06 - acc: 0.9989\n",
      "Epoch 16/50\n",
      "313/313 [==============================] - 0s 1ms/step - loss: 3.8831e-07 - acc: 0.9997\n",
      "Epoch 17/50\n",
      "313/313 [==============================] - 0s 1ms/step - loss: 4.8533e-08 - acc: 0.9999\n",
      "Epoch 18/50\n",
      "313/313 [==============================] - 0s 1ms/step - loss: 4.3153e-09 - acc: 1.0000\n",
      "Epoch 19/50\n",
      "313/313 [==============================] - 0s 1ms/step - loss: 2.5726e-10 - acc: 1.0000\n",
      "Epoch 20/50\n",
      "313/313 [==============================] - 0s 1ms/step - loss: 1.3046e-11 - acc: 1.0000\n",
      "Epoch 21/50\n",
      "313/313 [==============================] - 0s 1ms/step - loss: 2.9158e-12 - acc: 1.0000\n",
      "Epoch 22/50\n",
      "313/313 [==============================] - 0s 1ms/step - loss: 1.8398e-12 - acc: 1.0000\n",
      "Epoch 23/50\n",
      "313/313 [==============================] - 0s 1ms/step - loss: 1.3777e-12 - acc: 1.0000\n",
      "Epoch 24/50\n",
      "313/313 [==============================] - 0s 1ms/step - loss: 9.4345e-13 - acc: 1.0000\n",
      "Epoch 25/50\n",
      "313/313 [==============================] - 0s 1ms/step - loss: 7.0334e-13 - acc: 1.0000\n",
      "Epoch 26/50\n",
      "313/313 [==============================] - 0s 1ms/step - loss: 5.1351e-13 - acc: 1.0000\n",
      "Epoch 27/50\n",
      "313/313 [==============================] - 0s 1ms/step - loss: 3.5246e-13 - acc: 1.0000\n",
      "Epoch 28/50\n",
      "313/313 [==============================] - 0s 1ms/step - loss: 2.4356e-13 - acc: 1.0000\n",
      "Epoch 29/50\n",
      "313/313 [==============================] - 0s 1ms/step - loss: 2.0468e-13 - acc: 1.0000\n",
      "Epoch 30/50\n",
      "313/313 [==============================] - 0s 1ms/step - loss: 1.4468e-13 - acc: 1.0000\n",
      "Epoch 31/50\n",
      "313/313 [==============================] - 0s 1ms/step - loss: 9.6843e-14 - acc: 1.0000\n",
      "Epoch 32/50\n",
      "313/313 [==============================] - 0s 1ms/step - loss: 7.0371e-14 - acc: 1.0000\n",
      "Epoch 33/50\n",
      "313/313 [==============================] - 0s 1ms/step - loss: 5.3984e-14 - acc: 1.0000\n",
      "Epoch 34/50\n",
      "313/313 [==============================] - 0s 1ms/step - loss: 3.7365e-14 - acc: 1.0000\n",
      "Epoch 35/50\n",
      "313/313 [==============================] - 0s 1ms/step - loss: 2.4637e-14 - acc: 1.0000\n",
      "Epoch 36/50\n",
      "313/313 [==============================] - 0s 1ms/step - loss: 1.9212e-14 - acc: 1.0000\n",
      "Epoch 37/50\n",
      "313/313 [==============================] - 0s 1ms/step - loss: 1.0464e-14 - acc: 1.0000A: 0s - loss: 1.0705e-14 - acc: 1.000\n",
      "Epoch 38/50\n",
      "313/313 [==============================] - 0s 1ms/step - loss: 6.6325e-15 - acc: 1.0000\n",
      "Epoch 39/50\n",
      "313/313 [==============================] - 0s 1ms/step - loss: 6.4481e-15 - acc: 1.0000\n",
      "Epoch 40/50\n",
      "313/313 [==============================] - 0s 1ms/step - loss: 6.8588e-15 - acc: 1.0000\n",
      "Epoch 41/50\n",
      "313/313 [==============================] - 0s 1ms/step - loss: 1.8389e-15 - acc: 1.0000\n",
      "Epoch 42/50\n",
      "313/313 [==============================] - 0s 1ms/step - loss: 6.8199e-21 - acc: 1.0000\n",
      "Epoch 43/50\n",
      "313/313 [==============================] - 0s 1ms/step - loss: 6.1995e-22 - acc: 1.0000\n",
      "Epoch 44/50\n",
      "313/313 [==============================] - 0s 1ms/step - loss: 1.5245e-22 - acc: 1.0000\n",
      "Epoch 45/50\n",
      "313/313 [==============================] - 0s 1ms/step - loss: 3.9424e-23 - acc: 1.0000\n",
      "Epoch 46/50\n",
      "313/313 [==============================] - 0s 1ms/step - loss: 2.1206e-23 - acc: 1.0000\n",
      "Epoch 47/50\n",
      "313/313 [==============================] - 0s 1ms/step - loss: 6.8345e-24 - acc: 1.0000\n",
      "Epoch 48/50\n",
      "313/313 [==============================] - 0s 1ms/step - loss: 3.5469e-24 - acc: 1.0000\n",
      "Epoch 49/50\n",
      "313/313 [==============================] - 0s 1ms/step - loss: 3.8981e-24 - acc: 1.0000\n",
      "Epoch 50/50\n",
      "313/313 [==============================] - 0s 1ms/step - loss: 1.8282e-24 - acc: 1.0000\n"
     ]
    },
    {
     "data": {
      "text/plain": [
       "<keras.callbacks.History at 0x26103879ca0>"
      ]
     },
     "execution_count": 4,
     "metadata": {},
     "output_type": "execute_result"
    }
   ],
   "source": [
    "model = SingleLayerPerceptron(WeightedAdd(1))\n",
    "model.compile(loss='mse', optimizer=tf.keras.optimizers.Adam(learning_rate=0.001), metrics=['acc'])\n",
    "model.fit(X, y, epochs=50, verbose=1)"
   ]
  },
  {
   "cell_type": "code",
   "execution_count": 5,
   "id": "e041544b-0c51-476a-ab87-b4008f313ecb",
   "metadata": {},
   "outputs": [
    {
     "data": {
      "text/plain": [
       "<tf.Variable 'single_layer_perceptron/weighted_add_2/kernel:0' shape=(3, 3) dtype=float32, numpy=\n",
       "array([[ 2.0000000e+00,  2.0000000e+00,  2.0000000e+00],\n",
       "       [ 2.6705839e-11,  5.4049935e-11,  3.2519296e-11],\n",
       "       [ 2.8673900e-11, -1.3488539e-12,  3.8252679e-11]], dtype=float32)>"
      ]
     },
     "execution_count": 5,
     "metadata": {},
     "output_type": "execute_result"
    }
   ],
   "source": [
    "model.output_layer.kernel"
   ]
  },
  {
   "cell_type": "code",
   "execution_count": null,
   "id": "f3757755-bf52-4cc4-8ef6-4c8cd443eee0",
   "metadata": {},
   "outputs": [],
   "source": []
  },
  {
   "cell_type": "code",
   "execution_count": null,
   "id": "d485a3d1-bf96-459b-98e0-ca09e22dcc82",
   "metadata": {},
   "outputs": [],
   "source": []
  }
 ],
 "metadata": {
  "kernelspec": {
   "display_name": "Python 3 (ipykernel)",
   "language": "python",
   "name": "python3"
  },
  "language_info": {
   "codemirror_mode": {
    "name": "ipython",
    "version": 3
   },
   "file_extension": ".py",
   "mimetype": "text/x-python",
   "name": "python",
   "nbconvert_exporter": "python",
   "pygments_lexer": "ipython3",
   "version": "3.9.7"
  }
 },
 "nbformat": 4,
 "nbformat_minor": 5
}
