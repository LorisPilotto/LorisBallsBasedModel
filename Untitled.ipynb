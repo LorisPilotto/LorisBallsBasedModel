{
 "cells": [
  {
   "cell_type": "code",
   "execution_count": 1,
   "id": "af23ed96-2bca-43c9-906b-b5978b3abd15",
   "metadata": {},
   "outputs": [],
   "source": [
    "import tensorflow as tf"
   ]
  },
  {
   "cell_type": "code",
   "execution_count": 2,
   "id": "73b7a0da-5931-44bc-8a87-63a4ca35fb8b",
   "metadata": {},
   "outputs": [],
   "source": [
    "class LayerCanCreateStates(tf.keras.layers.Layer):\n",
    "    def __init__(self,\n",
    "                 layer,\n",
    "                 create_states,\n",
    "                 **kwargs):\n",
    "        super().__init__(**kwargs)\n",
    "        self.layer = layer\n",
    "        self.create_states = create_states\n",
    "        \n",
    "    def call(self, inputs):\n",
    "        output = self.layer(inputs)\n",
    "        \n",
    "        if self.create_states:\n",
    "            states = [tf.zeros(tf.shapes(output)), tf.ones(tf.shapes(output))]\n",
    "        else:\n",
    "            states = None\n",
    "                \n",
    "        return output, states\n",
    "    \n",
    "class SingleLayerPerceptron(tf.keras.Model):\n",
    "    def __init__(self,\n",
    "                 output_layer_with_states,\n",
    "                 **kwargs):\n",
    "        super().__init__(**kwargs)\n",
    "        self.output_layer_with_states = output_layer_with_states\n",
    "        \n",
    "    def call(self, inputs):\n",
    "        output, states = self.output_layer_with_states(inputs)\n",
    "        return output"
   ]
  },
  {
   "cell_type": "code",
   "execution_count": 3,
   "id": "0249ad1d-4427-4548-804d-3d6e0e8040e8",
   "metadata": {},
   "outputs": [
    {
     "data": {
      "text/plain": [
       "<tf.Tensor: shape=(8, 1), dtype=float32, numpy=\n",
       "array([[ 0.05510553],\n",
       "       [ 0.57184964],\n",
       "       [-0.9665641 ],\n",
       "       [-0.27213472],\n",
       "       [ 1.1208997 ],\n",
       "       [-2.276863  ],\n",
       "       [ 0.80812895],\n",
       "       [ 0.7111126 ]], dtype=float32)>"
      ]
     },
     "execution_count": 3,
     "metadata": {},
     "output_type": "execute_result"
    }
   ],
   "source": [
    "inputs = tf.random.normal([8, 1])\n",
    "inputs"
   ]
  },
  {
   "cell_type": "code",
   "execution_count": 4,
   "id": "c17cb3d9-f470-480b-8567-c4fd4fc159c7",
   "metadata": {},
   "outputs": [
    {
     "data": {
      "text/plain": [
       "<tf.Tensor: shape=(8, 1), dtype=float32, numpy=\n",
       "array([[ 1.110211  ],\n",
       "       [ 2.1436992 ],\n",
       "       [-0.93312824],\n",
       "       [ 0.45573056],\n",
       "       [ 3.2417994 ],\n",
       "       [-3.5537262 ],\n",
       "       [ 2.616258  ],\n",
       "       [ 2.4222252 ]], dtype=float32)>"
      ]
     },
     "execution_count": 4,
     "metadata": {},
     "output_type": "execute_result"
    }
   ],
   "source": [
    "outputs = inputs*2 + 1\n",
    "outputs"
   ]
  },
  {
   "cell_type": "code",
   "execution_count": 5,
   "id": "c1b78e02-8ef3-4882-a0c6-e3ff37718145",
   "metadata": {},
   "outputs": [
    {
     "data": {
      "text/plain": [
       "array([[-0.06077731],\n",
       "       [-0.63070774],\n",
       "       [ 1.0660485 ],\n",
       "       [ 0.3001444 ],\n",
       "       [-1.2362691 ],\n",
       "       [ 2.511211  ],\n",
       "       [-0.8913063 ],\n",
       "       [-0.78430444]], dtype=float32)"
      ]
     },
     "execution_count": 5,
     "metadata": {},
     "output_type": "execute_result"
    }
   ],
   "source": [
    "model = SingleLayerPerceptron(LayerCanCreateStates(tf.keras.layers.Dense(1), create_states=False))\n",
    "\n",
    "model.predict(inputs)"
   ]
  },
  {
   "cell_type": "code",
   "execution_count": 6,
   "id": "19d255fa-e5cb-4267-8eba-a3639866c467",
   "metadata": {},
   "outputs": [
    {
     "data": {
      "text/plain": [
       "array([[ 1.11021   ],\n",
       "       [ 2.1436942 ],\n",
       "       [-0.93312156],\n",
       "       [ 0.45573193],\n",
       "       [ 3.24179   ],\n",
       "       [-3.5537097 ],\n",
       "       [ 2.616251  ],\n",
       "       [ 2.422219  ]], dtype=float32)"
      ]
     },
     "execution_count": 6,
     "metadata": {},
     "output_type": "execute_result"
    }
   ],
   "source": [
    "model.compile(loss='mse',\n",
    "              optimizer=tf.keras.optimizers.Adam(learning_rate=0.002))\n",
    "\n",
    "history = model.fit(inputs,\n",
    "                    outputs,\n",
    "                    epochs=5000,\n",
    "                    verbose=0)\n",
    "\n",
    "model.predict(inputs)"
   ]
  },
  {
   "cell_type": "code",
   "execution_count": 21,
   "id": "4cc156bf-7834-4dcd-a3ed-fb58931f4c51",
   "metadata": {},
   "outputs": [],
   "source": [
    "class LayerCanTakeStates(tf.keras.layers.Layer):\n",
    "    def __init__(self,\n",
    "                 layer,\n",
    "                 **kwargs):\n",
    "        super().__init__(**kwargs)\n",
    "        self.layer = layer\n",
    "        \n",
    "    def call(self, inputs, states=None):\n",
    "        output = self.layer(inputs)\n",
    "        \n",
    "        return output, states\n",
    "    \n",
    "class IdentityLayer(tf.keras.layers.Layer):\n",
    "    \"\"\"A layer that pass the input. Used to apply an activity_regularizer (well divided by the batch size).\"\"\"\n",
    "    \n",
    "    def __init__(self,\n",
    "                 activity_regularizer,\n",
    "                 **kwargs):\n",
    "        super().__init__(activity_regularizer=activity_regularizer, **kwargs)\n",
    "        self.activity_regularizer = activity_regularizer\n",
    "        \n",
    "    def call(self, inputs):\n",
    "        return inputs\n",
    "\n",
    "class MultiLayerPerceptron(tf.keras.Model):\n",
    "    def __init__(self,\n",
    "                 layers_list,\n",
    "                 **kwargs):\n",
    "        super().__init__(**kwargs)\n",
    "        self.layers_list = layers_list\n",
    "        self.I_layer = IdentityLayer(tf.keras.regularizers.L1(0.))\n",
    "        \n",
    "    def call(self, inputs):\n",
    "        inputs, states = self.layers_list[0](inputs)\n",
    "        for a_layer in self.layers_list[1:]:\n",
    "            inputs, states = a_layer(inputs, states)\n",
    "        inputs = self.I_layer(inputs)\n",
    "        return inputs"
   ]
  },
  {
   "cell_type": "code",
   "execution_count": 22,
   "id": "9e60d6ac-cda8-4199-bfe3-040b7384763c",
   "metadata": {},
   "outputs": [
    {
     "data": {
      "text/plain": [
       "array([[ 0.03944154],\n",
       "       [ 0.40929893],\n",
       "       [-0.6918141 ],\n",
       "       [-0.19477926],\n",
       "       [ 0.8022792 ],\n",
       "       [-1.629655  ],\n",
       "       [ 0.57841486],\n",
       "       [ 0.5089758 ]], dtype=float32)"
      ]
     },
     "execution_count": 22,
     "metadata": {},
     "output_type": "execute_result"
    }
   ],
   "source": [
    "model = MultiLayerPerceptron([LayerCanCreateStates(tf.keras.layers.Dense(1), create_states=False),\n",
    "                              LayerCanTakeStates(tf.keras.layers.Dense(1)),\n",
    "                              LayerCanTakeStates(tf.keras.layers.Dense(1))\n",
    "                             ])\n",
    "\n",
    "model.predict(inputs)"
   ]
  },
  {
   "cell_type": "code",
   "execution_count": 23,
   "id": "9bdc83e7-f689-4a5b-ad79-0f96688d6002",
   "metadata": {},
   "outputs": [
    {
     "data": {
      "text/plain": [
       "array([[ 1.110211  ],\n",
       "       [ 2.1436992 ],\n",
       "       [-0.93312824],\n",
       "       [ 0.45573053],\n",
       "       [ 3.2417994 ],\n",
       "       [-3.5537257 ],\n",
       "       [ 2.6162577 ],\n",
       "       [ 2.422225  ]], dtype=float32)"
      ]
     },
     "execution_count": 23,
     "metadata": {},
     "output_type": "execute_result"
    }
   ],
   "source": [
    "model.compile(loss='mse',\n",
    "              optimizer=tf.keras.optimizers.Adam(learning_rate=0.002))\n",
    "\n",
    "history = model.fit(inputs,\n",
    "                    outputs,\n",
    "                    epochs=5000,\n",
    "                    verbose=0)\n",
    "\n",
    "model.predict(inputs)"
   ]
  },
  {
   "cell_type": "code",
   "execution_count": null,
   "id": "da8513b9-2261-4057-8d4e-2d29b01b8bc6",
   "metadata": {},
   "outputs": [],
   "source": []
  }
 ],
 "metadata": {
  "kernelspec": {
   "display_name": "Python 3 (ipykernel)",
   "language": "python",
   "name": "python3"
  },
  "language_info": {
   "codemirror_mode": {
    "name": "ipython",
    "version": 3
   },
   "file_extension": ".py",
   "mimetype": "text/x-python",
   "name": "python",
   "nbconvert_exporter": "python",
   "pygments_lexer": "ipython3",
   "version": "3.9.7"
  }
 },
 "nbformat": 4,
 "nbformat_minor": 5
}
